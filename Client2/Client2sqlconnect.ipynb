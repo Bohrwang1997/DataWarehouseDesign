{
 "cells": [
  {
   "cell_type": "code",
   "execution_count": 1,
   "id": "702cc087-37d3-4a33-b231-92fde4b61390",
   "metadata": {},
   "outputs": [],
   "source": [
    "import psycopg2\n",
    "from psycopg2 import OperationalError\n",
    "\n",
    "\n",
    "def create_connection(db_name, db_user, db_password, db_host, db_port):\n",
    "    connection = None\n",
    "    try:\n",
    "        connection = psycopg2.connect(\n",
    "            database=db_name,\n",
    "            user=db_user,\n",
    "            password=db_password,\n",
    "            host=db_host,\n",
    "            port=db_port,\n",
    "        )\n",
    "        print(\"Connection to PostgreSQL DB successful\")\n",
    "    except OperationalError as e:\n",
    "        print(f\"The error '{e}' occurred\")\n",
    "    return connection"
   ]
  },
  {
   "cell_type": "code",
   "execution_count": 2,
   "id": "a7ace0d3-fbb1-4e65-8e7e-0476ddea60b3",
   "metadata": {},
   "outputs": [
    {
     "name": "stdout",
     "output_type": "stream",
     "text": [
      "Connection to PostgreSQL DB successful\n"
     ]
    }
   ],
   "source": [
    "# Connection details\n",
    "db_name = \"project1\"\n",
    "db_user = \"postgres\"\n",
    "db_password = \"postgres\"  # Update with your password\n",
    "db_host = \"pgdb\"  # Update if your DB is hosted elsewhere\n",
    "db_port = \"5432\"\n",
    "\n",
    "# Create the connection\n",
    "connection = create_connection(db_name, db_user, db_password, db_host, db_port)"
   ]
  },
  {
   "cell_type": "code",
   "execution_count": 3,
   "id": "95cbdf6e-d487-47f8-b418-aede1de5fce0",
   "metadata": {},
   "outputs": [
    {
     "name": "stdout",
     "output_type": "stream",
     "text": [
      "Tables 'dimensional tables' and 'Factables' created successfully.\n"
     ]
    }
   ],
   "source": [
    "try:\n",
    "    # Create a new cursor object\n",
    "    cursor = connection.cursor()\n",
    "\n",
    "    # Define SQL statements for creating tables\n",
    "    create_tables_queries = [\n",
    "        '''\n",
    "        CREATE TABLE IF NOT EXISTS DimHealthcost ( HealthcostID INTEGER PRIMARY KEY, \"Healthcost Level\" VARCHAR(255));\n",
    "\n",
    "        ''',\n",
    "        '''\n",
    "        CREATE TABLE IF NOT EXISTS Dimhostee ( hostID INTEGER PRIMARY KEY, \"hostbefore\" VARCHAR(255));\n",
    "\n",
    "        ''',\n",
    "        '''\n",
    "        CREATE TABLE IF NOT EXISTS Dimcountryarea ( country TEXT NOT NULL, region TEXT NOT NULL, countryID INTEGER PRIMARY KEY );\n",
    "\n",
    "        ''',\n",
    "        '''\n",
    "        CREATE TABLE IF NOT EXISTS DimInternet ( internetID INTEGER PRIMARY KEY, \"Internet Level\" VARCHAR(255));\n",
    "\n",
    "        ''',\n",
    "        '''\n",
    "        CREATE TABLE IF NOT EXISTS DimSport ( medelID INTEGER PRIMARY KEY, sportlevel VARCHAR(255));\n",
    "\n",
    "        ''',\n",
    "        '''\n",
    "        CREATE TABLE IF NOT EXISTS FactHealth ( \n",
    "            countryID bigint PRIMARY KEY, \n",
    "            \"health expenditure(GPT%)\" NUMERIC,\n",
    "            HealthcostID INTEGER, \n",
    "            InternetID INTEGER, \n",
    "            \"Average Annual Growth Rate (%)\" NUMERIC, \n",
    "            Healthdifference NUMERIC,\n",
    "            \"depressive disorders rate of Change\" NUMERIC,\n",
    "            medelID INTEGER, \n",
    "            hostID INTEGER, \n",
    "            \"GDP(pc)\" NUMERIC\n",
    "        );\n",
    "\n",
    "\n",
    "        ''',\n",
    "        '''\n",
    "        ALTER TABLE FactHealth ADD CONSTRAINT FK_countryID FOREIGN KEY (countryID) REFERENCES Dimcountryarea(countryID)\n",
    "        ''',\n",
    "        '''\n",
    "        ALTER TABLE FactHealth ADD CONSTRAINT FK_HealthcostID FOREIGN KEY (HealthcostID) REFERENCES DimHealthcost(HealthcostID)\n",
    "        ''',\n",
    "        '''\n",
    "        ALTER TABLE FactHealth ADD CONSTRAINT FK_InternetID FOREIGN KEY (InternetID) REFERENCES DimInternet(internetID)\n",
    "        ''',\n",
    "        '''\n",
    "        ALTER TABLE FactHealth ADD CONSTRAINT FK_medelID FOREIGN KEY (medelID) REFERENCES DimSport(medelID)\n",
    "        ''',\n",
    "        '''\n",
    "        ALTER TABLE FactHealth ADD CONSTRAINT FK_hostID FOREIGN KEY (hostID) REFERENCES Dimhostee(hostID)\n",
    "        '''\n",
    "    ]\n",
    "\n",
    "    # Execute each create table SQL statement\n",
    "    for query in create_tables_queries:\n",
    "        cursor.execute(query)\n",
    "\n",
    "    # Commit the changes to the database\n",
    "    connection.commit()\n",
    "    print(\"Tables 'dimensional tables' and 'Factables' created successfully.\")\n",
    "except Exception as e:\n",
    "    print(f\"An error occurred: {e}\")\n"
   ]
  },
  {
   "cell_type": "code",
   "execution_count": 4,
   "id": "1d2f1278-d5e4-4a1b-875a-8b25e23963a1",
   "metadata": {},
   "outputs": [],
   "source": [
    "def import_csv_to_table(connection, csv_file_path, table_name):\n",
    "    try:\n",
    "        cursor = connection.cursor()\n",
    "        # Construct the COPY command\n",
    "        copy_sql = f\"\"\"\n",
    "        COPY {table_name} FROM stdin WITH CSV HEADER\n",
    "        DELIMITER as ','\n",
    "        \"\"\"\n",
    "        # Open the CSV file\n",
    "        with open(csv_file_path, 'r') as f:\n",
    "            # Execute the COPY command\n",
    "            cursor.copy_expert(sql=copy_sql, file=f)\n",
    "            connection.commit()\n",
    "            print(f\"Data from '{csv_file_path}' imported successfully into '{table_name}'.\")\n",
    "    except Exception as e:\n",
    "        connection.rollback()  # Rollback on error\n",
    "        print(f\"Error: {e}\")"
   ]
  },
  {
   "cell_type": "code",
   "execution_count": 5,
   "id": "2a707a67-d912-42bb-9fd1-0ff824453e60",
   "metadata": {},
   "outputs": [
    {
     "name": "stdout",
     "output_type": "stream",
     "text": [
      "Data from './projectdata/Client2/Dimregion.csv' imported successfully into 'Dimcountryarea'.\n"
     ]
    }
   ],
   "source": [
    "# Path to your CSV file\n",
    "csv_file_path = './projectdata/Client2/Dimregion.csv'\n",
    "# Target table in your PostgreSQL database\n",
    "table_name = 'Dimcountryarea'\n",
    "\n",
    "# Import the CSV file into the PostgreSQL table\n",
    "import_csv_to_table(connection, csv_file_path, table_name)"
   ]
  },
  {
   "cell_type": "code",
   "execution_count": 6,
   "id": "3114d0cd-7ab7-4ea1-a446-cce3b0c81aaa",
   "metadata": {},
   "outputs": [
    {
     "name": "stdout",
     "output_type": "stream",
     "text": [
      "Data from './projectdata/Client2/DimHealthcostGPT.csv' imported successfully into 'DimHealthcost'.\n"
     ]
    }
   ],
   "source": [
    "# Path to your CSV file\n",
    "csv_file_path = './projectdata/Client2/DimHealthcostGPT.csv'\n",
    "# Target table in your PostgreSQL database\n",
    "table_name = 'DimHealthcost'\n",
    "\n",
    "# Import the CSV file into the PostgreSQL table\n",
    "import_csv_to_table(connection, csv_file_path, table_name)\n"
   ]
  },
  {
   "cell_type": "code",
   "execution_count": 7,
   "id": "70582401-b82f-4489-ba5e-456ddd8aedc5",
   "metadata": {},
   "outputs": [
    {
     "name": "stdout",
     "output_type": "stream",
     "text": [
      "Data from './projectdata/Client2/Dimhostee.csv' imported successfully into 'Dimhostee'.\n"
     ]
    }
   ],
   "source": [
    "# Path to your CSV file\n",
    "csv_file_path = './projectdata/Client2/Dimhostee.csv'\n",
    "# Target table in your PostgreSQL database\n",
    "table_name = 'Dimhostee'\n",
    "\n",
    "# Import the CSV file into the PostgreSQL table\n",
    "import_csv_to_table(connection, csv_file_path, table_name)\n"
   ]
  },
  {
   "cell_type": "code",
   "execution_count": 8,
   "id": "8e8d4358-3e77-4b63-afa3-031526a03a4a",
   "metadata": {},
   "outputs": [
    {
     "name": "stdout",
     "output_type": "stream",
     "text": [
      "Data from './projectdata/Client2/DimInternet.csv' imported successfully into 'DimInternet'.\n"
     ]
    }
   ],
   "source": [
    "# Path to your CSV file\n",
    "csv_file_path = './projectdata/Client2/DimInternet.csv'\n",
    "# Target table in your PostgreSQL database\n",
    "table_name = 'DimInternet'\n",
    "\n",
    "# Import the CSV file into the PostgreSQL table\n",
    "import_csv_to_table(connection, csv_file_path, table_name)\n"
   ]
  },
  {
   "cell_type": "code",
   "execution_count": 9,
   "id": "22af924f-a060-4e17-a395-f028ae4257eb",
   "metadata": {},
   "outputs": [
    {
     "name": "stdout",
     "output_type": "stream",
     "text": [
      "Data from './projectdata/Client2/DimSport.csv' imported successfully into 'DimSport'.\n"
     ]
    }
   ],
   "source": [
    "# Path to your CSV file\n",
    "csv_file_path = './projectdata/Client2/DimSport.csv'\n",
    "# Target table in your PostgreSQL database\n",
    "table_name = 'DimSport'\n",
    "\n",
    "# Import the CSV file into the PostgreSQL table\n",
    "import_csv_to_table(connection, csv_file_path, table_name)\n"
   ]
  },
  {
   "cell_type": "code",
   "execution_count": 10,
   "id": "43bfc752-1384-457e-b3ee-8301a25d2aa6",
   "metadata": {},
   "outputs": [
    {
     "name": "stdout",
     "output_type": "stream",
     "text": [
      "Data from './projectdata/Client2/FactHealth.csv' imported successfully into 'FactHealth'.\n"
     ]
    }
   ],
   "source": [
    "# Path to your CSV file\n",
    "csv_file_path = './projectdata/Client2/FactHealth.csv'\n",
    "# Target table in your PostgreSQL database\n",
    "table_name = 'FactHealth'\n",
    "\n",
    "# Import the CSV file into the PostgreSQL table\n",
    "import_csv_to_table(connection, csv_file_path, table_name)"
   ]
  },
  {
   "cell_type": "code",
   "execution_count": 11,
   "id": "93ab0c0d-6c17-4343-8521-5d1873bd5f25",
   "metadata": {},
   "outputs": [],
   "source": [
    "cursor.close()\n",
    "connection.close()"
   ]
  }
 ],
 "metadata": {
  "kernelspec": {
   "display_name": "Python 3 (ipykernel)",
   "language": "python",
   "name": "python3"
  },
  "language_info": {
   "codemirror_mode": {
    "name": "ipython",
    "version": 3
   },
   "file_extension": ".py",
   "mimetype": "text/x-python",
   "name": "python",
   "nbconvert_exporter": "python",
   "pygments_lexer": "ipython3",
   "version": "3.11.6"
  }
 },
 "nbformat": 4,
 "nbformat_minor": 5
}
