{
 "cells": [
  {
   "cell_type": "markdown",
   "id": "186ceb2ddf615eea",
   "metadata": {
    "collapsed": false,
    "jupyter": {
     "outputs_hidden": false
    }
   },
   "source": [
    "# Client 2 analysis\n",
    "This aims to implement a cube and do presentation\n",
    "## Cube"
   ]
  },
  {
   "cell_type": "code",
   "execution_count": 1,
   "id": "initial_id",
   "metadata": {},
   "outputs": [
    {
     "name": "stdout",
     "output_type": "stream",
     "text": [
      "Welcome to Atoti 0.8.10!\n",
      "\n",
      "By using this community edition, you agree with the license available at https://docs.atoti.io/latest/eula.html.\n",
      "Browse the official documentation at https://docs.atoti.io.\n",
      "Join the community at https://www.atoti.io/register.\n",
      "\n",
      "Atoti collects telemetry data, which is used to help understand how to improve the product.\n",
      "If you don't wish to send usage data, you can request a trial license at https://www.atoti.io/evaluation-license-request.\n",
      "\n",
      "You can hide this message by setting the `ATOTI_HIDE_EULA_MESSAGE` environment variable to True.\n"
     ]
    }
   ],
   "source": [
    "import atoti as tt"
   ]
  },
  {
   "cell_type": "code",
   "execution_count": 2,
   "id": "1ce9e2fb78351f0d",
   "metadata": {
    "collapsed": false,
    "jupyter": {
     "outputs_hidden": false
    }
   },
   "outputs": [],
   "source": [
    "session = tt.Session(\n",
    "    user_content_storage=\".content\",\n",
    "    port=9092,\n",
    "    java_options=[\"-Xms1G\", \"-Xmx10G\"]\n",
    ")"
   ]
  },
  {
   "cell_type": "code",
   "execution_count": 3,
   "id": "8d2096c5d9043d33",
   "metadata": {
    "collapsed": false,
    "jupyter": {
     "outputs_hidden": false
    }
   },
   "outputs": [],
   "source": [
    "db_name = \"project1\"\n",
    "db_user = \"postgres\"\n",
    "db_password = \"postgres\"  # Update with your password\n",
    "db_host = \"pgdb\"  # Update if your DB is hosted elsewhere\n",
    "db_port = \"5432\"\n",
    "\n",
    "jdbc_url = f\"jdbc:postgresql://{db_host}:{db_port}/{db_name}?user={db_user}&password={db_password}\""
   ]
  },
  {
   "cell_type": "code",
   "execution_count": 4,
   "id": "744b8e4f-a1b0-4f7b-914f-9b24319a0ea5",
   "metadata": {},
   "outputs": [],
   "source": [
    "Mentalillness = session.read_sql(\n",
    "    \"SELECT * FROM FactHealth\",\n",
    "    keys=[\"countryid\"],\n",
    "    table_name=\"Mentalillness\",\n",
    "    url=jdbc_url,\n",
    ")"
   ]
  },
  {
   "cell_type": "code",
   "execution_count": 5,
   "id": "d342d8d3-417b-4f00-81f5-334869f829a1",
   "metadata": {},
   "outputs": [],
   "source": [
    "dimRegiontable = session.read_sql(\n",
    "    \"SELECT * FROM Dimcountryarea\",\n",
    "    keys=[\"countryid\"],\n",
    "    table_name=\"Region\",\n",
    "    url=jdbc_url)"
   ]
  },
  {
   "cell_type": "code",
   "execution_count": 6,
   "id": "828e934c-6723-4911-82ec-9759a2fff9fe",
   "metadata": {},
   "outputs": [],
   "source": [
    "DimHealthcostGPT = session.read_sql(\n",
    "    \"SELECT * FROM DimHealthcost\",\n",
    "    keys=[\"healthcostid\"],\n",
    "    table_name=\"HealthcostGPT\",\n",
    "    url=jdbc_url\n",
    ")"
   ]
  },
  {
   "cell_type": "code",
   "execution_count": 7,
   "id": "47d5d135-02d8-48b0-ba4e-5e00a692cee1",
   "metadata": {},
   "outputs": [],
   "source": [
    "DimInternet = session.read_sql(\n",
    "    \"SELECT * FROM DimInternet\",\n",
    "    keys=[\"internetid\"],\n",
    "    table_name=\"Internetpercountry\",\n",
    "    url=jdbc_url\n",
    ")"
   ]
  },
  {
   "cell_type": "code",
   "execution_count": 8,
   "id": "fdfcc73e-9d56-4020-bf5f-b1e774c033a9",
   "metadata": {},
   "outputs": [],
   "source": [
    "Dimhostee = session.read_sql(\n",
    "    \"SELECT * FROM Dimhostee\",\n",
    "    keys=[\"hostid\"],\n",
    "    table_name=\"hostcountry\",\n",
    "    url=jdbc_url\n",
    ")"
   ]
  },
  {
   "cell_type": "code",
   "execution_count": 9,
   "id": "151270cf-6b07-439b-a9c9-0a0ac3660bd5",
   "metadata": {},
   "outputs": [],
   "source": [
    "Sportdim = session.read_sql(\n",
    "    \"SELECT * FROM DimSport\",\n",
    "    keys=[\"medelid\"],\n",
    "    table_name=\"Sport level\",\n",
    "    url=jdbc_url\n",
    ")"
   ]
  },
  {
   "cell_type": "code",
   "execution_count": 10,
   "id": "e971bb41-0045-4abf-85e0-edb77988bd78",
   "metadata": {},
   "outputs": [
    {
     "data": {
      "text/html": [
       "<div>\n",
       "<style scoped>\n",
       "    .dataframe tbody tr th:only-of-type {\n",
       "        vertical-align: middle;\n",
       "    }\n",
       "\n",
       "    .dataframe tbody tr th {\n",
       "        vertical-align: top;\n",
       "    }\n",
       "\n",
       "    .dataframe thead th {\n",
       "        text-align: right;\n",
       "    }\n",
       "</style>\n",
       "<table border=\"1\" class=\"dataframe\">\n",
       "  <thead>\n",
       "    <tr style=\"text-align: right;\">\n",
       "      <th></th>\n",
       "      <th>health expenditure(GPT%)</th>\n",
       "      <th>healthcostid</th>\n",
       "      <th>internetid</th>\n",
       "      <th>Average Annual Growth Rate (%)</th>\n",
       "      <th>healthdifference</th>\n",
       "      <th>depressive disorders rate of Change</th>\n",
       "      <th>medelid</th>\n",
       "      <th>hostid</th>\n",
       "      <th>GDP(pc)</th>\n",
       "    </tr>\n",
       "    <tr>\n",
       "      <th>countryid</th>\n",
       "      <th></th>\n",
       "      <th></th>\n",
       "      <th></th>\n",
       "      <th></th>\n",
       "      <th></th>\n",
       "      <th></th>\n",
       "      <th></th>\n",
       "      <th></th>\n",
       "      <th></th>\n",
       "    </tr>\n",
       "  </thead>\n",
       "  <tbody>\n",
       "    <tr>\n",
       "      <th>13</th>\n",
       "      <td>4.36498</td>\n",
       "      <td>3</td>\n",
       "      <td>3</td>\n",
       "      <td>2.289044</td>\n",
       "      <td>-52.856722</td>\n",
       "      <td>-0.68531</td>\n",
       "      <td>3</td>\n",
       "      <td>0</td>\n",
       "      <td>3571.556907</td>\n",
       "    </tr>\n",
       "    <tr>\n",
       "      <th>21</th>\n",
       "      <td>11.977593</td>\n",
       "      <td>2</td>\n",
       "      <td>3</td>\n",
       "      <td>0.653723</td>\n",
       "      <td>3320.718908</td>\n",
       "      <td>-3.869335</td>\n",
       "      <td>2</td>\n",
       "      <td>1</td>\n",
       "      <td>40318.41692</td>\n",
       "    </tr>\n",
       "    <tr>\n",
       "      <th>33</th>\n",
       "      <td>6.32118</td>\n",
       "      <td>3</td>\n",
       "      <td>3</td>\n",
       "      <td>1.831519</td>\n",
       "      <td>54.167757</td>\n",
       "      <td>-5.84975</td>\n",
       "      <td>3</td>\n",
       "      <td>0</td>\n",
       "      <td>3354.157303</td>\n",
       "    </tr>\n",
       "    <tr>\n",
       "      <th>48</th>\n",
       "      <td>5.173518</td>\n",
       "      <td>3</td>\n",
       "      <td>3</td>\n",
       "      <td>0.895754</td>\n",
       "      <td>-17.11088</td>\n",
       "      <td>4.182814</td>\n",
       "      <td>3</td>\n",
       "      <td>0</td>\n",
       "      <td>1139.189892</td>\n",
       "    </tr>\n",
       "    <tr>\n",
       "      <th>57</th>\n",
       "      <td>4.308119</td>\n",
       "      <td>3</td>\n",
       "      <td>3</td>\n",
       "      <td>3.231297</td>\n",
       "      <td>1.52738</td>\n",
       "      <td>4.251002</td>\n",
       "      <td>3</td>\n",
       "      <td>0</td>\n",
       "      <td>822.906137</td>\n",
       "    </tr>\n",
       "  </tbody>\n",
       "</table>\n",
       "</div>"
      ],
      "text/plain": [
       "           health expenditure(GPT%)  healthcostid  internetid  \\\n",
       "countryid                                                       \n",
       "13                          4.36498             3           3   \n",
       "21                        11.977593             2           3   \n",
       "33                          6.32118             3           3   \n",
       "48                         5.173518             3           3   \n",
       "57                         4.308119             3           3   \n",
       "\n",
       "           Average Annual Growth Rate (%)  healthdifference  \\\n",
       "countryid                                                     \n",
       "13                               2.289044        -52.856722   \n",
       "21                               0.653723       3320.718908   \n",
       "33                               1.831519         54.167757   \n",
       "48                               0.895754         -17.11088   \n",
       "57                               3.231297           1.52738   \n",
       "\n",
       "           depressive disorders rate of Change  medelid  hostid      GDP(pc)  \n",
       "countryid                                                                     \n",
       "13                                    -0.68531        3       0  3571.556907  \n",
       "21                                   -3.869335        2       1  40318.41692  \n",
       "33                                    -5.84975        3       0  3354.157303  \n",
       "48                                    4.182814        3       0  1139.189892  \n",
       "57                                    4.251002        3       0   822.906137  "
      ]
     },
     "execution_count": 10,
     "metadata": {},
     "output_type": "execute_result"
    }
   ],
   "source": [
    "Mentalillness.head()"
   ]
  },
  {
   "cell_type": "code",
   "execution_count": 11,
   "id": "3bb09fbd-1d25-472b-b5c9-f4ead3f96795",
   "metadata": {},
   "outputs": [],
   "source": [
    "Mentalillness.join(dimRegiontable, Mentalillness[\"countryid\"] == dimRegiontable[\"countryid\"])"
   ]
  },
  {
   "cell_type": "code",
   "execution_count": 12,
   "id": "a2ee4df7-a3ea-4d34-91e9-c83312d48e7e",
   "metadata": {},
   "outputs": [],
   "source": [
    "Mentalillness.join(DimHealthcostGPT, Mentalillness[\"healthcostid\"] == DimHealthcostGPT[\"healthcostid\"])"
   ]
  },
  {
   "cell_type": "code",
   "execution_count": 13,
   "id": "99b1cec9-c379-4072-aab8-c94bd3cc7e4a",
   "metadata": {},
   "outputs": [],
   "source": [
    "Mentalillness.join(DimInternet,\n",
    "                         Mentalillness[\"internetid\"] == DimInternet[\"internetid\"])"
   ]
  },
  {
   "cell_type": "code",
   "execution_count": 14,
   "id": "88446da1-0e91-496c-930b-b3bd7b522549",
   "metadata": {},
   "outputs": [],
   "source": [
    "Mentalillness.join(Dimhostee, Mentalillness[\"hostid\"] == Dimhostee[\"hostid\"])"
   ]
  },
  {
   "cell_type": "code",
   "execution_count": 15,
   "id": "7684b3fb-c202-47ed-88c9-4534be175082",
   "metadata": {},
   "outputs": [],
   "source": [
    "Mentalillness.join(Sportdim, Mentalillness[\"medelid\"] == Sportdim[\"medelid\"])"
   ]
  },
  {
   "cell_type": "code",
   "execution_count": 16,
   "id": "11350840-0849-45ec-9b28-a535b5aa8975",
   "metadata": {},
   "outputs": [
    {
     "data": {
      "text/markdown": [
       "```mermaid\n",
       "erDiagram\n",
       "  \"Mentalillness\" {\n",
       "    _ long PK \"countryid\"\n",
       "    nullable double \"health expenditure(GPT%)\"\n",
       "    nullable int \"healthcostid\"\n",
       "    nullable int \"internetid\"\n",
       "    nullable double \"Average Annual Growth Rate (%)\"\n",
       "    nullable double \"healthdifference\"\n",
       "    nullable double \"depressive disorders rate of Change\"\n",
       "    nullable int \"medelid\"\n",
       "    nullable int \"hostid\"\n",
       "    nullable double \"GDP(pc)\"\n",
       "  }\n",
       "  \"hostcountry\" {\n",
       "    _ int PK \"hostid\"\n",
       "    _ String \"hostbefore\"\n",
       "  }\n",
       "  \"Sport level\" {\n",
       "    _ int PK \"medelid\"\n",
       "    _ String \"sportlevel\"\n",
       "  }\n",
       "  \"Region\" {\n",
       "    _ String \"country\"\n",
       "    _ String \"region\"\n",
       "    _ long PK \"countryid\"\n",
       "  }\n",
       "  \"Internetpercountry\" {\n",
       "    _ int PK \"internetid\"\n",
       "    _ String \"Internet Level\"\n",
       "  }\n",
       "  \"HealthcostGPT\" {\n",
       "    _ int PK \"healthcostid\"\n",
       "    _ String \"Healthcost Level\"\n",
       "  }\n",
       "  \"Mentalillness\" }o--o| \"Region\" : \"`countryid` == `countryid`\"\n",
       "  \"Mentalillness\" }o--o| \"Internetpercountry\" : \"`internetid` == `internetid`\"\n",
       "  \"Mentalillness\" }o--o| \"HealthcostGPT\" : \"`healthcostid` == `healthcostid`\"\n",
       "  \"Mentalillness\" }o--o| \"Sport level\" : \"`medelid` == `medelid`\"\n",
       "  \"Mentalillness\" }o--o| \"hostcountry\" : \"`hostid` == `hostid`\"\n",
       "```\n"
      ],
      "text/plain": [
       "erDiagram\n",
       "  \"Mentalillness\" {\n",
       "    _ long PK \"countryid\"\n",
       "    nullable double \"health expenditure(GPT%)\"\n",
       "    nullable int \"healthcostid\"\n",
       "    nullable int \"internetid\"\n",
       "    nullable double \"Average Annual Growth Rate (%)\"\n",
       "    nullable double \"healthdifference\"\n",
       "    nullable double \"depressive disorders rate of Change\"\n",
       "    nullable int \"medelid\"\n",
       "    nullable int \"hostid\"\n",
       "    nullable double \"GDP(pc)\"\n",
       "  }\n",
       "  \"hostcountry\" {\n",
       "    _ int PK \"hostid\"\n",
       "    _ String \"hostbefore\"\n",
       "  }\n",
       "  \"Sport level\" {\n",
       "    _ int PK \"medelid\"\n",
       "    _ String \"sportlevel\"\n",
       "  }\n",
       "  \"Region\" {\n",
       "    _ String \"country\"\n",
       "    _ String \"region\"\n",
       "    _ long PK \"countryid\"\n",
       "  }\n",
       "  \"Internetpercountry\" {\n",
       "    _ int PK \"internetid\"\n",
       "    _ String \"Internet Level\"\n",
       "  }\n",
       "  \"HealthcostGPT\" {\n",
       "    _ int PK \"healthcostid\"\n",
       "    _ String \"Healthcost Level\"\n",
       "  }\n",
       "  \"Mentalillness\" }o--o| \"Region\" : \"`countryid` == `countryid`\"\n",
       "  \"Mentalillness\" }o--o| \"Internetpercountry\" : \"`internetid` == `internetid`\"\n",
       "  \"Mentalillness\" }o--o| \"HealthcostGPT\" : \"`healthcostid` == `healthcostid`\"\n",
       "  \"Mentalillness\" }o--o| \"Sport level\" : \"`medelid` == `medelid`\"\n",
       "  \"Mentalillness\" }o--o| \"hostcountry\" : \"`hostid` == `hostid`\""
      ]
     },
     "execution_count": 16,
     "metadata": {},
     "output_type": "execute_result"
    }
   ],
   "source": [
    "session.tables.schema"
   ]
  },
  {
   "cell_type": "code",
   "execution_count": 17,
   "id": "cef318a0-52c2-4c1a-a1c0-295b966aa4cf",
   "metadata": {},
   "outputs": [],
   "source": [
    "cube = session.create_cube(Mentalillness)"
   ]
  },
  {
   "cell_type": "code",
   "execution_count": 18,
   "id": "16e2c037-0119-4732-b927-df06479addd9",
   "metadata": {},
   "outputs": [
    {
     "data": {
      "application/json": {
       "Dimensions": {
        "HealthcostGPT": {
         "Healthcost Level": [
          "Healthcost Level"
         ]
        },
        "Internetpercountry": {
         "Internet Level": [
          "Internet Level"
         ]
        },
        "Mentalillness": {
         "countryid": [
          "countryid"
         ]
        },
        "Region": {
         "country": [
          "country"
         ],
         "region": [
          "region"
         ]
        },
        "Sport level": {
         "sportlevel": [
          "sportlevel"
         ]
        },
        "hostcountry": {
         "hostbefore": [
          "hostbefore"
         ]
        }
       },
       "Measures": {
        "Average Annual Growth Rate (%).MEAN": {
         "formatter": "DOUBLE[#,###.00]"
        },
        "Average Annual Growth Rate (%).SUM": {
         "formatter": "DOUBLE[#,###.00]"
        },
        "GDP(pc).MEAN": {
         "formatter": "DOUBLE[#,###.00]"
        },
        "GDP(pc).SUM": {
         "formatter": "DOUBLE[#,###.00]"
        },
        "contributors.COUNT": {
         "formatter": "INT[#,###]"
        },
        "depressive disorders rate of Change.MEAN": {
         "formatter": "DOUBLE[#,###.00]"
        },
        "depressive disorders rate of Change.SUM": {
         "formatter": "DOUBLE[#,###.00]"
        },
        "health expenditure(GPT%).MEAN": {
         "formatter": "DOUBLE[#,###.00]"
        },
        "health expenditure(GPT%).SUM": {
         "formatter": "DOUBLE[#,###.00]"
        },
        "healthcostid.MEAN": {
         "formatter": "DOUBLE[#,###.00]"
        },
        "healthcostid.SUM": {
         "formatter": "INT[#,###]"
        },
        "healthdifference.MEAN": {
         "formatter": "DOUBLE[#,###.00]"
        },
        "healthdifference.SUM": {
         "formatter": "DOUBLE[#,###.00]"
        },
        "hostid.MEAN": {
         "formatter": "DOUBLE[#,###.00]"
        },
        "hostid.SUM": {
         "formatter": "INT[#,###]"
        },
        "internetid.MEAN": {
         "formatter": "DOUBLE[#,###.00]"
        },
        "internetid.SUM": {
         "formatter": "INT[#,###]"
        },
        "medelid.MEAN": {
         "formatter": "DOUBLE[#,###.00]"
        },
        "medelid.SUM": {
         "formatter": "INT[#,###]"
        }
       }
      },
      "text/html": [
       "<ul>\n",
       "<li>Mentalillness\n",
       "  <ul>\n",
       "  <li>Dimensions\n",
       "    <ul>\n",
       "    <li>HealthcostGPT\n",
       "      <ul>\n",
       "      <li>Healthcost Level\n",
       "        <ol>\n",
       "        <li>Healthcost Level</li>\n",
       "        </ol>      </li>\n",
       "      </ul>\n",
       "    </li>\n",
       "    <li>Internetpercountry\n",
       "      <ul>\n",
       "      <li>Internet Level\n",
       "        <ol>\n",
       "        <li>Internet Level</li>\n",
       "        </ol>      </li>\n",
       "      </ul>\n",
       "    </li>\n",
       "    <li>Mentalillness\n",
       "      <ul>\n",
       "      <li>countryid\n",
       "        <ol>\n",
       "        <li>countryid</li>\n",
       "        </ol>      </li>\n",
       "      </ul>\n",
       "    </li>\n",
       "    <li>Region\n",
       "      <ul>\n",
       "      <li>country\n",
       "        <ol>\n",
       "        <li>country</li>\n",
       "        </ol>      </li>\n",
       "      <li>region\n",
       "        <ol>\n",
       "        <li>region</li>\n",
       "        </ol>      </li>\n",
       "      </ul>\n",
       "    </li>\n",
       "    <li>Sport level\n",
       "      <ul>\n",
       "      <li>sportlevel\n",
       "        <ol>\n",
       "        <li>sportlevel</li>\n",
       "        </ol>      </li>\n",
       "      </ul>\n",
       "    </li>\n",
       "    <li>hostcountry\n",
       "      <ul>\n",
       "      <li>hostbefore\n",
       "        <ol>\n",
       "        <li>hostbefore</li>\n",
       "        </ol>      </li>\n",
       "      </ul>\n",
       "    </li>\n",
       "    </ul>\n",
       "  </li>\n",
       "  <li>Measures\n",
       "    <ul>\n",
       "    <li>Average Annual Growth Rate (%).MEAN\n",
       "      <ul>\n",
       "      <li>formatter: DOUBLE[#,###.00]</li>\n",
       "      </ul>\n",
       "    </li>\n",
       "    <li>Average Annual Growth Rate (%).SUM\n",
       "      <ul>\n",
       "      <li>formatter: DOUBLE[#,###.00]</li>\n",
       "      </ul>\n",
       "    </li>\n",
       "    <li>GDP(pc).MEAN\n",
       "      <ul>\n",
       "      <li>formatter: DOUBLE[#,###.00]</li>\n",
       "      </ul>\n",
       "    </li>\n",
       "    <li>GDP(pc).SUM\n",
       "      <ul>\n",
       "      <li>formatter: DOUBLE[#,###.00]</li>\n",
       "      </ul>\n",
       "    </li>\n",
       "    <li>contributors.COUNT\n",
       "      <ul>\n",
       "      <li>formatter: INT[#,###]</li>\n",
       "      </ul>\n",
       "    </li>\n",
       "    <li>depressive disorders rate of Change.MEAN\n",
       "      <ul>\n",
       "      <li>formatter: DOUBLE[#,###.00]</li>\n",
       "      </ul>\n",
       "    </li>\n",
       "    <li>depressive disorders rate of Change.SUM\n",
       "      <ul>\n",
       "      <li>formatter: DOUBLE[#,###.00]</li>\n",
       "      </ul>\n",
       "    </li>\n",
       "    <li>health expenditure(GPT%).MEAN\n",
       "      <ul>\n",
       "      <li>formatter: DOUBLE[#,###.00]</li>\n",
       "      </ul>\n",
       "    </li>\n",
       "    <li>health expenditure(GPT%).SUM\n",
       "      <ul>\n",
       "      <li>formatter: DOUBLE[#,###.00]</li>\n",
       "      </ul>\n",
       "    </li>\n",
       "    <li>healthcostid.MEAN\n",
       "      <ul>\n",
       "      <li>formatter: DOUBLE[#,###.00]</li>\n",
       "      </ul>\n",
       "    </li>\n",
       "    <li>healthcostid.SUM\n",
       "      <ul>\n",
       "      <li>formatter: INT[#,###]</li>\n",
       "      </ul>\n",
       "    </li>\n",
       "    <li>healthdifference.MEAN\n",
       "      <ul>\n",
       "      <li>formatter: DOUBLE[#,###.00]</li>\n",
       "      </ul>\n",
       "    </li>\n",
       "    <li>healthdifference.SUM\n",
       "      <ul>\n",
       "      <li>formatter: DOUBLE[#,###.00]</li>\n",
       "      </ul>\n",
       "    </li>\n",
       "    <li>hostid.MEAN\n",
       "      <ul>\n",
       "      <li>formatter: DOUBLE[#,###.00]</li>\n",
       "      </ul>\n",
       "    </li>\n",
       "    <li>hostid.SUM\n",
       "      <ul>\n",
       "      <li>formatter: INT[#,###]</li>\n",
       "      </ul>\n",
       "    </li>\n",
       "    <li>internetid.MEAN\n",
       "      <ul>\n",
       "      <li>formatter: DOUBLE[#,###.00]</li>\n",
       "      </ul>\n",
       "    </li>\n",
       "    <li>internetid.SUM\n",
       "      <ul>\n",
       "      <li>formatter: INT[#,###]</li>\n",
       "      </ul>\n",
       "    </li>\n",
       "    <li>medelid.MEAN\n",
       "      <ul>\n",
       "      <li>formatter: DOUBLE[#,###.00]</li>\n",
       "      </ul>\n",
       "    </li>\n",
       "    <li>medelid.SUM\n",
       "      <ul>\n",
       "      <li>formatter: INT[#,###]</li>\n",
       "      </ul>\n",
       "    </li>\n",
       "    </ul>\n",
       "  </li>\n",
       "  </ul>\n",
       "</li>\n",
       "</ul>\n"
      ],
      "text/plain": [
       "<atoti.cube.Cube at 0x7fe28dde6b90>"
      ]
     },
     "execution_count": 18,
     "metadata": {
      "application/json": {
       "expanded": false,
       "root": "Mentalillness"
      }
     },
     "output_type": "execute_result"
    }
   ],
   "source": [
    "cube"
   ]
  },
  {
   "cell_type": "code",
   "execution_count": 19,
   "id": "6cf0fe21-c3fb-4b65-9965-065de9277395",
   "metadata": {},
   "outputs": [],
   "source": [
    "hierarchies, levels, measures = cube.hierarchies, cube.levels, cube.measures"
   ]
  },
  {
   "cell_type": "code",
   "execution_count": 20,
   "id": "e619517c-2f79-4169-b201-64fbff5d418e",
   "metadata": {},
   "outputs": [
    {
     "data": {
      "application/json": {
       "HealthcostGPT": {
        "Healthcost Level": [
         "Healthcost Level"
        ]
       },
       "Internetpercountry": {
        "Internet Level": [
         "Internet Level"
        ]
       },
       "Mentalillness": {
        "countryid": [
         "countryid"
        ]
       },
       "Region": {
        "country": [
         "country"
        ],
        "region": [
         "region"
        ]
       },
       "Sport level": {
        "sportlevel": [
         "sportlevel"
        ]
       },
       "hostcountry": {
        "hostbefore": [
         "hostbefore"
        ]
       }
      },
      "text/html": [
       "<ul>\n",
       "<li>Dimensions\n",
       "  <ul>\n",
       "  <li>HealthcostGPT\n",
       "    <ul>\n",
       "    <li>Healthcost Level\n",
       "      <ol>\n",
       "      <li>Healthcost Level</li>\n",
       "      </ol>    </li>\n",
       "    </ul>\n",
       "  </li>\n",
       "  <li>Internetpercountry\n",
       "    <ul>\n",
       "    <li>Internet Level\n",
       "      <ol>\n",
       "      <li>Internet Level</li>\n",
       "      </ol>    </li>\n",
       "    </ul>\n",
       "  </li>\n",
       "  <li>Mentalillness\n",
       "    <ul>\n",
       "    <li>countryid\n",
       "      <ol>\n",
       "      <li>countryid</li>\n",
       "      </ol>    </li>\n",
       "    </ul>\n",
       "  </li>\n",
       "  <li>Region\n",
       "    <ul>\n",
       "    <li>country\n",
       "      <ol>\n",
       "      <li>country</li>\n",
       "      </ol>    </li>\n",
       "    <li>region\n",
       "      <ol>\n",
       "      <li>region</li>\n",
       "      </ol>    </li>\n",
       "    </ul>\n",
       "  </li>\n",
       "  <li>Sport level\n",
       "    <ul>\n",
       "    <li>sportlevel\n",
       "      <ol>\n",
       "      <li>sportlevel</li>\n",
       "      </ol>    </li>\n",
       "    </ul>\n",
       "  </li>\n",
       "  <li>hostcountry\n",
       "    <ul>\n",
       "    <li>hostbefore\n",
       "      <ol>\n",
       "      <li>hostbefore</li>\n",
       "      </ol>    </li>\n",
       "    </ul>\n",
       "  </li>\n",
       "  </ul>\n",
       "</li>\n",
       "</ul>\n"
      ],
      "text/plain": [
       "{('HealthcostGPT', 'Healthcost Level'): <atoti.hierarchy.Hierarchy object at 0x7fe28de2d9d0>, ('Region', 'country'): <atoti.hierarchy.Hierarchy object at 0x7fe28c452fd0>, ('Region', 'region'): <atoti.hierarchy.Hierarchy object at 0x7fe28c4530d0>, ('Mentalillness', 'countryid'): <atoti.hierarchy.Hierarchy object at 0x7fe28c453190>, ('hostcountry', 'hostbefore'): <atoti.hierarchy.Hierarchy object at 0x7fe28c453250>, ('Internetpercountry', 'Internet Level'): <atoti.hierarchy.Hierarchy object at 0x7fe28c453310>, ('Sport level', 'sportlevel'): <atoti.hierarchy.Hierarchy object at 0x7fe28c4533d0>}"
      ]
     },
     "execution_count": 20,
     "metadata": {
      "application/json": {
       "expanded": true,
       "root": "Dimensions"
      }
     },
     "output_type": "execute_result"
    }
   ],
   "source": [
    "# original hierarchies\n",
    "hierarchies"
   ]
  },
  {
   "cell_type": "code",
   "execution_count": 21,
   "id": "dd91e63e-43f5-46bf-8e0d-8da58157f852",
   "metadata": {},
   "outputs": [
    {
     "data": {
      "application/json": {
       "Healthcost Level (HealthcostGPT/Healthcost Level/Healthcost Level)": {
        "dimension": "HealthcostGPT",
        "hierarchy": "Healthcost Level",
        "order": "NaturalOrder",
        "type": "String"
       },
       "Internet Level (Internetpercountry/Internet Level/Internet Level)": {
        "dimension": "Internetpercountry",
        "hierarchy": "Internet Level",
        "order": "NaturalOrder",
        "type": "String"
       },
       "country (Region/country/country)": {
        "dimension": "Region",
        "hierarchy": "country",
        "order": "NaturalOrder",
        "type": "String"
       },
       "countryid (Mentalillness/countryid/countryid)": {
        "dimension": "Mentalillness",
        "hierarchy": "countryid",
        "order": "NaturalOrder",
        "type": "long"
       },
       "hostbefore (hostcountry/hostbefore/hostbefore)": {
        "dimension": "hostcountry",
        "hierarchy": "hostbefore",
        "order": "NaturalOrder",
        "type": "String"
       },
       "region (Region/region/region)": {
        "dimension": "Region",
        "hierarchy": "region",
        "order": "NaturalOrder",
        "type": "String"
       },
       "sportlevel (Sport level/sportlevel/sportlevel)": {
        "dimension": "Sport level",
        "hierarchy": "sportlevel",
        "order": "NaturalOrder",
        "type": "String"
       }
      },
      "text/html": [
       "<ul>\n",
       "<li>Levels\n",
       "  <ul>\n",
       "  <li>Healthcost Level (HealthcostGPT/Healthcost Level/Healthcost Level)\n",
       "    <ul>\n",
       "    <li>dimension: HealthcostGPT</li>\n",
       "    <li>hierarchy: Healthcost Level</li>\n",
       "    <li>type: String</li>\n",
       "    <li>order: NaturalOrder</li>\n",
       "    </ul>\n",
       "  </li>\n",
       "  <li>Internet Level (Internetpercountry/Internet Level/Internet Level)\n",
       "    <ul>\n",
       "    <li>dimension: Internetpercountry</li>\n",
       "    <li>hierarchy: Internet Level</li>\n",
       "    <li>type: String</li>\n",
       "    <li>order: NaturalOrder</li>\n",
       "    </ul>\n",
       "  </li>\n",
       "  <li>country (Region/country/country)\n",
       "    <ul>\n",
       "    <li>dimension: Region</li>\n",
       "    <li>hierarchy: country</li>\n",
       "    <li>type: String</li>\n",
       "    <li>order: NaturalOrder</li>\n",
       "    </ul>\n",
       "  </li>\n",
       "  <li>countryid (Mentalillness/countryid/countryid)\n",
       "    <ul>\n",
       "    <li>dimension: Mentalillness</li>\n",
       "    <li>hierarchy: countryid</li>\n",
       "    <li>type: long</li>\n",
       "    <li>order: NaturalOrder</li>\n",
       "    </ul>\n",
       "  </li>\n",
       "  <li>hostbefore (hostcountry/hostbefore/hostbefore)\n",
       "    <ul>\n",
       "    <li>dimension: hostcountry</li>\n",
       "    <li>hierarchy: hostbefore</li>\n",
       "    <li>type: String</li>\n",
       "    <li>order: NaturalOrder</li>\n",
       "    </ul>\n",
       "  </li>\n",
       "  <li>region (Region/region/region)\n",
       "    <ul>\n",
       "    <li>dimension: Region</li>\n",
       "    <li>hierarchy: region</li>\n",
       "    <li>type: String</li>\n",
       "    <li>order: NaturalOrder</li>\n",
       "    </ul>\n",
       "  </li>\n",
       "  <li>sportlevel (Sport level/sportlevel/sportlevel)\n",
       "    <ul>\n",
       "    <li>dimension: Sport level</li>\n",
       "    <li>hierarchy: sportlevel</li>\n",
       "    <li>type: String</li>\n",
       "    <li>order: NaturalOrder</li>\n",
       "    </ul>\n",
       "  </li>\n",
       "  </ul>\n",
       "</li>\n",
       "</ul>\n"
      ],
      "text/plain": [
       "<atoti.levels.Levels at 0x7fe28de354d0>"
      ]
     },
     "execution_count": 21,
     "metadata": {
      "application/json": {
       "expanded": true,
       "root": "Levels"
      }
     },
     "output_type": "execute_result"
    }
   ],
   "source": [
    "# original levels\n",
    "levels"
   ]
  },
  {
   "cell_type": "code",
   "execution_count": 22,
   "id": "25f9d042-4f46-411d-ae5e-cf5503a8c212",
   "metadata": {},
   "outputs": [],
   "source": [
    "# dimensions\n",
    "# Customer: CustomerName, Gender\n",
    "# SalesPerson: SalesPersonName, City, State, Country\n",
    "# Product: ProductName\n",
    "# Store: StoreName, City, State"
   ]
  },
  {
   "cell_type": "code",
   "execution_count": 23,
   "id": "a1e60270-b699-4f79-82cd-8d114a7d843f",
   "metadata": {},
   "outputs": [],
   "source": [
    "hierarchies[\"Region\"] = [ levels['region'],levels[\"country\"]]"
   ]
  },
  {
   "cell_type": "code",
   "execution_count": 24,
   "id": "ce72cc29-6ad8-4ab7-a52f-a91641dc225c",
   "metadata": {},
   "outputs": [
    {
     "data": {
      "application/json": {
       "HealthcostGPT": {
        "Healthcost Level": [
         "Healthcost Level"
        ]
       },
       "Internetpercountry": {
        "Internet Level": [
         "Internet Level"
        ]
       },
       "Mentalillness": {
        "countryid": [
         "countryid"
        ]
       },
       "Region": {
        "Region": [
         "region",
         "country"
        ],
        "country": [
         "country"
        ],
        "region": [
         "region"
        ]
       },
       "Sport level": {
        "sportlevel": [
         "sportlevel"
        ]
       },
       "hostcountry": {
        "hostbefore": [
         "hostbefore"
        ]
       }
      },
      "text/html": [
       "<ul>\n",
       "<li>Dimensions\n",
       "  <ul>\n",
       "  <li>HealthcostGPT\n",
       "    <ul>\n",
       "    <li>Healthcost Level\n",
       "      <ol>\n",
       "      <li>Healthcost Level</li>\n",
       "      </ol>    </li>\n",
       "    </ul>\n",
       "  </li>\n",
       "  <li>Internetpercountry\n",
       "    <ul>\n",
       "    <li>Internet Level\n",
       "      <ol>\n",
       "      <li>Internet Level</li>\n",
       "      </ol>    </li>\n",
       "    </ul>\n",
       "  </li>\n",
       "  <li>Mentalillness\n",
       "    <ul>\n",
       "    <li>countryid\n",
       "      <ol>\n",
       "      <li>countryid</li>\n",
       "      </ol>    </li>\n",
       "    </ul>\n",
       "  </li>\n",
       "  <li>Region\n",
       "    <ul>\n",
       "    <li>Region\n",
       "      <ol>\n",
       "      <li>region</li>\n",
       "      <li>country</li>\n",
       "      </ol>    </li>\n",
       "    <li>country\n",
       "      <ol>\n",
       "      <li>country</li>\n",
       "      </ol>    </li>\n",
       "    <li>region\n",
       "      <ol>\n",
       "      <li>region</li>\n",
       "      </ol>    </li>\n",
       "    </ul>\n",
       "  </li>\n",
       "  <li>Sport level\n",
       "    <ul>\n",
       "    <li>sportlevel\n",
       "      <ol>\n",
       "      <li>sportlevel</li>\n",
       "      </ol>    </li>\n",
       "    </ul>\n",
       "  </li>\n",
       "  <li>hostcountry\n",
       "    <ul>\n",
       "    <li>hostbefore\n",
       "      <ol>\n",
       "      <li>hostbefore</li>\n",
       "      </ol>    </li>\n",
       "    </ul>\n",
       "  </li>\n",
       "  </ul>\n",
       "</li>\n",
       "</ul>\n"
      ],
      "text/plain": [
       "{('HealthcostGPT', 'Healthcost Level'): <atoti.hierarchy.Hierarchy object at 0x7fe28c47b4d0>, ('Region', 'country'): <atoti.hierarchy.Hierarchy object at 0x7fe28c478c50>, ('Region', 'Region'): <atoti.hierarchy.Hierarchy object at 0x7fe28c478a90>, ('Region', 'region'): <atoti.hierarchy.Hierarchy object at 0x7fe28c478410>, ('Mentalillness', 'countryid'): <atoti.hierarchy.Hierarchy object at 0x7fe28c478190>, ('hostcountry', 'hostbefore'): <atoti.hierarchy.Hierarchy object at 0x7fe28c478090>, ('Internetpercountry', 'Internet Level'): <atoti.hierarchy.Hierarchy object at 0x7fe28c460ad0>, ('Sport level', 'sportlevel'): <atoti.hierarchy.Hierarchy object at 0x7fe28c463fd0>}"
      ]
     },
     "execution_count": 24,
     "metadata": {
      "application/json": {
       "expanded": true,
       "root": "Dimensions"
      }
     },
     "output_type": "execute_result"
    }
   ],
   "source": [
    "hierarchies"
   ]
  },
  {
   "cell_type": "code",
   "execution_count": 25,
   "id": "ffcb9bdc-946f-4091-ad1f-59dbf644182c",
   "metadata": {},
   "outputs": [],
   "source": [
    "# clean Region\n",
    "del hierarchies[('Region', 'country')]\n",
    "del hierarchies[('Region', 'region')]"
   ]
  },
  {
   "cell_type": "code",
   "execution_count": 26,
   "id": "e5f48877-b317-40f5-a7af-65717a158965",
   "metadata": {},
   "outputs": [],
   "source": [
    "# clean product\n",
    "del hierarchies[('Mentalillness', 'countryid')]"
   ]
  },
  {
   "cell_type": "code",
   "execution_count": 27,
   "id": "3e72dcbf-3fbe-4f0c-b031-d3d9339a98fb",
   "metadata": {},
   "outputs": [
    {
     "data": {
      "application/json": {
       "HealthcostGPT": {
        "Healthcost Level": [
         "Healthcost Level"
        ]
       },
       "Internetpercountry": {
        "Internet Level": [
         "Internet Level"
        ]
       },
       "Region": {
        "Region": [
         "region",
         "country"
        ]
       },
       "Sport level": {
        "sportlevel": [
         "sportlevel"
        ]
       },
       "hostcountry": {
        "hostbefore": [
         "hostbefore"
        ]
       }
      },
      "text/html": [
       "<ul>\n",
       "<li>Dimensions\n",
       "  <ul>\n",
       "  <li>HealthcostGPT\n",
       "    <ul>\n",
       "    <li>Healthcost Level\n",
       "      <ol>\n",
       "      <li>Healthcost Level</li>\n",
       "      </ol>    </li>\n",
       "    </ul>\n",
       "  </li>\n",
       "  <li>Internetpercountry\n",
       "    <ul>\n",
       "    <li>Internet Level\n",
       "      <ol>\n",
       "      <li>Internet Level</li>\n",
       "      </ol>    </li>\n",
       "    </ul>\n",
       "  </li>\n",
       "  <li>Region\n",
       "    <ul>\n",
       "    <li>Region\n",
       "      <ol>\n",
       "      <li>region</li>\n",
       "      <li>country</li>\n",
       "      </ol>    </li>\n",
       "    </ul>\n",
       "  </li>\n",
       "  <li>Sport level\n",
       "    <ul>\n",
       "    <li>sportlevel\n",
       "      <ol>\n",
       "      <li>sportlevel</li>\n",
       "      </ol>    </li>\n",
       "    </ul>\n",
       "  </li>\n",
       "  <li>hostcountry\n",
       "    <ul>\n",
       "    <li>hostbefore\n",
       "      <ol>\n",
       "      <li>hostbefore</li>\n",
       "      </ol>    </li>\n",
       "    </ul>\n",
       "  </li>\n",
       "  </ul>\n",
       "</li>\n",
       "</ul>\n"
      ],
      "text/plain": [
       "{('HealthcostGPT', 'Healthcost Level'): <atoti.hierarchy.Hierarchy object at 0x7fe28de1f710>, ('Region', 'Region'): <atoti.hierarchy.Hierarchy object at 0x7fe28f0b7d90>, ('hostcountry', 'hostbefore'): <atoti.hierarchy.Hierarchy object at 0x7fe28dde5590>, ('Internetpercountry', 'Internet Level'): <atoti.hierarchy.Hierarchy object at 0x7fe28de11b10>, ('Sport level', 'sportlevel'): <atoti.hierarchy.Hierarchy object at 0x7fe28de13610>}"
      ]
     },
     "execution_count": 27,
     "metadata": {
      "application/json": {
       "expanded": true,
       "root": "Dimensions"
      }
     },
     "output_type": "execute_result"
    }
   ],
   "source": [
    "hierarchies"
   ]
  },
  {
   "cell_type": "code",
   "execution_count": 28,
   "id": "41d5b579-d01e-4035-90f0-e0db4c54197d",
   "metadata": {},
   "outputs": [
    {
     "data": {
      "application/json": {
       "Average Annual Growth Rate (%).MEAN": {
        "formatter": "DOUBLE[#,###.00]"
       },
       "Average Annual Growth Rate (%).SUM": {
        "formatter": "DOUBLE[#,###.00]"
       },
       "GDP(pc).MEAN": {
        "formatter": "DOUBLE[#,###.00]"
       },
       "GDP(pc).SUM": {
        "formatter": "DOUBLE[#,###.00]"
       },
       "contributors.COUNT": {
        "formatter": "INT[#,###]"
       },
       "depressive disorders rate of Change.MEAN": {
        "formatter": "DOUBLE[#,###.00]"
       },
       "depressive disorders rate of Change.SUM": {
        "formatter": "DOUBLE[#,###.00]"
       },
       "health expenditure(GPT%).MEAN": {
        "formatter": "DOUBLE[#,###.00]"
       },
       "health expenditure(GPT%).SUM": {
        "formatter": "DOUBLE[#,###.00]"
       },
       "healthcostid.MEAN": {
        "formatter": "DOUBLE[#,###.00]"
       },
       "healthcostid.SUM": {
        "formatter": "INT[#,###]"
       },
       "healthdifference.MEAN": {
        "formatter": "DOUBLE[#,###.00]"
       },
       "healthdifference.SUM": {
        "formatter": "DOUBLE[#,###.00]"
       },
       "hostid.MEAN": {
        "formatter": "DOUBLE[#,###.00]"
       },
       "hostid.SUM": {
        "formatter": "INT[#,###]"
       },
       "internetid.MEAN": {
        "formatter": "DOUBLE[#,###.00]"
       },
       "internetid.SUM": {
        "formatter": "INT[#,###]"
       },
       "medelid.MEAN": {
        "formatter": "DOUBLE[#,###.00]"
       },
       "medelid.SUM": {
        "formatter": "INT[#,###]"
       }
      },
      "text/html": [
       "<ul>\n",
       "<li>Measures\n",
       "  <ul>\n",
       "  <li>Average Annual Growth Rate (%).MEAN\n",
       "    <ul>\n",
       "    <li>formatter: DOUBLE[#,###.00]</li>\n",
       "    </ul>\n",
       "  </li>\n",
       "  <li>Average Annual Growth Rate (%).SUM\n",
       "    <ul>\n",
       "    <li>formatter: DOUBLE[#,###.00]</li>\n",
       "    </ul>\n",
       "  </li>\n",
       "  <li>GDP(pc).MEAN\n",
       "    <ul>\n",
       "    <li>formatter: DOUBLE[#,###.00]</li>\n",
       "    </ul>\n",
       "  </li>\n",
       "  <li>GDP(pc).SUM\n",
       "    <ul>\n",
       "    <li>formatter: DOUBLE[#,###.00]</li>\n",
       "    </ul>\n",
       "  </li>\n",
       "  <li>contributors.COUNT\n",
       "    <ul>\n",
       "    <li>formatter: INT[#,###]</li>\n",
       "    </ul>\n",
       "  </li>\n",
       "  <li>depressive disorders rate of Change.MEAN\n",
       "    <ul>\n",
       "    <li>formatter: DOUBLE[#,###.00]</li>\n",
       "    </ul>\n",
       "  </li>\n",
       "  <li>depressive disorders rate of Change.SUM\n",
       "    <ul>\n",
       "    <li>formatter: DOUBLE[#,###.00]</li>\n",
       "    </ul>\n",
       "  </li>\n",
       "  <li>health expenditure(GPT%).MEAN\n",
       "    <ul>\n",
       "    <li>formatter: DOUBLE[#,###.00]</li>\n",
       "    </ul>\n",
       "  </li>\n",
       "  <li>health expenditure(GPT%).SUM\n",
       "    <ul>\n",
       "    <li>formatter: DOUBLE[#,###.00]</li>\n",
       "    </ul>\n",
       "  </li>\n",
       "  <li>healthcostid.MEAN\n",
       "    <ul>\n",
       "    <li>formatter: DOUBLE[#,###.00]</li>\n",
       "    </ul>\n",
       "  </li>\n",
       "  <li>healthcostid.SUM\n",
       "    <ul>\n",
       "    <li>formatter: INT[#,###]</li>\n",
       "    </ul>\n",
       "  </li>\n",
       "  <li>healthdifference.MEAN\n",
       "    <ul>\n",
       "    <li>formatter: DOUBLE[#,###.00]</li>\n",
       "    </ul>\n",
       "  </li>\n",
       "  <li>healthdifference.SUM\n",
       "    <ul>\n",
       "    <li>formatter: DOUBLE[#,###.00]</li>\n",
       "    </ul>\n",
       "  </li>\n",
       "  <li>hostid.MEAN\n",
       "    <ul>\n",
       "    <li>formatter: DOUBLE[#,###.00]</li>\n",
       "    </ul>\n",
       "  </li>\n",
       "  <li>hostid.SUM\n",
       "    <ul>\n",
       "    <li>formatter: INT[#,###]</li>\n",
       "    </ul>\n",
       "  </li>\n",
       "  <li>internetid.MEAN\n",
       "    <ul>\n",
       "    <li>formatter: DOUBLE[#,###.00]</li>\n",
       "    </ul>\n",
       "  </li>\n",
       "  <li>internetid.SUM\n",
       "    <ul>\n",
       "    <li>formatter: INT[#,###]</li>\n",
       "    </ul>\n",
       "  </li>\n",
       "  <li>medelid.MEAN\n",
       "    <ul>\n",
       "    <li>formatter: DOUBLE[#,###.00]</li>\n",
       "    </ul>\n",
       "  </li>\n",
       "  <li>medelid.SUM\n",
       "    <ul>\n",
       "    <li>formatter: INT[#,###]</li>\n",
       "    </ul>\n",
       "  </li>\n",
       "  </ul>\n",
       "</li>\n",
       "</ul>\n"
      ],
      "text/plain": [
       "{'contributors.COUNT': <atoti.measure.Measure object at 0x7fe28de37e10>, 'update.TIMESTAMP': <atoti.measure.Measure object at 0x7fe28de36d50>, 'healthdifference.SUM': <atoti.measure.Measure object at 0x7fe28de37ad0>, 'healthdifference.MEAN': <atoti.measure.Measure object at 0x7fe28de37bd0>, 'GDP(pc).SUM': <atoti.measure.Measure object at 0x7fe28c47cf90>, 'GDP(pc).MEAN': <atoti.measure.Measure object at 0x7fe28c47c610>, 'Average Annual Growth Rate (%).SUM': <atoti.measure.Measure object at 0x7fe28c47f050>, 'Average Annual Growth Rate (%).MEAN': <atoti.measure.Measure object at 0x7fe28c47cb90>, 'depressive disorders rate of Change.SUM': <atoti.measure.Measure object at 0x7fe28c47d2d0>, 'depressive disorders rate of Change.MEAN': <atoti.measure.Measure object at 0x7fe28c47c050>, 'internetid.SUM': <atoti.measure.Measure object at 0x7fe28c47d210>, 'internetid.MEAN': <atoti.measure.Measure object at 0x7fe28c47dc90>, 'medelid.SUM': <atoti.measure.Measure object at 0x7fe28c47d910>, 'medelid.MEAN': <atoti.measure.Measure object at 0x7fe28c47dd10>, 'hostid.SUM': <atoti.measure.Measure object at 0x7fe28c47d750>, 'hostid.MEAN': <atoti.measure.Measure object at 0x7fe28c47fd10>, 'health expenditure(GPT%).SUM': <atoti.measure.Measure object at 0x7fe28c47fe10>, 'health expenditure(GPT%).MEAN': <atoti.measure.Measure object at 0x7fe28c47fb50>, 'healthcostid.SUM': <atoti.measure.Measure object at 0x7fe28c47fb10>, 'healthcostid.MEAN': <atoti.measure.Measure object at 0x7fe28c47fb90>}"
      ]
     },
     "execution_count": 28,
     "metadata": {
      "application/json": {
       "expanded": false,
       "root": "Measures"
      }
     },
     "output_type": "execute_result"
    }
   ],
   "source": [
    "measures"
   ]
  },
  {
   "cell_type": "code",
   "execution_count": 29,
   "id": "3ec0dbcb-079e-43cb-bee4-b5913b174ee4",
   "metadata": {},
   "outputs": [
    {
     "data": {
      "application/json": {
       "Average Annual Growth Rate (%).SUM": {
        "formatter": "DOUBLE[#,###.00]"
       },
       "GDP(pc).SUM": {
        "formatter": "DOUBLE[#,###.00]"
       },
       "depressive disorders rate of Change.SUM": {
        "formatter": "DOUBLE[#,###.00]"
       },
       "health expenditure(GPT%).SUM": {
        "formatter": "DOUBLE[#,###.00]"
       },
       "healthdifference.SUM": {
        "formatter": "DOUBLE[#,###.00]"
       }
      },
      "text/html": [
       "<ul>\n",
       "<li>Measures\n",
       "  <ul>\n",
       "  <li>Average Annual Growth Rate (%).SUM\n",
       "    <ul>\n",
       "    <li>formatter: DOUBLE[#,###.00]</li>\n",
       "    </ul>\n",
       "  </li>\n",
       "  <li>GDP(pc).SUM\n",
       "    <ul>\n",
       "    <li>formatter: DOUBLE[#,###.00]</li>\n",
       "    </ul>\n",
       "  </li>\n",
       "  <li>depressive disorders rate of Change.SUM\n",
       "    <ul>\n",
       "    <li>formatter: DOUBLE[#,###.00]</li>\n",
       "    </ul>\n",
       "  </li>\n",
       "  <li>health expenditure(GPT%).SUM\n",
       "    <ul>\n",
       "    <li>formatter: DOUBLE[#,###.00]</li>\n",
       "    </ul>\n",
       "  </li>\n",
       "  <li>healthdifference.SUM\n",
       "    <ul>\n",
       "    <li>formatter: DOUBLE[#,###.00]</li>\n",
       "    </ul>\n",
       "  </li>\n",
       "  </ul>\n",
       "</li>\n",
       "</ul>\n"
      ],
      "text/plain": [
       "{'update.TIMESTAMP': <atoti.measure.Measure object at 0x7fe28de2f3d0>, 'healthdifference.SUM': <atoti.measure.Measure object at 0x7fe28de2e9d0>, 'GDP(pc).SUM': <atoti.measure.Measure object at 0x7fe28de2e550>, 'Average Annual Growth Rate (%).SUM': <atoti.measure.Measure object at 0x7fe28de2f710>, 'depressive disorders rate of Change.SUM': <atoti.measure.Measure object at 0x7fe28de2dc50>, 'health expenditure(GPT%).SUM': <atoti.measure.Measure object at 0x7fe28de2cd90>}"
      ]
     },
     "execution_count": 29,
     "metadata": {
      "application/json": {
       "expanded": false,
       "root": "Measures"
      }
     },
     "output_type": "execute_result"
    }
   ],
   "source": [
    "del measures[\"medelid.SUM\"]\n",
    "del measures[\"medelid.MEAN\"]\n",
    "del measures[\"internetid.SUM\"]\n",
    "del measures[\"internetid.MEAN\"]\n",
    "del measures[\"hostid.MEAN\"]\n",
    "del measures[\"hostid.SUM\"]\n",
    "del measures[\"healthdifference.MEAN\"]\n",
    "del measures[\"healthcostid.SUM\"]\n",
    "del measures[\"healthcostid.MEAN\"]\n",
    "del measures[\"health expenditure(GPT%).MEAN\"] \n",
    "del measures[\"depressive disorders rate of Change.MEAN\"]\n",
    "del measures[\"GDP(pc).MEAN\"]\n",
    "del measures['Average Annual Growth Rate (%).MEAN']\n",
    "del measures[\"contributors.COUNT\"]\n",
    "\n",
    "measures"
   ]
  },
  {
   "cell_type": "markdown",
   "id": "6d2dfd26-8c0d-4049-a54f-15e4cb05fb14",
   "metadata": {},
   "source": [
    "## Query 1\n",
    "Which countries have passed through a decline in their year-over-year population growth rate after the beginning of the 21st century?"
   ]
  },
  {
   "cell_type": "code",
   "execution_count": 30,
   "id": "79f0902c-cbde-484f-ab2e-c98ff8f6e067",
   "metadata": {},
   "outputs": [
    {
     "data": {
      "text/html": [
       "<div>\n",
       "<style scoped>\n",
       "    .dataframe tbody tr th:only-of-type {\n",
       "        vertical-align: middle;\n",
       "    }\n",
       "\n",
       "    .dataframe tbody tr th {\n",
       "        vertical-align: top;\n",
       "    }\n",
       "\n",
       "    .dataframe thead th {\n",
       "        text-align: right;\n",
       "    }\n",
       "</style>\n",
       "<table border=\"1\" class=\"dataframe\">\n",
       "  <thead>\n",
       "    <tr style=\"text-align: right;\">\n",
       "      <th></th>\n",
       "      <th></th>\n",
       "      <th>Average Annual Growth Rate (%).SUM</th>\n",
       "    </tr>\n",
       "    <tr>\n",
       "      <th>region</th>\n",
       "      <th>country</th>\n",
       "      <th></th>\n",
       "    </tr>\n",
       "  </thead>\n",
       "  <tbody>\n",
       "    <tr>\n",
       "      <th rowspan=\"5\" valign=\"top\">Africa</th>\n",
       "      <th>Algeria</th>\n",
       "      <td>1.83</td>\n",
       "    </tr>\n",
       "    <tr>\n",
       "      <th>Angola</th>\n",
       "      <td>3.63</td>\n",
       "    </tr>\n",
       "    <tr>\n",
       "      <th>Benin</th>\n",
       "      <td>3.00</td>\n",
       "    </tr>\n",
       "    <tr>\n",
       "      <th>Botswana</th>\n",
       "      <td>1.96</td>\n",
       "    </tr>\n",
       "    <tr>\n",
       "      <th>Burkina Faso</th>\n",
       "      <td>3.02</td>\n",
       "    </tr>\n",
       "    <tr>\n",
       "      <th>...</th>\n",
       "      <th>...</th>\n",
       "      <td>...</td>\n",
       "    </tr>\n",
       "    <tr>\n",
       "      <th rowspan=\"5\" valign=\"top\">South America</th>\n",
       "      <th>Paraguay</th>\n",
       "      <td>1.60</td>\n",
       "    </tr>\n",
       "    <tr>\n",
       "      <th>Peru</th>\n",
       "      <td>1.28</td>\n",
       "    </tr>\n",
       "    <tr>\n",
       "      <th>Suriname</th>\n",
       "      <td>1.29</td>\n",
       "    </tr>\n",
       "    <tr>\n",
       "      <th>Uruguay</th>\n",
       "      <td>.27</td>\n",
       "    </tr>\n",
       "    <tr>\n",
       "      <th>Venezuela</th>\n",
       "      <td>.70</td>\n",
       "    </tr>\n",
       "  </tbody>\n",
       "</table>\n",
       "<p>188 rows × 1 columns</p>\n",
       "</div>"
      ],
      "text/plain": [
       "                           Average Annual Growth Rate (%).SUM\n",
       "region        country                                        \n",
       "Africa        Algeria                                    1.83\n",
       "              Angola                                     3.63\n",
       "              Benin                                      3.00\n",
       "              Botswana                                   1.96\n",
       "              Burkina Faso                               3.02\n",
       "...                                                       ...\n",
       "South America Paraguay                                   1.60\n",
       "              Peru                                       1.28\n",
       "              Suriname                                   1.29\n",
       "              Uruguay                                     .27\n",
       "              Venezuela                                   .70\n",
       "\n",
       "[188 rows x 1 columns]"
      ]
     },
     "execution_count": 30,
     "metadata": {},
     "output_type": "execute_result"
    }
   ],
   "source": [
    "cube.query(measures['Average Annual Growth Rate (%).SUM'], levels=[levels[('Region', 'Region','country')]])"
   ]
  },
  {
   "cell_type": "markdown",
   "id": "d0a625aa-cc95-4371-add2-4b015da2a42f",
   "metadata": {},
   "source": [
    "## Query 2\n",
    "\n",
    "How much more does the continent with strongest sports power spend on health compared to the continent with average sports power?"
   ]
  },
  {
   "cell_type": "code",
   "execution_count": 31,
   "id": "1b077af8-281c-44fd-b8a6-3cc52c7c0ef9",
   "metadata": {},
   "outputs": [],
   "source": [
    "measures[\"healthcost\"] = measures[\"health expenditure(GPT%).SUM\"] * measures[\"GDP(pc).SUM\"]"
   ]
  },
  {
   "cell_type": "code",
   "execution_count": 32,
   "id": "d289e073-1c2c-4385-9ff1-da8e99976dd3",
   "metadata": {},
   "outputs": [
    {
     "data": {
      "text/html": [
       "<div>\n",
       "<style scoped>\n",
       "    .dataframe tbody tr th:only-of-type {\n",
       "        vertical-align: middle;\n",
       "    }\n",
       "\n",
       "    .dataframe tbody tr th {\n",
       "        vertical-align: top;\n",
       "    }\n",
       "\n",
       "    .dataframe thead th {\n",
       "        text-align: right;\n",
       "    }\n",
       "</style>\n",
       "<table border=\"1\" class=\"dataframe\">\n",
       "  <thead>\n",
       "    <tr style=\"text-align: right;\">\n",
       "      <th></th>\n",
       "      <th></th>\n",
       "      <th>healthcost</th>\n",
       "    </tr>\n",
       "    <tr>\n",
       "      <th>region</th>\n",
       "      <th>sportlevel</th>\n",
       "      <th></th>\n",
       "    </tr>\n",
       "  </thead>\n",
       "  <tbody>\n",
       "    <tr>\n",
       "      <th>Africa</th>\n",
       "      <th>Poor</th>\n",
       "      <td>31,442,313.40</td>\n",
       "    </tr>\n",
       "    <tr>\n",
       "      <th>Asia</th>\n",
       "      <th>Poor</th>\n",
       "      <td>123,507,133.43</td>\n",
       "    </tr>\n",
       "    <tr>\n",
       "      <th rowspan=\"2\" valign=\"top\">Europe</th>\n",
       "      <th>Medium</th>\n",
       "      <td>2,159,869.97</td>\n",
       "    </tr>\n",
       "    <tr>\n",
       "      <th>Poor</th>\n",
       "      <td>509,242,202.41</td>\n",
       "    </tr>\n",
       "    <tr>\n",
       "      <th rowspan=\"2\" valign=\"top\">North America</th>\n",
       "      <th>Poor</th>\n",
       "      <td>38,468,346.74</td>\n",
       "    </tr>\n",
       "    <tr>\n",
       "      <th>Strong</th>\n",
       "      <td>1,195,343.76</td>\n",
       "    </tr>\n",
       "    <tr>\n",
       "      <th>Oceania</th>\n",
       "      <th>Poor</th>\n",
       "      <td>20,653,963.61</td>\n",
       "    </tr>\n",
       "    <tr>\n",
       "      <th>South America</th>\n",
       "      <th>Poor</th>\n",
       "      <td>7,686,333.88</td>\n",
       "    </tr>\n",
       "  </tbody>\n",
       "</table>\n",
       "</div>"
      ],
      "text/plain": [
       "                              healthcost\n",
       "region        sportlevel                \n",
       "Africa        Poor         31,442,313.40\n",
       "Asia          Poor        123,507,133.43\n",
       "Europe        Medium        2,159,869.97\n",
       "              Poor        509,242,202.41\n",
       "North America Poor         38,468,346.74\n",
       "              Strong        1,195,343.76\n",
       "Oceania       Poor         20,653,963.61\n",
       "South America Poor          7,686,333.88"
      ]
     },
     "execution_count": 32,
     "metadata": {},
     "output_type": "execute_result"
    }
   ],
   "source": [
    "cube.query(measures[\"healthcost\"], levels=[levels[(\"Region\",\"Region\", \"region\")], \n",
    "                                           levels[(\"Sport level\",\"sportlevel\",\"sportlevel\")]])"
   ]
  },
  {
   "cell_type": "markdown",
   "id": "813b1ee7-5b97-4b55-b281-1fdec5f57595",
   "metadata": {},
   "source": [
    "## Query 3\n",
    "\n",
    "Do governments with middle health cost prefer to pay for their citizens' healthcare themselves, or do they let their citizens bear the costs?"
   ]
  },
  {
   "cell_type": "code",
   "execution_count": 33,
   "id": "75470c7e-644e-408b-bd8f-46aba67fc2c9",
   "metadata": {},
   "outputs": [
    {
     "data": {
      "text/html": [
       "<div>\n",
       "<style scoped>\n",
       "    .dataframe tbody tr th:only-of-type {\n",
       "        vertical-align: middle;\n",
       "    }\n",
       "\n",
       "    .dataframe tbody tr th {\n",
       "        vertical-align: top;\n",
       "    }\n",
       "\n",
       "    .dataframe thead th {\n",
       "        text-align: right;\n",
       "    }\n",
       "</style>\n",
       "<table border=\"1\" class=\"dataframe\">\n",
       "  <thead>\n",
       "    <tr style=\"text-align: right;\">\n",
       "      <th></th>\n",
       "      <th></th>\n",
       "      <th></th>\n",
       "      <th>healthdifference.SUM</th>\n",
       "      <th>GDP(pc).SUM</th>\n",
       "    </tr>\n",
       "    <tr>\n",
       "      <th>region</th>\n",
       "      <th>country</th>\n",
       "      <th>Healthcost Level</th>\n",
       "      <th></th>\n",
       "      <th></th>\n",
       "    </tr>\n",
       "  </thead>\n",
       "  <tbody>\n",
       "    <tr>\n",
       "      <th rowspan=\"5\" valign=\"top\">Africa</th>\n",
       "      <th>Algeria</th>\n",
       "      <th>Low</th>\n",
       "      <td>54.17</td>\n",
       "      <td>3,354.16</td>\n",
       "    </tr>\n",
       "    <tr>\n",
       "      <th>Angola</th>\n",
       "      <th>Low</th>\n",
       "      <td>-5.94</td>\n",
       "      <td>1,502.95</td>\n",
       "    </tr>\n",
       "    <tr>\n",
       "      <th>Benin</th>\n",
       "      <th>Low</th>\n",
       "      <td>-4.13</td>\n",
       "      <td>1,237.95</td>\n",
       "    </tr>\n",
       "    <tr>\n",
       "      <th>Botswana</th>\n",
       "      <th>Low</th>\n",
       "      <td>199.78</td>\n",
       "      <td>5,875.07</td>\n",
       "    </tr>\n",
       "    <tr>\n",
       "      <th>Burkina Faso</th>\n",
       "      <th>Low</th>\n",
       "      <td>2.75</td>\n",
       "      <td>833.24</td>\n",
       "    </tr>\n",
       "    <tr>\n",
       "      <th>...</th>\n",
       "      <th>...</th>\n",
       "      <th>...</th>\n",
       "      <td>...</td>\n",
       "      <td>...</td>\n",
       "    </tr>\n",
       "    <tr>\n",
       "      <th rowspan=\"5\" valign=\"top\">South America</th>\n",
       "      <th>Paraguay</th>\n",
       "      <th>Medium</th>\n",
       "      <td>35.18</td>\n",
       "      <td>5,353.35</td>\n",
       "    </tr>\n",
       "    <tr>\n",
       "      <th>Peru</th>\n",
       "      <th>Low</th>\n",
       "      <td>140.06</td>\n",
       "      <td>6,063.63</td>\n",
       "    </tr>\n",
       "    <tr>\n",
       "      <th>Suriname</th>\n",
       "      <th>Low</th>\n",
       "      <td>139.41</td>\n",
       "      <td>4,796.53</td>\n",
       "    </tr>\n",
       "    <tr>\n",
       "      <th>Uruguay</th>\n",
       "      <th>Medium</th>\n",
       "      <td>622.08</td>\n",
       "      <td>15,650.50</td>\n",
       "    </tr>\n",
       "    <tr>\n",
       "      <th>Venezuela</th>\n",
       "      <th>Low</th>\n",
       "      <td>-17.13</td>\n",
       "      <td>.00</td>\n",
       "    </tr>\n",
       "  </tbody>\n",
       "</table>\n",
       "<p>234 rows × 2 columns</p>\n",
       "</div>"
      ],
      "text/plain": [
       "                                            healthdifference.SUM GDP(pc).SUM\n",
       "region        country      Healthcost Level                                 \n",
       "Africa        Algeria      Low                             54.17    3,354.16\n",
       "              Angola       Low                             -5.94    1,502.95\n",
       "              Benin        Low                             -4.13    1,237.95\n",
       "              Botswana     Low                            199.78    5,875.07\n",
       "              Burkina Faso Low                              2.75      833.24\n",
       "...                                                          ...         ...\n",
       "South America Paraguay     Medium                          35.18    5,353.35\n",
       "              Peru         Low                            140.06    6,063.63\n",
       "              Suriname     Low                            139.41    4,796.53\n",
       "              Uruguay      Medium                         622.08   15,650.50\n",
       "              Venezuela    Low                            -17.13         .00\n",
       "\n",
       "[234 rows x 2 columns]"
      ]
     },
     "execution_count": 33,
     "metadata": {},
     "output_type": "execute_result"
    }
   ],
   "source": [
    "cube.query(measures[\"healthdifference.SUM\"], measures[\"GDP(pc).SUM\"],levels=[levels[(\"Region\",\"Region\", \"country\")],levels[(\"HealthcostGPT\",\"Healthcost Level\",\"Healthcost Level\")]])"
   ]
  },
  {
   "cell_type": "markdown",
   "id": "ef851be0-68f2-4c64-9256-d75632cd3b21",
   "metadata": {},
   "source": [
    "## Query 4\n",
    "How does the GDP look like for middle countries with strong internet systems after hosting the Olympics?"
   ]
  },
  {
   "cell_type": "code",
   "execution_count": 34,
   "id": "2ecc56ca-8651-492d-ab42-8cc7247d2717",
   "metadata": {},
   "outputs": [
    {
     "data": {
      "text/html": [
       "<div>\n",
       "<style scoped>\n",
       "    .dataframe tbody tr th:only-of-type {\n",
       "        vertical-align: middle;\n",
       "    }\n",
       "\n",
       "    .dataframe tbody tr th {\n",
       "        vertical-align: top;\n",
       "    }\n",
       "\n",
       "    .dataframe thead th {\n",
       "        text-align: right;\n",
       "    }\n",
       "</style>\n",
       "<table border=\"1\" class=\"dataframe\">\n",
       "  <thead>\n",
       "    <tr style=\"text-align: right;\">\n",
       "      <th></th>\n",
       "      <th></th>\n",
       "      <th></th>\n",
       "      <th></th>\n",
       "      <th>GDP(pc).SUM</th>\n",
       "    </tr>\n",
       "    <tr>\n",
       "      <th>region</th>\n",
       "      <th>country</th>\n",
       "      <th>hostbefore</th>\n",
       "      <th>Internet Level</th>\n",
       "      <th></th>\n",
       "    </tr>\n",
       "  </thead>\n",
       "  <tbody>\n",
       "    <tr>\n",
       "      <th rowspan=\"5\" valign=\"top\">Africa</th>\n",
       "      <th>Algeria</th>\n",
       "      <th>none</th>\n",
       "      <th>Poor</th>\n",
       "      <td>3,354.16</td>\n",
       "    </tr>\n",
       "    <tr>\n",
       "      <th>Angola</th>\n",
       "      <th>none</th>\n",
       "      <th>Poor</th>\n",
       "      <td>1,502.95</td>\n",
       "    </tr>\n",
       "    <tr>\n",
       "      <th>Benin</th>\n",
       "      <th>none</th>\n",
       "      <th>Poor</th>\n",
       "      <td>1,237.95</td>\n",
       "    </tr>\n",
       "    <tr>\n",
       "      <th>Botswana</th>\n",
       "      <th>none</th>\n",
       "      <th>Poor</th>\n",
       "      <td>5,875.07</td>\n",
       "    </tr>\n",
       "    <tr>\n",
       "      <th>Burkina Faso</th>\n",
       "      <th>none</th>\n",
       "      <th>Poor</th>\n",
       "      <td>833.24</td>\n",
       "    </tr>\n",
       "    <tr>\n",
       "      <th>...</th>\n",
       "      <th>...</th>\n",
       "      <th>...</th>\n",
       "      <th>...</th>\n",
       "      <td>...</td>\n",
       "    </tr>\n",
       "    <tr>\n",
       "      <th rowspan=\"5\" valign=\"top\">South America</th>\n",
       "      <th>Paraguay</th>\n",
       "      <th>none</th>\n",
       "      <th>Poor</th>\n",
       "      <td>5,353.35</td>\n",
       "    </tr>\n",
       "    <tr>\n",
       "      <th>Peru</th>\n",
       "      <th>none</th>\n",
       "      <th>Poor</th>\n",
       "      <td>6,063.63</td>\n",
       "    </tr>\n",
       "    <tr>\n",
       "      <th>Suriname</th>\n",
       "      <th>none</th>\n",
       "      <th>Poor</th>\n",
       "      <td>4,796.53</td>\n",
       "    </tr>\n",
       "    <tr>\n",
       "      <th>Uruguay</th>\n",
       "      <th>none</th>\n",
       "      <th>Poor</th>\n",
       "      <td>15,650.50</td>\n",
       "    </tr>\n",
       "    <tr>\n",
       "      <th>Venezuela</th>\n",
       "      <th>none</th>\n",
       "      <th>Poor</th>\n",
       "      <td>.00</td>\n",
       "    </tr>\n",
       "  </tbody>\n",
       "</table>\n",
       "<p>234 rows × 1 columns</p>\n",
       "</div>"
      ],
      "text/plain": [
       "                                                     GDP(pc).SUM\n",
       "region        country      hostbefore Internet Level            \n",
       "Africa        Algeria      none       Poor              3,354.16\n",
       "              Angola       none       Poor              1,502.95\n",
       "              Benin        none       Poor              1,237.95\n",
       "              Botswana     none       Poor              5,875.07\n",
       "              Burkina Faso none       Poor                833.24\n",
       "...                                                          ...\n",
       "South America Paraguay     none       Poor              5,353.35\n",
       "              Peru         none       Poor              6,063.63\n",
       "              Suriname     none       Poor              4,796.53\n",
       "              Uruguay      none       Poor             15,650.50\n",
       "              Venezuela    none       Poor                   .00\n",
       "\n",
       "[234 rows x 1 columns]"
      ]
     },
     "execution_count": 34,
     "metadata": {},
     "output_type": "execute_result"
    }
   ],
   "source": [
    "cube.query( measures[\"GDP(pc).SUM\"],levels=[levels[(\"Region\",\"Region\", \"country\")],\n",
    "                                            levels[(\"hostcountry\",\"hostbefore\",\"hostbefore\")],\n",
    "                                            levels[(\"Internetpercountry\",\"Internet Level\",\"Internet Level\")]])"
   ]
  },
  {
   "cell_type": "markdown",
   "id": "3206d5e8-e7dc-432c-bee9-d32d85f51f1b",
   "metadata": {},
   "source": [
    "## Query 5\n",
    "the change in the number depress disorder in all continents that not good at sports, specifically before and after the 2002 Olympics."
   ]
  },
  {
   "cell_type": "code",
   "execution_count": 35,
   "id": "0bccbece-5b3d-4e36-acbf-a8f1eebd7333",
   "metadata": {},
   "outputs": [
    {
     "data": {
      "text/html": [
       "<div>\n",
       "<style scoped>\n",
       "    .dataframe tbody tr th:only-of-type {\n",
       "        vertical-align: middle;\n",
       "    }\n",
       "\n",
       "    .dataframe tbody tr th {\n",
       "        vertical-align: top;\n",
       "    }\n",
       "\n",
       "    .dataframe thead th {\n",
       "        text-align: right;\n",
       "    }\n",
       "</style>\n",
       "<table border=\"1\" class=\"dataframe\">\n",
       "  <thead>\n",
       "    <tr style=\"text-align: right;\">\n",
       "      <th></th>\n",
       "      <th></th>\n",
       "      <th>depressive disorders rate of Change.SUM</th>\n",
       "    </tr>\n",
       "    <tr>\n",
       "      <th>region</th>\n",
       "      <th>sportlevel</th>\n",
       "      <th></th>\n",
       "    </tr>\n",
       "  </thead>\n",
       "  <tbody>\n",
       "    <tr>\n",
       "      <th>Africa</th>\n",
       "      <th>Poor</th>\n",
       "      <td>68.74</td>\n",
       "    </tr>\n",
       "    <tr>\n",
       "      <th>Asia</th>\n",
       "      <th>Poor</th>\n",
       "      <td>-1.90</td>\n",
       "    </tr>\n",
       "    <tr>\n",
       "      <th rowspan=\"2\" valign=\"top\">Europe</th>\n",
       "      <th>Medium</th>\n",
       "      <td>6.99</td>\n",
       "    </tr>\n",
       "    <tr>\n",
       "      <th>Poor</th>\n",
       "      <td>-78.54</td>\n",
       "    </tr>\n",
       "    <tr>\n",
       "      <th rowspan=\"2\" valign=\"top\">North America</th>\n",
       "      <th>Poor</th>\n",
       "      <td>-2.60</td>\n",
       "    </tr>\n",
       "    <tr>\n",
       "      <th>Strong</th>\n",
       "      <td>7.42</td>\n",
       "    </tr>\n",
       "    <tr>\n",
       "      <th>Oceania</th>\n",
       "      <th>Poor</th>\n",
       "      <td>9.15</td>\n",
       "    </tr>\n",
       "    <tr>\n",
       "      <th>South America</th>\n",
       "      <th>Poor</th>\n",
       "      <td>17.20</td>\n",
       "    </tr>\n",
       "  </tbody>\n",
       "</table>\n",
       "</div>"
      ],
      "text/plain": [
       "                         depressive disorders rate of Change.SUM\n",
       "region        sportlevel                                        \n",
       "Africa        Poor                                         68.74\n",
       "Asia          Poor                                         -1.90\n",
       "Europe        Medium                                        6.99\n",
       "              Poor                                        -78.54\n",
       "North America Poor                                         -2.60\n",
       "              Strong                                        7.42\n",
       "Oceania       Poor                                          9.15\n",
       "South America Poor                                         17.20"
      ]
     },
     "execution_count": 35,
     "metadata": {},
     "output_type": "execute_result"
    }
   ],
   "source": [
    "cube.query(measures[\"depressive disorders rate of Change.SUM\"], levels=[levels[(\"Region\",\"Region\", \"region\")],levels[(\"Sport level\",\"sportlevel\",\"sportlevel\")]])"
   ]
  }
 ],
 "metadata": {
  "kernelspec": {
   "display_name": "Python 3 (ipykernel)",
   "language": "python",
   "name": "python3"
  },
  "language_info": {
   "codemirror_mode": {
    "name": "ipython",
    "version": 3
   },
   "file_extension": ".py",
   "mimetype": "text/x-python",
   "name": "python",
   "nbconvert_exporter": "python",
   "pygments_lexer": "ipython3",
   "version": "3.11.6"
  },
  "widgets": {
   "application/vnd.jupyter.widget-state+json": {
    "state": {},
    "version_major": 2,
    "version_minor": 0
   }
  }
 },
 "nbformat": 4,
 "nbformat_minor": 5
}
