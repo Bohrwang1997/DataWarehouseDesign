{
 "cells": [
  {
   "cell_type": "code",
   "execution_count": 1,
   "id": "702cc087-37d3-4a33-b231-92fde4b61390",
   "metadata": {},
   "outputs": [],
   "source": [
    "import psycopg2\n",
    "from psycopg2 import OperationalError\n",
    "\n",
    "\n",
    "def create_connection(db_name, db_user, db_password, db_host, db_port):\n",
    "    connection = None\n",
    "    try:\n",
    "        connection = psycopg2.connect(\n",
    "            database=db_name,\n",
    "            user=db_user,\n",
    "            password=db_password,\n",
    "            host=db_host,\n",
    "            port=db_port,\n",
    "        )\n",
    "        print(\"Connection to PostgreSQL DB successful\")\n",
    "    except OperationalError as e:\n",
    "        print(f\"The error '{e}' occurred\")\n",
    "    return connection"
   ]
  },
  {
   "cell_type": "code",
   "execution_count": 2,
   "id": "a7ace0d3-fbb1-4e65-8e7e-0476ddea60b3",
   "metadata": {},
   "outputs": [
    {
     "name": "stdout",
     "output_type": "stream",
     "text": [
      "Connection to PostgreSQL DB successful\n"
     ]
    }
   ],
   "source": [
    "# Connection details\n",
    "db_name = \"project1\"\n",
    "db_user = \"postgres\"\n",
    "db_password = \"postgres\"  # Update with your password\n",
    "db_host = \"pgdb\"  # Update if your DB is hosted elsewhere\n",
    "db_port = \"5432\"\n",
    "\n",
    "# Create the connection\n",
    "connection = create_connection(db_name, db_user, db_password, db_host, db_port)"
   ]
  },
  {
   "cell_type": "code",
   "execution_count": 3,
   "id": "95cbdf6e-d487-47f8-b418-aede1de5fce0",
   "metadata": {},
   "outputs": [
    {
     "name": "stdout",
     "output_type": "stream",
     "text": [
      "Tables 'dimensional tables' and 'Factables' created successfully.\n"
     ]
    }
   ],
   "source": [
    "try:\n",
    "    # Create a new cursor object\n",
    "    cursor = connection.cursor()\n",
    "\n",
    "    # Define SQL statements for creating tables\n",
    "    create_tables_queries = [\n",
    "        '''\n",
    "        CREATE TABLE IF NOT EXISTS DimCountrySize (countrysizeID INTEGER PRIMARY KEY, countrySize TEXT NOT NULL);\n",
    "\n",
    "        ''',\n",
    "        '''\n",
    "        CREATE TABLE IF NOT EXISTS DimMedal ( medelID INTEGER PRIMARY KEY, sportlevel TEXT NOT NULL );\n",
    "        ''',\n",
    "        '''\n",
    "        CREATE TABLE IF NOT EXISTS DimRegion ( country TEXT NOT NULL, region TEXT NOT NULL, countryID INTEGER PRIMARY KEY );\n",
    "\n",
    "        ''',\n",
    "        '''\n",
    "        CREATE TABLE IF NOT EXISTS DimWealth ( wealthID INTEGER PRIMARY KEY, wealthlevel TEXT NOT NULL);\n",
    "\n",
    "        ''',\n",
    "        '''\n",
    "        CREATE TABLE IF NOT EXISTS DimWealthGrowth ( wealthgrothID INTEGER PRIMARY KEY, wealthlevel TEXT NOT NULL);\n",
    "\n",
    "        ''',\n",
    "        '''\n",
    "        CREATE TABLE IF NOT EXISTS DimAthleteTeam ( AthleteteamID INTEGER PRIMARY KEY, AthleteorTeam TEXT NOT NULL);\n",
    "\n",
    "        ''',\n",
    "        '''\n",
    "        CREATE TABLE IF NOT EXISTS FactOlympic (\n",
    "            countryID bigint PRIMARY KEY,\n",
    "            medelID INTEGER,\n",
    "            grothID INTEGER,\n",
    "            CountrySizeID INTEGER,\n",
    "            \"GDP(pc)\" FLOAT,\n",
    "            wealthID INTEGER,\n",
    "            numberofhost INTEGER,\n",
    "            \"medel for strongest sport\" INTEGER,\n",
    "            \"2021 gode medel\" INTEGER,\n",
    "            \"GDPgrowth(pc)\" FLOAT,\n",
    "            \"Average Athlete Medals\" FLOAT,\n",
    "            \"Average Team Medals\" FLOAT,\n",
    "            AthleteteamID INTEGER\n",
    "        );\n",
    "\n",
    "        ''',\n",
    "        '''\n",
    "        ALTER TABLE FactOlympic ADD CONSTRAINT FK_countryID FOREIGN KEY (countryID) REFERENCES DimRegion(countryID)\n",
    "        ''',\n",
    "        '''\n",
    "        ALTER TABLE FactOlympic ADD CONSTRAINT FK_medelID FOREIGN KEY (medelID) REFERENCES DimMedal(medelID)\n",
    "        ''',\n",
    "        '''\n",
    "        ALTER TABLE FactOlympic ADD CONSTRAINT FK_CountrySizeID FOREIGN KEY (CountrySizeID) REFERENCES DimCountrySize(countrysizeID)\n",
    "        ''',\n",
    "        '''\n",
    "        ALTER TABLE FactOlympic ADD CONSTRAINT FK_wealthID FOREIGN KEY (wealthID) REFERENCES DimWealth(wealthID)\n",
    "        ''',\n",
    "        '''\n",
    "        ALTER TABLE FactOlympic ADD CONSTRAINT FK_grothID FOREIGN KEY (grothID) REFERENCES DimWealthGrowth(wealthgrothID)\n",
    "        ''',\n",
    "        '''\n",
    "        ALTER TABLE FactOlympic ADD CONSTRAINT FK_AthleteteamID FOREIGN KEY (AthleteteamID) REFERENCES DimAthleteTeam(AthleteteamID)\n",
    "        '''\n",
    "    ]\n",
    "\n",
    "    # Execute each create table SQL statement\n",
    "    for query in create_tables_queries:\n",
    "        cursor.execute(query)\n",
    "\n",
    "    # Commit the changes to the database\n",
    "    connection.commit()\n",
    "    print(\"Tables 'dimensional tables' and 'Factables' created successfully.\")\n",
    "except Exception as e:\n",
    "    print(f\"An error occurred: {e}\")\n"
   ]
  },
  {
   "cell_type": "code",
   "execution_count": 4,
   "id": "1d2f1278-d5e4-4a1b-875a-8b25e23963a1",
   "metadata": {},
   "outputs": [],
   "source": [
    "def import_csv_to_table(connection, csv_file_path, table_name):\n",
    "    try:\n",
    "        cursor = connection.cursor()\n",
    "        # Construct the COPY command\n",
    "        copy_sql = f\"\"\"\n",
    "        COPY {table_name} FROM stdin WITH CSV HEADER\n",
    "        DELIMITER as ','\n",
    "        \"\"\"\n",
    "        # Open the CSV file\n",
    "        with open(csv_file_path, 'r') as f:\n",
    "            # Execute the COPY command\n",
    "            cursor.copy_expert(sql=copy_sql, file=f)\n",
    "            connection.commit()\n",
    "            print(f\"Data from '{csv_file_path}' imported successfully into '{table_name}'.\")\n",
    "    except Exception as e:\n",
    "        connection.rollback()  # Rollback on error\n",
    "        print(f\"Error: {e}\")"
   ]
  },
  {
   "cell_type": "code",
   "execution_count": 5,
   "id": "eb4117d5-ff9c-424a-a8a6-513ab049e214",
   "metadata": {},
   "outputs": [
    {
     "name": "stdout",
     "output_type": "stream",
     "text": [
      "Data from './projectdata/Client1/DimRegion.csv' imported successfully into 'DimRegion'.\n"
     ]
    }
   ],
   "source": [
    "# Path to your CSV file\n",
    "csv_file_path = './projectdata/Client1/DimRegion.csv'\n",
    "# Target table in your PostgreSQL database\n",
    "table_name = 'DimRegion'\n",
    "\n",
    "# Import the CSV file into the PostgreSQL table\n",
    "import_csv_to_table(connection, csv_file_path, table_name)\n"
   ]
  },
  {
   "cell_type": "code",
   "execution_count": 6,
   "id": "3114d0cd-7ab7-4ea1-a446-cce3b0c81aaa",
   "metadata": {},
   "outputs": [
    {
     "name": "stdout",
     "output_type": "stream",
     "text": [
      "Data from './projectdata/Client1/Dimmedel.csv' imported successfully into 'DimMedal'.\n"
     ]
    }
   ],
   "source": [
    "# Path to your CSV file\n",
    "csv_file_path = './projectdata/Client1/Dimmedel.csv'\n",
    "# Target table in your PostgreSQL database\n",
    "table_name = 'DimMedal'\n",
    "\n",
    "# Import the CSV file into the PostgreSQL table\n",
    "import_csv_to_table(connection, csv_file_path, table_name)\n"
   ]
  },
  {
   "cell_type": "code",
   "execution_count": 7,
   "id": "70582401-b82f-4489-ba5e-456ddd8aedc5",
   "metadata": {},
   "outputs": [
    {
     "name": "stdout",
     "output_type": "stream",
     "text": [
      "Data from './projectdata/Client1/DimCountrySize.csv' imported successfully into 'DimCountrySize'.\n"
     ]
    }
   ],
   "source": [
    "# Path to your CSV file\n",
    "csv_file_path = './projectdata/Client1/DimCountrySize.csv'\n",
    "# Target table in your PostgreSQL database\n",
    "table_name = 'DimCountrySize'\n",
    "\n",
    "# Import the CSV file into the PostgreSQL table\n",
    "import_csv_to_table(connection, csv_file_path, table_name)\n"
   ]
  },
  {
   "cell_type": "code",
   "execution_count": 8,
   "id": "8e8d4358-3e77-4b63-afa3-031526a03a4a",
   "metadata": {},
   "outputs": [
    {
     "name": "stdout",
     "output_type": "stream",
     "text": [
      "Data from './projectdata/Client1/Dimwealth.csv' imported successfully into 'DimWealth'.\n"
     ]
    }
   ],
   "source": [
    "# Path to your CSV file\n",
    "csv_file_path = './projectdata/Client1/Dimwealth.csv'\n",
    "# Target table in your PostgreSQL database\n",
    "table_name = 'DimWealth'\n",
    "\n",
    "# Import the CSV file into the PostgreSQL table\n",
    "import_csv_to_table(connection, csv_file_path, table_name)\n"
   ]
  },
  {
   "cell_type": "code",
   "execution_count": 9,
   "id": "22af924f-a060-4e17-a395-f028ae4257eb",
   "metadata": {},
   "outputs": [
    {
     "name": "stdout",
     "output_type": "stream",
     "text": [
      "Data from './projectdata/Client1/Dimwealthgroth.csv' imported successfully into 'DimWealthGrowth'.\n"
     ]
    }
   ],
   "source": [
    "# Path to your CSV file\n",
    "csv_file_path = './projectdata/Client1/Dimwealthgroth.csv'\n",
    "# Target table in your PostgreSQL database\n",
    "table_name = 'DimWealthGrowth'\n",
    "\n",
    "# Import the CSV file into the PostgreSQL table\n",
    "import_csv_to_table(connection, csv_file_path, table_name)\n"
   ]
  },
  {
   "cell_type": "code",
   "execution_count": 10,
   "id": "3d9bc276-48a1-476c-9559-f1f37bc83213",
   "metadata": {},
   "outputs": [
    {
     "name": "stdout",
     "output_type": "stream",
     "text": [
      "Data from './projectdata/Client1/DimAthleteTeam.csv' imported successfully into 'dimathleteteam'.\n"
     ]
    }
   ],
   "source": [
    "# Path to your CSV file\n",
    "csv_file_path = './projectdata/Client1/DimAthleteTeam.csv'\n",
    "# Target table in your PostgreSQL database\n",
    "table_name = 'dimathleteteam'\n",
    "\n",
    "# Import the CSV file into the PostgreSQL table\n",
    "import_csv_to_table(connection, csv_file_path, table_name)"
   ]
  },
  {
   "cell_type": "code",
   "execution_count": 11,
   "id": "43bfc752-1384-457e-b3ee-8301a25d2aa6",
   "metadata": {},
   "outputs": [
    {
     "name": "stdout",
     "output_type": "stream",
     "text": [
      "Data from './projectdata/Client1/FactOlympic.csv' imported successfully into 'FactOlympic'.\n"
     ]
    }
   ],
   "source": [
    "# Path to your CSV file\n",
    "csv_file_path = './projectdata/Client1/FactOlympic.csv'\n",
    "# Target table in your PostgreSQL database\n",
    "table_name = 'FactOlympic'\n",
    "\n",
    "# Import the CSV file into the PostgreSQL table\n",
    "import_csv_to_table(connection, csv_file_path, table_name)"
   ]
  },
  {
   "cell_type": "code",
   "execution_count": 12,
   "id": "93ab0c0d-6c17-4343-8521-5d1873bd5f25",
   "metadata": {},
   "outputs": [],
   "source": [
    "cursor.close()\n",
    "connection.close()"
   ]
  }
 ],
 "metadata": {
  "kernelspec": {
   "display_name": "Python 3 (ipykernel)",
   "language": "python",
   "name": "python3"
  },
  "language_info": {
   "codemirror_mode": {
    "name": "ipython",
    "version": 3
   },
   "file_extension": ".py",
   "mimetype": "text/x-python",
   "name": "python",
   "nbconvert_exporter": "python",
   "pygments_lexer": "ipython3",
   "version": "3.12.2"
  },
  "widgets": {
   "application/vnd.jupyter.widget-state+json": {
    "state": {},
    "version_major": 2,
    "version_minor": 0
   }
  }
 },
 "nbformat": 4,
 "nbformat_minor": 5
}
