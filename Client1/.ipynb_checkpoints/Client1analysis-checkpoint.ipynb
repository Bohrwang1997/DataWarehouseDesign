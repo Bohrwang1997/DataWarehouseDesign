{
 "cells": [
  {
   "cell_type": "markdown",
   "id": "186ceb2ddf615eea",
   "metadata": {
    "collapsed": false,
    "jupyter": {
     "outputs_hidden": false
    }
   },
   "source": [
    "# Client 1 summary and analysis\n",
    "This aims to implement a cube and do presentation\n",
    "## Cube"
   ]
  },
  {
   "cell_type": "code",
   "execution_count": 1,
   "id": "initial_id",
   "metadata": {},
   "outputs": [
    {
     "name": "stdout",
     "output_type": "stream",
     "text": [
      "Welcome to Atoti 0.8.10!\n",
      "\n",
      "By using this community edition, you agree with the license available at https://docs.atoti.io/latest/eula.html.\n",
      "Browse the official documentation at https://docs.atoti.io.\n",
      "Join the community at https://www.atoti.io/register.\n",
      "\n",
      "Atoti collects telemetry data, which is used to help understand how to improve the product.\n",
      "If you don't wish to send usage data, you can request a trial license at https://www.atoti.io/evaluation-license-request.\n",
      "\n",
      "You can hide this message by setting the `ATOTI_HIDE_EULA_MESSAGE` environment variable to True.\n"
     ]
    }
   ],
   "source": [
    "import atoti as tt"
   ]
  },
  {
   "cell_type": "code",
   "execution_count": 2,
   "id": "1ce9e2fb78351f0d",
   "metadata": {
    "collapsed": false,
    "jupyter": {
     "outputs_hidden": false
    }
   },
   "outputs": [],
   "source": [
    "session = tt.Session(\n",
    "    user_content_storage=\".content\",\n",
    "    port=9092,\n",
    "    java_options=[\"-Xms1G\", \"-Xmx10G\"]\n",
    ")"
   ]
  },
  {
   "cell_type": "code",
   "execution_count": 3,
   "id": "8d2096c5d9043d33",
   "metadata": {
    "collapsed": false,
    "jupyter": {
     "outputs_hidden": false
    }
   },
   "outputs": [],
   "source": [
    "db_name = \"project1\"\n",
    "db_user = \"postgres\"\n",
    "db_password = \"postgres\"\n",
    "db_host = \"pgdb\"\n",
    "db_port = \"5432\"\n",
    "\n",
    "jdbc_url = f\"jdbc:postgresql://{db_host}:{db_port}/{db_name}?user={db_user}&password={db_password}\""
   ]
  },
  {
   "cell_type": "code",
   "execution_count": 4,
   "id": "b26b1ae1-20b6-4c60-bdf3-4e1c9987cb8f",
   "metadata": {},
   "outputs": [],
   "source": [
    "MedalFacttable = session.read_sql(\n",
    "    \"SELECT * FROM FactOlympic\",\n",
    "    keys=[\"countryid\"],\n",
    "    table_name=\"Medaleco\",\n",
    "    url=jdbc_url,\n",
    ")"
   ]
  },
  {
   "cell_type": "code",
   "execution_count": 5,
   "id": "d342d8d3-417b-4f00-81f5-334869f829a1",
   "metadata": {},
   "outputs": [],
   "source": [
    "dimRegiontable = session.read_sql(\n",
    "    \"SELECT * FROM DimRegion\",\n",
    "    keys=[\"countryid\"],\n",
    "    table_name=\"Region\",\n",
    "    url=jdbc_url)"
   ]
  },
  {
   "cell_type": "code",
   "execution_count": 6,
   "id": "828e934c-6723-4911-82ec-9759a2fff9fe",
   "metadata": {},
   "outputs": [],
   "source": [
    "Dimmedaltable = session.read_sql(\n",
    "    \"SELECT * FROM dimmedal\",\n",
    "    keys=[\"medelid\"],\n",
    "    table_name=\"sportslevel\",\n",
    "    url=jdbc_url\n",
    ")"
   ]
  },
  {
   "cell_type": "code",
   "execution_count": 7,
   "id": "47d5d135-02d8-48b0-ba4e-5e00a692cee1",
   "metadata": {},
   "outputs": [],
   "source": [
    "Countrysizetable = session.read_sql(\n",
    "    \"SELECT * FROM DimCountrySize\",\n",
    "    keys=[\"countrysizeid\"],\n",
    "    table_name=\"CountrySize\",\n",
    "    url=jdbc_url\n",
    ")"
   ]
  },
  {
   "cell_type": "code",
   "execution_count": 8,
   "id": "58b8642a-f0e0-4290-8ac7-761be3421212",
   "metadata": {},
   "outputs": [],
   "source": [
    "AthleteorTeam = session.read_sql(\n",
    "    \"SELECT * FROM dimathleteteam\",\n",
    "    keys=[\"athleteteamid\"],\n",
    "    table_name=\"Athlete o rteam\",\n",
    "    url=jdbc_url\n",
    ")"
   ]
  },
  {
   "cell_type": "code",
   "execution_count": 9,
   "id": "fdfcc73e-9d56-4020-bf5f-b1e774c033a9",
   "metadata": {},
   "outputs": [],
   "source": [
    "Wealthtable = session.read_sql(\n",
    "    \"SELECT * FROM DimWealth\",\n",
    "    keys=[\"wealthid\"],\n",
    "    table_name=\"Wealthlevel\",\n",
    "    url=jdbc_url\n",
    ")"
   ]
  },
  {
   "cell_type": "code",
   "execution_count": 10,
   "id": "e971bb41-0045-4abf-85e0-edb77988bd78",
   "metadata": {},
   "outputs": [
    {
     "data": {
      "text/html": [
       "<div>\n",
       "<style scoped>\n",
       "    .dataframe tbody tr th:only-of-type {\n",
       "        vertical-align: middle;\n",
       "    }\n",
       "\n",
       "    .dataframe tbody tr th {\n",
       "        vertical-align: top;\n",
       "    }\n",
       "\n",
       "    .dataframe thead th {\n",
       "        text-align: right;\n",
       "    }\n",
       "</style>\n",
       "<table border=\"1\" class=\"dataframe\">\n",
       "  <thead>\n",
       "    <tr style=\"text-align: right;\">\n",
       "      <th></th>\n",
       "      <th>athleteorteam</th>\n",
       "    </tr>\n",
       "    <tr>\n",
       "      <th>athleteteamid</th>\n",
       "      <th></th>\n",
       "    </tr>\n",
       "  </thead>\n",
       "  <tbody>\n",
       "    <tr>\n",
       "      <th>0</th>\n",
       "      <td>No preferance or no medal</td>\n",
       "    </tr>\n",
       "    <tr>\n",
       "      <th>1</th>\n",
       "      <td>Athlete</td>\n",
       "    </tr>\n",
       "    <tr>\n",
       "      <th>2</th>\n",
       "      <td>Team</td>\n",
       "    </tr>\n",
       "  </tbody>\n",
       "</table>\n",
       "</div>"
      ],
      "text/plain": [
       "                           athleteorteam\n",
       "athleteteamid                           \n",
       "0              No preferance or no medal\n",
       "1                                Athlete\n",
       "2                                   Team"
      ]
     },
     "execution_count": 10,
     "metadata": {},
     "output_type": "execute_result"
    }
   ],
   "source": [
    "AthleteorTeam.head()"
   ]
  },
  {
   "cell_type": "code",
   "execution_count": 11,
   "id": "3bb09fbd-1d25-472b-b5c9-f4ead3f96795",
   "metadata": {},
   "outputs": [],
   "source": [
    "MedalFacttable.join(dimRegiontable, MedalFacttable[\"countryid\"] == dimRegiontable[\"countryid\"])"
   ]
  },
  {
   "cell_type": "code",
   "execution_count": 12,
   "id": "a2ee4df7-a3ea-4d34-91e9-c83312d48e7e",
   "metadata": {},
   "outputs": [],
   "source": [
    "MedalFacttable.join(Dimmedaltable, MedalFacttable[\"medelid\"] == Dimmedaltable[\"medelid\"])"
   ]
  },
  {
   "cell_type": "code",
   "execution_count": 13,
   "id": "99b1cec9-c379-4072-aab8-c94bd3cc7e4a",
   "metadata": {},
   "outputs": [],
   "source": [
    "MedalFacttable.join(Countrysizetable,\n",
    "                         MedalFacttable[\"countrysizeid\"] == Countrysizetable[\"countrysizeid\"])"
   ]
  },
  {
   "cell_type": "code",
   "execution_count": 14,
   "id": "86b33b06-6faf-4951-af83-b8c16ec381e4",
   "metadata": {},
   "outputs": [],
   "source": [
    "MedalFacttable.join(Wealthtable, MedalFacttable[\"wealthid\"] == Wealthtable[\"wealthid\"])"
   ]
  },
  {
   "cell_type": "code",
   "execution_count": 15,
   "id": "0cdaf948-015d-4bb7-b208-a423bdf7558e",
   "metadata": {},
   "outputs": [],
   "source": [
    "MedalFacttable.join(AthleteorTeam, MedalFacttable[\"athleteteamid\"] == AthleteorTeam[\"athleteteamid\"])"
   ]
  },
  {
   "cell_type": "code",
   "execution_count": 16,
   "id": "11350840-0849-45ec-9b28-a535b5aa8975",
   "metadata": {},
   "outputs": [
    {
     "data": {
      "text/markdown": [
       "```mermaid\n",
       "erDiagram\n",
       "  \"CountrySize\" {\n",
       "    _ int PK \"countrysizeid\"\n",
       "    _ String \"countrysize\"\n",
       "  }\n",
       "  \"Medaleco\" {\n",
       "    _ long PK \"countryid\"\n",
       "    nullable int \"medelid\"\n",
       "    nullable int \"grothid\"\n",
       "    nullable int \"countrysizeid\"\n",
       "    nullable double \"GDP(pc)\"\n",
       "    nullable int \"wealthid\"\n",
       "    nullable int \"numberofhost\"\n",
       "    nullable int \"medel for strongest sport\"\n",
       "    nullable int \"2021 gode medel\"\n",
       "    nullable double \"GDPgrowth(pc)\"\n",
       "    nullable double \"Average Athlete Medals\"\n",
       "    nullable double \"Average Team Medals\"\n",
       "    nullable int \"athleteteamid\"\n",
       "  }\n",
       "  \"sportslevel\" {\n",
       "    _ int PK \"medelid\"\n",
       "    _ String \"sportlevel\"\n",
       "  }\n",
       "  \"Region\" {\n",
       "    _ String \"country\"\n",
       "    _ String \"region\"\n",
       "    _ long PK \"countryid\"\n",
       "  }\n",
       "  \"Athlete o rteam\" {\n",
       "    _ int PK \"athleteteamid\"\n",
       "    _ String \"athleteorteam\"\n",
       "  }\n",
       "  \"Wealthlevel\" {\n",
       "    _ int PK \"wealthid\"\n",
       "    _ String \"wealthlevel\"\n",
       "  }\n",
       "  \"Medaleco\" }o--o| \"Wealthlevel\" : \"`wealthid` == `wealthid`\"\n",
       "  \"Medaleco\" }o--o| \"sportslevel\" : \"`medelid` == `medelid`\"\n",
       "  \"Medaleco\" }o--o| \"Region\" : \"`countryid` == `countryid`\"\n",
       "  \"Medaleco\" }o--o| \"CountrySize\" : \"`countrysizeid` == `countrysizeid`\"\n",
       "  \"Medaleco\" }o--o| \"Athlete o rteam\" : \"`athleteteamid` == `athleteteamid`\"\n",
       "```\n"
      ],
      "text/plain": [
       "erDiagram\n",
       "  \"CountrySize\" {\n",
       "    _ int PK \"countrysizeid\"\n",
       "    _ String \"countrysize\"\n",
       "  }\n",
       "  \"Medaleco\" {\n",
       "    _ long PK \"countryid\"\n",
       "    nullable int \"medelid\"\n",
       "    nullable int \"grothid\"\n",
       "    nullable int \"countrysizeid\"\n",
       "    nullable double \"GDP(pc)\"\n",
       "    nullable int \"wealthid\"\n",
       "    nullable int \"numberofhost\"\n",
       "    nullable int \"medel for strongest sport\"\n",
       "    nullable int \"2021 gode medel\"\n",
       "    nullable double \"GDPgrowth(pc)\"\n",
       "    nullable double \"Average Athlete Medals\"\n",
       "    nullable double \"Average Team Medals\"\n",
       "    nullable int \"athleteteamid\"\n",
       "  }\n",
       "  \"sportslevel\" {\n",
       "    _ int PK \"medelid\"\n",
       "    _ String \"sportlevel\"\n",
       "  }\n",
       "  \"Region\" {\n",
       "    _ String \"country\"\n",
       "    _ String \"region\"\n",
       "    _ long PK \"countryid\"\n",
       "  }\n",
       "  \"Athlete o rteam\" {\n",
       "    _ int PK \"athleteteamid\"\n",
       "    _ String \"athleteorteam\"\n",
       "  }\n",
       "  \"Wealthlevel\" {\n",
       "    _ int PK \"wealthid\"\n",
       "    _ String \"wealthlevel\"\n",
       "  }\n",
       "  \"Medaleco\" }o--o| \"Wealthlevel\" : \"`wealthid` == `wealthid`\"\n",
       "  \"Medaleco\" }o--o| \"sportslevel\" : \"`medelid` == `medelid`\"\n",
       "  \"Medaleco\" }o--o| \"Region\" : \"`countryid` == `countryid`\"\n",
       "  \"Medaleco\" }o--o| \"CountrySize\" : \"`countrysizeid` == `countrysizeid`\"\n",
       "  \"Medaleco\" }o--o| \"Athlete o rteam\" : \"`athleteteamid` == `athleteteamid`\""
      ]
     },
     "execution_count": 16,
     "metadata": {},
     "output_type": "execute_result"
    }
   ],
   "source": [
    "session.tables.schema"
   ]
  },
  {
   "cell_type": "code",
   "execution_count": 17,
   "id": "cef318a0-52c2-4c1a-a1c0-295b966aa4cf",
   "metadata": {},
   "outputs": [],
   "source": [
    "cube = session.create_cube(MedalFacttable)"
   ]
  },
  {
   "cell_type": "code",
   "execution_count": 18,
   "id": "16e2c037-0119-4732-b927-df06479addd9",
   "metadata": {},
   "outputs": [
    {
     "data": {
      "application/json": {
       "Dimensions": {
        "Athlete o rteam": {
         "athleteorteam": [
          "athleteorteam"
         ]
        },
        "CountrySize": {
         "countrysize": [
          "countrysize"
         ]
        },
        "Medaleco": {
         "countryid": [
          "countryid"
         ]
        },
        "Region": {
         "country": [
          "country"
         ],
         "region": [
          "region"
         ]
        },
        "Wealthlevel": {
         "wealthlevel": [
          "wealthlevel"
         ]
        },
        "sportslevel": {
         "sportlevel": [
          "sportlevel"
         ]
        }
       },
       "Measures": {
        "2021 gode medel.MEAN": {
         "formatter": "DOUBLE[#,###.00]"
        },
        "2021 gode medel.SUM": {
         "formatter": "INT[#,###]"
        },
        "Average Athlete Medals.MEAN": {
         "formatter": "DOUBLE[#,###.00]"
        },
        "Average Athlete Medals.SUM": {
         "formatter": "DOUBLE[#,###.00]"
        },
        "Average Team Medals.MEAN": {
         "formatter": "DOUBLE[#,###.00]"
        },
        "Average Team Medals.SUM": {
         "formatter": "DOUBLE[#,###.00]"
        },
        "GDP(pc).MEAN": {
         "formatter": "DOUBLE[#,###.00]"
        },
        "GDP(pc).SUM": {
         "formatter": "DOUBLE[#,###.00]"
        },
        "GDPgrowth(pc).MEAN": {
         "formatter": "DOUBLE[#,###.00]"
        },
        "GDPgrowth(pc).SUM": {
         "formatter": "DOUBLE[#,###.00]"
        },
        "athleteteamid.MEAN": {
         "formatter": "DOUBLE[#,###.00]"
        },
        "athleteteamid.SUM": {
         "formatter": "INT[#,###]"
        },
        "contributors.COUNT": {
         "formatter": "INT[#,###]"
        },
        "countrysizeid.MEAN": {
         "formatter": "DOUBLE[#,###.00]"
        },
        "countrysizeid.SUM": {
         "formatter": "INT[#,###]"
        },
        "grothid.MEAN": {
         "formatter": "DOUBLE[#,###.00]"
        },
        "grothid.SUM": {
         "formatter": "INT[#,###]"
        },
        "medel for strongest sport.MEAN": {
         "formatter": "DOUBLE[#,###.00]"
        },
        "medel for strongest sport.SUM": {
         "formatter": "INT[#,###]"
        },
        "medelid.MEAN": {
         "formatter": "DOUBLE[#,###.00]"
        },
        "medelid.SUM": {
         "formatter": "INT[#,###]"
        },
        "numberofhost.MEAN": {
         "formatter": "DOUBLE[#,###.00]"
        },
        "numberofhost.SUM": {
         "formatter": "INT[#,###]"
        },
        "wealthid.MEAN": {
         "formatter": "DOUBLE[#,###.00]"
        },
        "wealthid.SUM": {
         "formatter": "INT[#,###]"
        }
       }
      },
      "text/html": [
       "<ul>\n",
       "<li>Medaleco\n",
       "  <ul>\n",
       "  <li>Dimensions\n",
       "    <ul>\n",
       "    <li>Athlete o rteam\n",
       "      <ul>\n",
       "      <li>athleteorteam\n",
       "        <ol>\n",
       "        <li>athleteorteam</li>\n",
       "        </ol>      </li>\n",
       "      </ul>\n",
       "    </li>\n",
       "    <li>CountrySize\n",
       "      <ul>\n",
       "      <li>countrysize\n",
       "        <ol>\n",
       "        <li>countrysize</li>\n",
       "        </ol>      </li>\n",
       "      </ul>\n",
       "    </li>\n",
       "    <li>Medaleco\n",
       "      <ul>\n",
       "      <li>countryid\n",
       "        <ol>\n",
       "        <li>countryid</li>\n",
       "        </ol>      </li>\n",
       "      </ul>\n",
       "    </li>\n",
       "    <li>Region\n",
       "      <ul>\n",
       "      <li>country\n",
       "        <ol>\n",
       "        <li>country</li>\n",
       "        </ol>      </li>\n",
       "      <li>region\n",
       "        <ol>\n",
       "        <li>region</li>\n",
       "        </ol>      </li>\n",
       "      </ul>\n",
       "    </li>\n",
       "    <li>Wealthlevel\n",
       "      <ul>\n",
       "      <li>wealthlevel\n",
       "        <ol>\n",
       "        <li>wealthlevel</li>\n",
       "        </ol>      </li>\n",
       "      </ul>\n",
       "    </li>\n",
       "    <li>sportslevel\n",
       "      <ul>\n",
       "      <li>sportlevel\n",
       "        <ol>\n",
       "        <li>sportlevel</li>\n",
       "        </ol>      </li>\n",
       "      </ul>\n",
       "    </li>\n",
       "    </ul>\n",
       "  </li>\n",
       "  <li>Measures\n",
       "    <ul>\n",
       "    <li>2021 gode medel.MEAN\n",
       "      <ul>\n",
       "      <li>formatter: DOUBLE[#,###.00]</li>\n",
       "      </ul>\n",
       "    </li>\n",
       "    <li>2021 gode medel.SUM\n",
       "      <ul>\n",
       "      <li>formatter: INT[#,###]</li>\n",
       "      </ul>\n",
       "    </li>\n",
       "    <li>Average Athlete Medals.MEAN\n",
       "      <ul>\n",
       "      <li>formatter: DOUBLE[#,###.00]</li>\n",
       "      </ul>\n",
       "    </li>\n",
       "    <li>Average Athlete Medals.SUM\n",
       "      <ul>\n",
       "      <li>formatter: DOUBLE[#,###.00]</li>\n",
       "      </ul>\n",
       "    </li>\n",
       "    <li>Average Team Medals.MEAN\n",
       "      <ul>\n",
       "      <li>formatter: DOUBLE[#,###.00]</li>\n",
       "      </ul>\n",
       "    </li>\n",
       "    <li>Average Team Medals.SUM\n",
       "      <ul>\n",
       "      <li>formatter: DOUBLE[#,###.00]</li>\n",
       "      </ul>\n",
       "    </li>\n",
       "    <li>GDP(pc).MEAN\n",
       "      <ul>\n",
       "      <li>formatter: DOUBLE[#,###.00]</li>\n",
       "      </ul>\n",
       "    </li>\n",
       "    <li>GDP(pc).SUM\n",
       "      <ul>\n",
       "      <li>formatter: DOUBLE[#,###.00]</li>\n",
       "      </ul>\n",
       "    </li>\n",
       "    <li>GDPgrowth(pc).MEAN\n",
       "      <ul>\n",
       "      <li>formatter: DOUBLE[#,###.00]</li>\n",
       "      </ul>\n",
       "    </li>\n",
       "    <li>GDPgrowth(pc).SUM\n",
       "      <ul>\n",
       "      <li>formatter: DOUBLE[#,###.00]</li>\n",
       "      </ul>\n",
       "    </li>\n",
       "    <li>athleteteamid.MEAN\n",
       "      <ul>\n",
       "      <li>formatter: DOUBLE[#,###.00]</li>\n",
       "      </ul>\n",
       "    </li>\n",
       "    <li>athleteteamid.SUM\n",
       "      <ul>\n",
       "      <li>formatter: INT[#,###]</li>\n",
       "      </ul>\n",
       "    </li>\n",
       "    <li>contributors.COUNT\n",
       "      <ul>\n",
       "      <li>formatter: INT[#,###]</li>\n",
       "      </ul>\n",
       "    </li>\n",
       "    <li>countrysizeid.MEAN\n",
       "      <ul>\n",
       "      <li>formatter: DOUBLE[#,###.00]</li>\n",
       "      </ul>\n",
       "    </li>\n",
       "    <li>countrysizeid.SUM\n",
       "      <ul>\n",
       "      <li>formatter: INT[#,###]</li>\n",
       "      </ul>\n",
       "    </li>\n",
       "    <li>grothid.MEAN\n",
       "      <ul>\n",
       "      <li>formatter: DOUBLE[#,###.00]</li>\n",
       "      </ul>\n",
       "    </li>\n",
       "    <li>grothid.SUM\n",
       "      <ul>\n",
       "      <li>formatter: INT[#,###]</li>\n",
       "      </ul>\n",
       "    </li>\n",
       "    <li>medel for strongest sport.MEAN\n",
       "      <ul>\n",
       "      <li>formatter: DOUBLE[#,###.00]</li>\n",
       "      </ul>\n",
       "    </li>\n",
       "    <li>medel for strongest sport.SUM\n",
       "      <ul>\n",
       "      <li>formatter: INT[#,###]</li>\n",
       "      </ul>\n",
       "    </li>\n",
       "    <li>medelid.MEAN\n",
       "      <ul>\n",
       "      <li>formatter: DOUBLE[#,###.00]</li>\n",
       "      </ul>\n",
       "    </li>\n",
       "    <li>medelid.SUM\n",
       "      <ul>\n",
       "      <li>formatter: INT[#,###]</li>\n",
       "      </ul>\n",
       "    </li>\n",
       "    <li>numberofhost.MEAN\n",
       "      <ul>\n",
       "      <li>formatter: DOUBLE[#,###.00]</li>\n",
       "      </ul>\n",
       "    </li>\n",
       "    <li>numberofhost.SUM\n",
       "      <ul>\n",
       "      <li>formatter: INT[#,###]</li>\n",
       "      </ul>\n",
       "    </li>\n",
       "    <li>wealthid.MEAN\n",
       "      <ul>\n",
       "      <li>formatter: DOUBLE[#,###.00]</li>\n",
       "      </ul>\n",
       "    </li>\n",
       "    <li>wealthid.SUM\n",
       "      <ul>\n",
       "      <li>formatter: INT[#,###]</li>\n",
       "      </ul>\n",
       "    </li>\n",
       "    </ul>\n",
       "  </li>\n",
       "  </ul>\n",
       "</li>\n",
       "</ul>\n"
      ],
      "text/plain": [
       "<atoti.cube.Cube at 0x7fcc284dd710>"
      ]
     },
     "execution_count": 18,
     "metadata": {
      "application/json": {
       "expanded": false,
       "root": "Medaleco"
      }
     },
     "output_type": "execute_result"
    }
   ],
   "source": [
    "cube"
   ]
  },
  {
   "cell_type": "code",
   "execution_count": 19,
   "id": "6cf0fe21-c3fb-4b65-9965-065de9277395",
   "metadata": {},
   "outputs": [],
   "source": [
    "hierarchies, levels, measures = cube.hierarchies, cube.levels, cube.measures"
   ]
  },
  {
   "cell_type": "code",
   "execution_count": 20,
   "id": "e619517c-2f79-4169-b201-64fbff5d418e",
   "metadata": {},
   "outputs": [
    {
     "data": {
      "application/json": {
       "Athlete o rteam": {
        "athleteorteam": [
         "athleteorteam"
        ]
       },
       "CountrySize": {
        "countrysize": [
         "countrysize"
        ]
       },
       "Medaleco": {
        "countryid": [
         "countryid"
        ]
       },
       "Region": {
        "country": [
         "country"
        ],
        "region": [
         "region"
        ]
       },
       "Wealthlevel": {
        "wealthlevel": [
         "wealthlevel"
        ]
       },
       "sportslevel": {
        "sportlevel": [
         "sportlevel"
        ]
       }
      },
      "text/html": [
       "<ul>\n",
       "<li>Dimensions\n",
       "  <ul>\n",
       "  <li>Athlete o rteam\n",
       "    <ul>\n",
       "    <li>athleteorteam\n",
       "      <ol>\n",
       "      <li>athleteorteam</li>\n",
       "      </ol>    </li>\n",
       "    </ul>\n",
       "  </li>\n",
       "  <li>CountrySize\n",
       "    <ul>\n",
       "    <li>countrysize\n",
       "      <ol>\n",
       "      <li>countrysize</li>\n",
       "      </ol>    </li>\n",
       "    </ul>\n",
       "  </li>\n",
       "  <li>Medaleco\n",
       "    <ul>\n",
       "    <li>countryid\n",
       "      <ol>\n",
       "      <li>countryid</li>\n",
       "      </ol>    </li>\n",
       "    </ul>\n",
       "  </li>\n",
       "  <li>Region\n",
       "    <ul>\n",
       "    <li>country\n",
       "      <ol>\n",
       "      <li>country</li>\n",
       "      </ol>    </li>\n",
       "    <li>region\n",
       "      <ol>\n",
       "      <li>region</li>\n",
       "      </ol>    </li>\n",
       "    </ul>\n",
       "  </li>\n",
       "  <li>Wealthlevel\n",
       "    <ul>\n",
       "    <li>wealthlevel\n",
       "      <ol>\n",
       "      <li>wealthlevel</li>\n",
       "      </ol>    </li>\n",
       "    </ul>\n",
       "  </li>\n",
       "  <li>sportslevel\n",
       "    <ul>\n",
       "    <li>sportlevel\n",
       "      <ol>\n",
       "      <li>sportlevel</li>\n",
       "      </ol>    </li>\n",
       "    </ul>\n",
       "  </li>\n",
       "  </ul>\n",
       "</li>\n",
       "</ul>\n"
      ],
      "text/plain": [
       "{('Athlete o rteam', 'athleteorteam'): <atoti.hierarchy.Hierarchy object at 0x7fcc28533dd0>, ('Medaleco', 'countryid'): <atoti.hierarchy.Hierarchy object at 0x7fcc2852d7d0>, ('CountrySize', 'countrysize'): <atoti.hierarchy.Hierarchy object at 0x7fcc2852d8d0>, ('Wealthlevel', 'wealthlevel'): <atoti.hierarchy.Hierarchy object at 0x7fcc2852d990>, ('sportslevel', 'sportlevel'): <atoti.hierarchy.Hierarchy object at 0x7fcc2852da50>, ('Region', 'country'): <atoti.hierarchy.Hierarchy object at 0x7fcc2852db50>, ('Region', 'region'): <atoti.hierarchy.Hierarchy object at 0x7fcc2852dc50>}"
      ]
     },
     "execution_count": 20,
     "metadata": {
      "application/json": {
       "expanded": true,
       "root": "Dimensions"
      }
     },
     "output_type": "execute_result"
    }
   ],
   "source": [
    "# original hierarchies\n",
    "hierarchies"
   ]
  },
  {
   "cell_type": "code",
   "execution_count": 21,
   "id": "fe1e59ad-61f7-41f5-b8e4-fc47aedb2b82",
   "metadata": {},
   "outputs": [
    {
     "data": {
      "application/json": {
       "athleteorteam (Athlete o rteam/athleteorteam/athleteorteam)": {
        "dimension": "Athlete o rteam",
        "hierarchy": "athleteorteam",
        "order": "NaturalOrder",
        "type": "String"
       },
       "country (Region/country/country)": {
        "dimension": "Region",
        "hierarchy": "country",
        "order": "NaturalOrder",
        "type": "String"
       },
       "countryid (Medaleco/countryid/countryid)": {
        "dimension": "Medaleco",
        "hierarchy": "countryid",
        "order": "NaturalOrder",
        "type": "long"
       },
       "countrysize (CountrySize/countrysize/countrysize)": {
        "dimension": "CountrySize",
        "hierarchy": "countrysize",
        "order": "NaturalOrder",
        "type": "String"
       },
       "region (Region/region/region)": {
        "dimension": "Region",
        "hierarchy": "region",
        "order": "NaturalOrder",
        "type": "String"
       },
       "sportlevel (sportslevel/sportlevel/sportlevel)": {
        "dimension": "sportslevel",
        "hierarchy": "sportlevel",
        "order": "NaturalOrder",
        "type": "String"
       },
       "wealthlevel (Wealthlevel/wealthlevel/wealthlevel)": {
        "dimension": "Wealthlevel",
        "hierarchy": "wealthlevel",
        "order": "NaturalOrder",
        "type": "String"
       }
      },
      "text/html": [
       "<ul>\n",
       "<li>Levels\n",
       "  <ul>\n",
       "  <li>athleteorteam (Athlete o rteam/athleteorteam/athleteorteam)\n",
       "    <ul>\n",
       "    <li>dimension: Athlete o rteam</li>\n",
       "    <li>hierarchy: athleteorteam</li>\n",
       "    <li>type: String</li>\n",
       "    <li>order: NaturalOrder</li>\n",
       "    </ul>\n",
       "  </li>\n",
       "  <li>country (Region/country/country)\n",
       "    <ul>\n",
       "    <li>dimension: Region</li>\n",
       "    <li>hierarchy: country</li>\n",
       "    <li>type: String</li>\n",
       "    <li>order: NaturalOrder</li>\n",
       "    </ul>\n",
       "  </li>\n",
       "  <li>countryid (Medaleco/countryid/countryid)\n",
       "    <ul>\n",
       "    <li>dimension: Medaleco</li>\n",
       "    <li>hierarchy: countryid</li>\n",
       "    <li>type: long</li>\n",
       "    <li>order: NaturalOrder</li>\n",
       "    </ul>\n",
       "  </li>\n",
       "  <li>countrysize (CountrySize/countrysize/countrysize)\n",
       "    <ul>\n",
       "    <li>dimension: CountrySize</li>\n",
       "    <li>hierarchy: countrysize</li>\n",
       "    <li>type: String</li>\n",
       "    <li>order: NaturalOrder</li>\n",
       "    </ul>\n",
       "  </li>\n",
       "  <li>region (Region/region/region)\n",
       "    <ul>\n",
       "    <li>dimension: Region</li>\n",
       "    <li>hierarchy: region</li>\n",
       "    <li>type: String</li>\n",
       "    <li>order: NaturalOrder</li>\n",
       "    </ul>\n",
       "  </li>\n",
       "  <li>sportlevel (sportslevel/sportlevel/sportlevel)\n",
       "    <ul>\n",
       "    <li>dimension: sportslevel</li>\n",
       "    <li>hierarchy: sportlevel</li>\n",
       "    <li>type: String</li>\n",
       "    <li>order: NaturalOrder</li>\n",
       "    </ul>\n",
       "  </li>\n",
       "  <li>wealthlevel (Wealthlevel/wealthlevel/wealthlevel)\n",
       "    <ul>\n",
       "    <li>dimension: Wealthlevel</li>\n",
       "    <li>hierarchy: wealthlevel</li>\n",
       "    <li>type: String</li>\n",
       "    <li>order: NaturalOrder</li>\n",
       "    </ul>\n",
       "  </li>\n",
       "  </ul>\n",
       "</li>\n",
       "</ul>\n"
      ],
      "text/plain": [
       "<atoti.levels.Levels at 0x7fcc285165d0>"
      ]
     },
     "execution_count": 21,
     "metadata": {
      "application/json": {
       "expanded": true,
       "root": "Levels"
      }
     },
     "output_type": "execute_result"
    }
   ],
   "source": [
    "# original levels\n",
    "levels"
   ]
  },
  {
   "cell_type": "code",
   "execution_count": 22,
   "id": "8b013aca-3857-4909-a210-7d7401a55bd0",
   "metadata": {},
   "outputs": [
    {
     "data": {
      "application/json": {
       "2021 gode medel.MEAN": {
        "formatter": "DOUBLE[#,###.00]"
       },
       "2021 gode medel.SUM": {
        "formatter": "INT[#,###]"
       },
       "Average Athlete Medals.MEAN": {
        "formatter": "DOUBLE[#,###.00]"
       },
       "Average Athlete Medals.SUM": {
        "formatter": "DOUBLE[#,###.00]"
       },
       "Average Team Medals.MEAN": {
        "formatter": "DOUBLE[#,###.00]"
       },
       "Average Team Medals.SUM": {
        "formatter": "DOUBLE[#,###.00]"
       },
       "GDP(pc).MEAN": {
        "formatter": "DOUBLE[#,###.00]"
       },
       "GDP(pc).SUM": {
        "formatter": "DOUBLE[#,###.00]"
       },
       "GDPgrowth(pc).MEAN": {
        "formatter": "DOUBLE[#,###.00]"
       },
       "GDPgrowth(pc).SUM": {
        "formatter": "DOUBLE[#,###.00]"
       },
       "athleteteamid.MEAN": {
        "formatter": "DOUBLE[#,###.00]"
       },
       "athleteteamid.SUM": {
        "formatter": "INT[#,###]"
       },
       "contributors.COUNT": {
        "formatter": "INT[#,###]"
       },
       "countrysizeid.MEAN": {
        "formatter": "DOUBLE[#,###.00]"
       },
       "countrysizeid.SUM": {
        "formatter": "INT[#,###]"
       },
       "grothid.MEAN": {
        "formatter": "DOUBLE[#,###.00]"
       },
       "grothid.SUM": {
        "formatter": "INT[#,###]"
       },
       "medel for strongest sport.MEAN": {
        "formatter": "DOUBLE[#,###.00]"
       },
       "medel for strongest sport.SUM": {
        "formatter": "INT[#,###]"
       },
       "medelid.MEAN": {
        "formatter": "DOUBLE[#,###.00]"
       },
       "medelid.SUM": {
        "formatter": "INT[#,###]"
       },
       "numberofhost.MEAN": {
        "formatter": "DOUBLE[#,###.00]"
       },
       "numberofhost.SUM": {
        "formatter": "INT[#,###]"
       },
       "wealthid.MEAN": {
        "formatter": "DOUBLE[#,###.00]"
       },
       "wealthid.SUM": {
        "formatter": "INT[#,###]"
       }
      },
      "text/html": [
       "<ul>\n",
       "<li>Measures\n",
       "  <ul>\n",
       "  <li>2021 gode medel.MEAN\n",
       "    <ul>\n",
       "    <li>formatter: DOUBLE[#,###.00]</li>\n",
       "    </ul>\n",
       "  </li>\n",
       "  <li>2021 gode medel.SUM\n",
       "    <ul>\n",
       "    <li>formatter: INT[#,###]</li>\n",
       "    </ul>\n",
       "  </li>\n",
       "  <li>Average Athlete Medals.MEAN\n",
       "    <ul>\n",
       "    <li>formatter: DOUBLE[#,###.00]</li>\n",
       "    </ul>\n",
       "  </li>\n",
       "  <li>Average Athlete Medals.SUM\n",
       "    <ul>\n",
       "    <li>formatter: DOUBLE[#,###.00]</li>\n",
       "    </ul>\n",
       "  </li>\n",
       "  <li>Average Team Medals.MEAN\n",
       "    <ul>\n",
       "    <li>formatter: DOUBLE[#,###.00]</li>\n",
       "    </ul>\n",
       "  </li>\n",
       "  <li>Average Team Medals.SUM\n",
       "    <ul>\n",
       "    <li>formatter: DOUBLE[#,###.00]</li>\n",
       "    </ul>\n",
       "  </li>\n",
       "  <li>GDP(pc).MEAN\n",
       "    <ul>\n",
       "    <li>formatter: DOUBLE[#,###.00]</li>\n",
       "    </ul>\n",
       "  </li>\n",
       "  <li>GDP(pc).SUM\n",
       "    <ul>\n",
       "    <li>formatter: DOUBLE[#,###.00]</li>\n",
       "    </ul>\n",
       "  </li>\n",
       "  <li>GDPgrowth(pc).MEAN\n",
       "    <ul>\n",
       "    <li>formatter: DOUBLE[#,###.00]</li>\n",
       "    </ul>\n",
       "  </li>\n",
       "  <li>GDPgrowth(pc).SUM\n",
       "    <ul>\n",
       "    <li>formatter: DOUBLE[#,###.00]</li>\n",
       "    </ul>\n",
       "  </li>\n",
       "  <li>athleteteamid.MEAN\n",
       "    <ul>\n",
       "    <li>formatter: DOUBLE[#,###.00]</li>\n",
       "    </ul>\n",
       "  </li>\n",
       "  <li>athleteteamid.SUM\n",
       "    <ul>\n",
       "    <li>formatter: INT[#,###]</li>\n",
       "    </ul>\n",
       "  </li>\n",
       "  <li>contributors.COUNT\n",
       "    <ul>\n",
       "    <li>formatter: INT[#,###]</li>\n",
       "    </ul>\n",
       "  </li>\n",
       "  <li>countrysizeid.MEAN\n",
       "    <ul>\n",
       "    <li>formatter: DOUBLE[#,###.00]</li>\n",
       "    </ul>\n",
       "  </li>\n",
       "  <li>countrysizeid.SUM\n",
       "    <ul>\n",
       "    <li>formatter: INT[#,###]</li>\n",
       "    </ul>\n",
       "  </li>\n",
       "  <li>grothid.MEAN\n",
       "    <ul>\n",
       "    <li>formatter: DOUBLE[#,###.00]</li>\n",
       "    </ul>\n",
       "  </li>\n",
       "  <li>grothid.SUM\n",
       "    <ul>\n",
       "    <li>formatter: INT[#,###]</li>\n",
       "    </ul>\n",
       "  </li>\n",
       "  <li>medel for strongest sport.MEAN\n",
       "    <ul>\n",
       "    <li>formatter: DOUBLE[#,###.00]</li>\n",
       "    </ul>\n",
       "  </li>\n",
       "  <li>medel for strongest sport.SUM\n",
       "    <ul>\n",
       "    <li>formatter: INT[#,###]</li>\n",
       "    </ul>\n",
       "  </li>\n",
       "  <li>medelid.MEAN\n",
       "    <ul>\n",
       "    <li>formatter: DOUBLE[#,###.00]</li>\n",
       "    </ul>\n",
       "  </li>\n",
       "  <li>medelid.SUM\n",
       "    <ul>\n",
       "    <li>formatter: INT[#,###]</li>\n",
       "    </ul>\n",
       "  </li>\n",
       "  <li>numberofhost.MEAN\n",
       "    <ul>\n",
       "    <li>formatter: DOUBLE[#,###.00]</li>\n",
       "    </ul>\n",
       "  </li>\n",
       "  <li>numberofhost.SUM\n",
       "    <ul>\n",
       "    <li>formatter: INT[#,###]</li>\n",
       "    </ul>\n",
       "  </li>\n",
       "  <li>wealthid.MEAN\n",
       "    <ul>\n",
       "    <li>formatter: DOUBLE[#,###.00]</li>\n",
       "    </ul>\n",
       "  </li>\n",
       "  <li>wealthid.SUM\n",
       "    <ul>\n",
       "    <li>formatter: INT[#,###]</li>\n",
       "    </ul>\n",
       "  </li>\n",
       "  </ul>\n",
       "</li>\n",
       "</ul>\n"
      ],
      "text/plain": [
       "{'contributors.COUNT': <atoti.measure.Measure object at 0x7fcc28547250>, 'update.TIMESTAMP': <atoti.measure.Measure object at 0x7fcc2851c550>, 'GDP(pc).SUM': <atoti.measure.Measure object at 0x7fcc285472d0>, 'GDP(pc).MEAN': <atoti.measure.Measure object at 0x7fcc28547310>, 'numberofhost.SUM': <atoti.measure.Measure object at 0x7fcc28547350>, 'numberofhost.MEAN': <atoti.measure.Measure object at 0x7fcc28547390>, 'medelid.SUM': <atoti.measure.Measure object at 0x7fcc285473d0>, 'medelid.MEAN': <atoti.measure.Measure object at 0x7fcc28547410>, '2021 gode medel.SUM': <atoti.measure.Measure object at 0x7fcc28547450>, '2021 gode medel.MEAN': <atoti.measure.Measure object at 0x7fcc28547490>, 'athleteteamid.SUM': <atoti.measure.Measure object at 0x7fcc285474d0>, 'athleteteamid.MEAN': <atoti.measure.Measure object at 0x7fcc28547510>, 'Average Athlete Medals.SUM': <atoti.measure.Measure object at 0x7fcc28547550>, 'Average Athlete Medals.MEAN': <atoti.measure.Measure object at 0x7fcc28547590>, 'Average Team Medals.SUM': <atoti.measure.Measure object at 0x7fcc285475d0>, 'Average Team Medals.MEAN': <atoti.measure.Measure object at 0x7fcc28547610>, 'GDPgrowth(pc).SUM': <atoti.measure.Measure object at 0x7fcc28547650>, 'GDPgrowth(pc).MEAN': <atoti.measure.Measure object at 0x7fcc28547690>, 'countrysizeid.SUM': <atoti.measure.Measure object at 0x7fcc285476d0>, 'countrysizeid.MEAN': <atoti.measure.Measure object at 0x7fcc28547710>, 'grothid.SUM': <atoti.measure.Measure object at 0x7fcc28547750>, 'grothid.MEAN': <atoti.measure.Measure object at 0x7fcc28547790>, 'wealthid.SUM': <atoti.measure.Measure object at 0x7fcc285477d0>, 'wealthid.MEAN': <atoti.measure.Measure object at 0x7fcc28547810>, 'medel for strongest sport.SUM': <atoti.measure.Measure object at 0x7fcc28547850>, 'medel for strongest sport.MEAN': <atoti.measure.Measure object at 0x7fcc28547890>}"
      ]
     },
     "execution_count": 22,
     "metadata": {
      "application/json": {
       "expanded": false,
       "root": "Measures"
      }
     },
     "output_type": "execute_result"
    }
   ],
   "source": [
    "measures"
   ]
  },
  {
   "cell_type": "code",
   "execution_count": 23,
   "id": "a1e60270-b699-4f79-82cd-8d114a7d843f",
   "metadata": {},
   "outputs": [],
   "source": [
    "hierarchies[\"Region\"] = [levels[\"region\"],levels[\"country\"]]"
   ]
  },
  {
   "cell_type": "code",
   "execution_count": 24,
   "id": "5508025b-d259-4f79-9025-b160c3eb8bd1",
   "metadata": {},
   "outputs": [
    {
     "data": {
      "application/json": {
       "Athlete o rteam": {
        "athleteorteam": [
         "athleteorteam"
        ]
       },
       "CountrySize": {
        "countrysize": [
         "countrysize"
        ]
       },
       "Medaleco": {
        "countryid": [
         "countryid"
        ]
       },
       "Region": {
        "Region": [
         "region",
         "country"
        ],
        "country": [
         "country"
        ],
        "region": [
         "region"
        ]
       },
       "Wealthlevel": {
        "wealthlevel": [
         "wealthlevel"
        ]
       },
       "sportslevel": {
        "sportlevel": [
         "sportlevel"
        ]
       }
      },
      "text/html": [
       "<ul>\n",
       "<li>Dimensions\n",
       "  <ul>\n",
       "  <li>Athlete o rteam\n",
       "    <ul>\n",
       "    <li>athleteorteam\n",
       "      <ol>\n",
       "      <li>athleteorteam</li>\n",
       "      </ol>    </li>\n",
       "    </ul>\n",
       "  </li>\n",
       "  <li>CountrySize\n",
       "    <ul>\n",
       "    <li>countrysize\n",
       "      <ol>\n",
       "      <li>countrysize</li>\n",
       "      </ol>    </li>\n",
       "    </ul>\n",
       "  </li>\n",
       "  <li>Medaleco\n",
       "    <ul>\n",
       "    <li>countryid\n",
       "      <ol>\n",
       "      <li>countryid</li>\n",
       "      </ol>    </li>\n",
       "    </ul>\n",
       "  </li>\n",
       "  <li>Region\n",
       "    <ul>\n",
       "    <li>Region\n",
       "      <ol>\n",
       "      <li>region</li>\n",
       "      <li>country</li>\n",
       "      </ol>    </li>\n",
       "    <li>country\n",
       "      <ol>\n",
       "      <li>country</li>\n",
       "      </ol>    </li>\n",
       "    <li>region\n",
       "      <ol>\n",
       "      <li>region</li>\n",
       "      </ol>    </li>\n",
       "    </ul>\n",
       "  </li>\n",
       "  <li>Wealthlevel\n",
       "    <ul>\n",
       "    <li>wealthlevel\n",
       "      <ol>\n",
       "      <li>wealthlevel</li>\n",
       "      </ol>    </li>\n",
       "    </ul>\n",
       "  </li>\n",
       "  <li>sportslevel\n",
       "    <ul>\n",
       "    <li>sportlevel\n",
       "      <ol>\n",
       "      <li>sportlevel</li>\n",
       "      </ol>    </li>\n",
       "    </ul>\n",
       "  </li>\n",
       "  </ul>\n",
       "</li>\n",
       "</ul>\n"
      ],
      "text/plain": [
       "{('Athlete o rteam', 'athleteorteam'): <atoti.hierarchy.Hierarchy object at 0x7fcc2853f590>, ('Medaleco', 'countryid'): <atoti.hierarchy.Hierarchy object at 0x7fcc28531d10>, ('CountrySize', 'countrysize'): <atoti.hierarchy.Hierarchy object at 0x7fcc28530e10>, ('Wealthlevel', 'wealthlevel'): <atoti.hierarchy.Hierarchy object at 0x7fcc285312d0>, ('sportslevel', 'sportlevel'): <atoti.hierarchy.Hierarchy object at 0x7fcc285329d0>, ('Region', 'country'): <atoti.hierarchy.Hierarchy object at 0x7fcc28532c90>, ('Region', 'Region'): <atoti.hierarchy.Hierarchy object at 0x7fcc28544050>, ('Region', 'region'): <atoti.hierarchy.Hierarchy object at 0x7fcc28544c50>}"
      ]
     },
     "execution_count": 24,
     "metadata": {
      "application/json": {
       "expanded": true,
       "root": "Dimensions"
      }
     },
     "output_type": "execute_result"
    }
   ],
   "source": [
    "hierarchies"
   ]
  },
  {
   "cell_type": "code",
   "execution_count": 25,
   "id": "330f6e80-85e8-41ef-baea-47785cd36e9d",
   "metadata": {},
   "outputs": [],
   "source": [
    "del hierarchies[('Medaleco', 'countryid')]"
   ]
  },
  {
   "cell_type": "code",
   "execution_count": 26,
   "id": "d787220d-820e-4c9e-9d8b-961a87b69213",
   "metadata": {},
   "outputs": [],
   "source": [
    "del hierarchies[('Region', 'region')]\n",
    "del hierarchies[('Region','country')]"
   ]
  },
  {
   "cell_type": "code",
   "execution_count": 27,
   "id": "07601cfb-48d6-49b0-98d7-0548adaa5cb6",
   "metadata": {},
   "outputs": [
    {
     "data": {
      "application/json": {
       "Athlete o rteam": {
        "athleteorteam": [
         "athleteorteam"
        ]
       },
       "CountrySize": {
        "countrysize": [
         "countrysize"
        ]
       },
       "Region": {
        "Region": [
         "region",
         "country"
        ]
       },
       "Wealthlevel": {
        "wealthlevel": [
         "wealthlevel"
        ]
       },
       "sportslevel": {
        "sportlevel": [
         "sportlevel"
        ]
       }
      },
      "text/html": [
       "<ul>\n",
       "<li>Dimensions\n",
       "  <ul>\n",
       "  <li>Athlete o rteam\n",
       "    <ul>\n",
       "    <li>athleteorteam\n",
       "      <ol>\n",
       "      <li>athleteorteam</li>\n",
       "      </ol>    </li>\n",
       "    </ul>\n",
       "  </li>\n",
       "  <li>CountrySize\n",
       "    <ul>\n",
       "    <li>countrysize\n",
       "      <ol>\n",
       "      <li>countrysize</li>\n",
       "      </ol>    </li>\n",
       "    </ul>\n",
       "  </li>\n",
       "  <li>Region\n",
       "    <ul>\n",
       "    <li>Region\n",
       "      <ol>\n",
       "      <li>region</li>\n",
       "      <li>country</li>\n",
       "      </ol>    </li>\n",
       "    </ul>\n",
       "  </li>\n",
       "  <li>Wealthlevel\n",
       "    <ul>\n",
       "    <li>wealthlevel\n",
       "      <ol>\n",
       "      <li>wealthlevel</li>\n",
       "      </ol>    </li>\n",
       "    </ul>\n",
       "  </li>\n",
       "  <li>sportslevel\n",
       "    <ul>\n",
       "    <li>sportlevel\n",
       "      <ol>\n",
       "      <li>sportlevel</li>\n",
       "      </ol>    </li>\n",
       "    </ul>\n",
       "  </li>\n",
       "  </ul>\n",
       "</li>\n",
       "</ul>\n"
      ],
      "text/plain": [
       "{('Athlete o rteam', 'athleteorteam'): <atoti.hierarchy.Hierarchy object at 0x7fcc283703d0>, ('CountrySize', 'countrysize'): <atoti.hierarchy.Hierarchy object at 0x7fcc28371910>, ('Wealthlevel', 'wealthlevel'): <atoti.hierarchy.Hierarchy object at 0x7fcc283718d0>, ('sportslevel', 'sportlevel'): <atoti.hierarchy.Hierarchy object at 0x7fcc28371e50>, ('Region', 'Region'): <atoti.hierarchy.Hierarchy object at 0x7fcc28372790>}"
      ]
     },
     "execution_count": 27,
     "metadata": {
      "application/json": {
       "expanded": true,
       "root": "Dimensions"
      }
     },
     "output_type": "execute_result"
    }
   ],
   "source": [
    "hierarchies"
   ]
  },
  {
   "cell_type": "code",
   "execution_count": 28,
   "id": "77526eac-4025-469b-ab16-4eb9c2d4f64e",
   "metadata": {},
   "outputs": [
    {
     "data": {
      "application/json": {
       "2021 gode medel.MEAN": {
        "formatter": "DOUBLE[#,###.00]"
       },
       "2021 gode medel.SUM": {
        "formatter": "INT[#,###]"
       },
       "Average Athlete Medals.MEAN": {
        "formatter": "DOUBLE[#,###.00]"
       },
       "Average Athlete Medals.SUM": {
        "formatter": "DOUBLE[#,###.00]"
       },
       "Average Team Medals.MEAN": {
        "formatter": "DOUBLE[#,###.00]"
       },
       "Average Team Medals.SUM": {
        "formatter": "DOUBLE[#,###.00]"
       },
       "GDP(pc).MEAN": {
        "formatter": "DOUBLE[#,###.00]"
       },
       "GDP(pc).SUM": {
        "formatter": "DOUBLE[#,###.00]"
       },
       "GDPgrowth(pc).MEAN": {
        "formatter": "DOUBLE[#,###.00]"
       },
       "GDPgrowth(pc).SUM": {
        "formatter": "DOUBLE[#,###.00]"
       },
       "athleteteamid.MEAN": {
        "formatter": "DOUBLE[#,###.00]"
       },
       "athleteteamid.SUM": {
        "formatter": "INT[#,###]"
       },
       "contributors.COUNT": {
        "formatter": "INT[#,###]"
       },
       "countrysizeid.MEAN": {
        "formatter": "DOUBLE[#,###.00]"
       },
       "countrysizeid.SUM": {
        "formatter": "INT[#,###]"
       },
       "grothid.MEAN": {
        "formatter": "DOUBLE[#,###.00]"
       },
       "grothid.SUM": {
        "formatter": "INT[#,###]"
       },
       "medel for strongest sport.MEAN": {
        "formatter": "DOUBLE[#,###.00]"
       },
       "medel for strongest sport.SUM": {
        "formatter": "INT[#,###]"
       },
       "medelid.MEAN": {
        "formatter": "DOUBLE[#,###.00]"
       },
       "medelid.SUM": {
        "formatter": "INT[#,###]"
       },
       "numberofhost.MEAN": {
        "formatter": "DOUBLE[#,###.00]"
       },
       "numberofhost.SUM": {
        "formatter": "INT[#,###]"
       },
       "wealthid.MEAN": {
        "formatter": "DOUBLE[#,###.00]"
       },
       "wealthid.SUM": {
        "formatter": "INT[#,###]"
       }
      },
      "text/html": [
       "<ul>\n",
       "<li>Measures\n",
       "  <ul>\n",
       "  <li>2021 gode medel.MEAN\n",
       "    <ul>\n",
       "    <li>formatter: DOUBLE[#,###.00]</li>\n",
       "    </ul>\n",
       "  </li>\n",
       "  <li>2021 gode medel.SUM\n",
       "    <ul>\n",
       "    <li>formatter: INT[#,###]</li>\n",
       "    </ul>\n",
       "  </li>\n",
       "  <li>Average Athlete Medals.MEAN\n",
       "    <ul>\n",
       "    <li>formatter: DOUBLE[#,###.00]</li>\n",
       "    </ul>\n",
       "  </li>\n",
       "  <li>Average Athlete Medals.SUM\n",
       "    <ul>\n",
       "    <li>formatter: DOUBLE[#,###.00]</li>\n",
       "    </ul>\n",
       "  </li>\n",
       "  <li>Average Team Medals.MEAN\n",
       "    <ul>\n",
       "    <li>formatter: DOUBLE[#,###.00]</li>\n",
       "    </ul>\n",
       "  </li>\n",
       "  <li>Average Team Medals.SUM\n",
       "    <ul>\n",
       "    <li>formatter: DOUBLE[#,###.00]</li>\n",
       "    </ul>\n",
       "  </li>\n",
       "  <li>GDP(pc).MEAN\n",
       "    <ul>\n",
       "    <li>formatter: DOUBLE[#,###.00]</li>\n",
       "    </ul>\n",
       "  </li>\n",
       "  <li>GDP(pc).SUM\n",
       "    <ul>\n",
       "    <li>formatter: DOUBLE[#,###.00]</li>\n",
       "    </ul>\n",
       "  </li>\n",
       "  <li>GDPgrowth(pc).MEAN\n",
       "    <ul>\n",
       "    <li>formatter: DOUBLE[#,###.00]</li>\n",
       "    </ul>\n",
       "  </li>\n",
       "  <li>GDPgrowth(pc).SUM\n",
       "    <ul>\n",
       "    <li>formatter: DOUBLE[#,###.00]</li>\n",
       "    </ul>\n",
       "  </li>\n",
       "  <li>athleteteamid.MEAN\n",
       "    <ul>\n",
       "    <li>formatter: DOUBLE[#,###.00]</li>\n",
       "    </ul>\n",
       "  </li>\n",
       "  <li>athleteteamid.SUM\n",
       "    <ul>\n",
       "    <li>formatter: INT[#,###]</li>\n",
       "    </ul>\n",
       "  </li>\n",
       "  <li>contributors.COUNT\n",
       "    <ul>\n",
       "    <li>formatter: INT[#,###]</li>\n",
       "    </ul>\n",
       "  </li>\n",
       "  <li>countrysizeid.MEAN\n",
       "    <ul>\n",
       "    <li>formatter: DOUBLE[#,###.00]</li>\n",
       "    </ul>\n",
       "  </li>\n",
       "  <li>countrysizeid.SUM\n",
       "    <ul>\n",
       "    <li>formatter: INT[#,###]</li>\n",
       "    </ul>\n",
       "  </li>\n",
       "  <li>grothid.MEAN\n",
       "    <ul>\n",
       "    <li>formatter: DOUBLE[#,###.00]</li>\n",
       "    </ul>\n",
       "  </li>\n",
       "  <li>grothid.SUM\n",
       "    <ul>\n",
       "    <li>formatter: INT[#,###]</li>\n",
       "    </ul>\n",
       "  </li>\n",
       "  <li>medel for strongest sport.MEAN\n",
       "    <ul>\n",
       "    <li>formatter: DOUBLE[#,###.00]</li>\n",
       "    </ul>\n",
       "  </li>\n",
       "  <li>medel for strongest sport.SUM\n",
       "    <ul>\n",
       "    <li>formatter: INT[#,###]</li>\n",
       "    </ul>\n",
       "  </li>\n",
       "  <li>medelid.MEAN\n",
       "    <ul>\n",
       "    <li>formatter: DOUBLE[#,###.00]</li>\n",
       "    </ul>\n",
       "  </li>\n",
       "  <li>medelid.SUM\n",
       "    <ul>\n",
       "    <li>formatter: INT[#,###]</li>\n",
       "    </ul>\n",
       "  </li>\n",
       "  <li>numberofhost.MEAN\n",
       "    <ul>\n",
       "    <li>formatter: DOUBLE[#,###.00]</li>\n",
       "    </ul>\n",
       "  </li>\n",
       "  <li>numberofhost.SUM\n",
       "    <ul>\n",
       "    <li>formatter: INT[#,###]</li>\n",
       "    </ul>\n",
       "  </li>\n",
       "  <li>wealthid.MEAN\n",
       "    <ul>\n",
       "    <li>formatter: DOUBLE[#,###.00]</li>\n",
       "    </ul>\n",
       "  </li>\n",
       "  <li>wealthid.SUM\n",
       "    <ul>\n",
       "    <li>formatter: INT[#,###]</li>\n",
       "    </ul>\n",
       "  </li>\n",
       "  </ul>\n",
       "</li>\n",
       "</ul>\n"
      ],
      "text/plain": [
       "{'contributors.COUNT': <atoti.measure.Measure object at 0x7fcc28371e50>, 'update.TIMESTAMP': <atoti.measure.Measure object at 0x7fcc2852f7d0>, 'GDP(pc).SUM': <atoti.measure.Measure object at 0x7fcc28371a50>, 'GDP(pc).MEAN': <atoti.measure.Measure object at 0x7fcc283735d0>, 'numberofhost.SUM': <atoti.measure.Measure object at 0x7fcc28373d90>, 'numberofhost.MEAN': <atoti.measure.Measure object at 0x7fcc28373bd0>, 'medelid.SUM': <atoti.measure.Measure object at 0x7fcc28372410>, 'medelid.MEAN': <atoti.measure.Measure object at 0x7fcc28373f10>, '2021 gode medel.SUM': <atoti.measure.Measure object at 0x7fcc28373e50>, '2021 gode medel.MEAN': <atoti.measure.Measure object at 0x7fcc283724d0>, 'athleteteamid.SUM': <atoti.measure.Measure object at 0x7fcc28373c50>, 'athleteteamid.MEAN': <atoti.measure.Measure object at 0x7fcc28372510>, 'Average Athlete Medals.SUM': <atoti.measure.Measure object at 0x7fcc283700d0>, 'Average Athlete Medals.MEAN': <atoti.measure.Measure object at 0x7fcc283712d0>, 'Average Team Medals.SUM': <atoti.measure.Measure object at 0x7fcc28370090>, 'Average Team Medals.MEAN': <atoti.measure.Measure object at 0x7fcc283733d0>, 'GDPgrowth(pc).SUM': <atoti.measure.Measure object at 0x7fcc28373650>, 'GDPgrowth(pc).MEAN': <atoti.measure.Measure object at 0x7fcc28372750>, 'countrysizeid.SUM': <atoti.measure.Measure object at 0x7fcc28372710>, 'countrysizeid.MEAN': <atoti.measure.Measure object at 0x7fcc28372690>, 'grothid.SUM': <atoti.measure.Measure object at 0x7fcc283725d0>, 'grothid.MEAN': <atoti.measure.Measure object at 0x7fcc283705d0>, 'wealthid.SUM': <atoti.measure.Measure object at 0x7fcc28370290>, 'wealthid.MEAN': <atoti.measure.Measure object at 0x7fcc28370950>, 'medel for strongest sport.SUM': <atoti.measure.Measure object at 0x7fcc28373710>, 'medel for strongest sport.MEAN': <atoti.measure.Measure object at 0x7fcc28373d50>}"
      ]
     },
     "execution_count": 28,
     "metadata": {
      "application/json": {
       "expanded": false,
       "root": "Measures"
      }
     },
     "output_type": "execute_result"
    }
   ],
   "source": [
    "measures"
   ]
  },
  {
   "cell_type": "markdown",
   "id": "fbd436cc-921f-4d9d-8a20-87ba2b374412",
   "metadata": {},
   "source": [
    "## Query 1\n",
    "How many times did countries with huge population host in total? "
   ]
  },
  {
   "cell_type": "code",
   "execution_count": 29,
   "id": "1e874102-e542-458d-a120-f06f2cc7f905",
   "metadata": {},
   "outputs": [
    {
     "data": {
      "text/html": [
       "<div>\n",
       "<style scoped>\n",
       "    .dataframe tbody tr th:only-of-type {\n",
       "        vertical-align: middle;\n",
       "    }\n",
       "\n",
       "    .dataframe tbody tr th {\n",
       "        vertical-align: top;\n",
       "    }\n",
       "\n",
       "    .dataframe thead th {\n",
       "        text-align: right;\n",
       "    }\n",
       "</style>\n",
       "<table border=\"1\" class=\"dataframe\">\n",
       "  <thead>\n",
       "    <tr style=\"text-align: right;\">\n",
       "      <th></th>\n",
       "      <th>numberofhost.SUM</th>\n",
       "    </tr>\n",
       "    <tr>\n",
       "      <th>countrysize</th>\n",
       "      <th></th>\n",
       "    </tr>\n",
       "  </thead>\n",
       "  <tbody>\n",
       "    <tr>\n",
       "      <th>Large</th>\n",
       "      <td>35</td>\n",
       "    </tr>\n",
       "    <tr>\n",
       "      <th>Medium</th>\n",
       "      <td>18</td>\n",
       "    </tr>\n",
       "    <tr>\n",
       "      <th>Small</th>\n",
       "      <td>0</td>\n",
       "    </tr>\n",
       "  </tbody>\n",
       "</table>\n",
       "</div>"
      ],
      "text/plain": [
       "            numberofhost.SUM\n",
       "countrysize                 \n",
       "Large                     35\n",
       "Medium                    18\n",
       "Small                      0"
      ]
     },
     "execution_count": 29,
     "metadata": {},
     "output_type": "execute_result"
    }
   ],
   "source": [
    "cube.query(measures[\"numberofhost.SUM\"], levels=[levels[('CountrySize', 'countrysize','countrysize')]])"
   ]
  },
  {
   "cell_type": "markdown",
   "id": "ede9eb7a-31c9-48f2-8f99-f27658831b0f",
   "metadata": {},
   "source": [
    "## Query 2\n",
    "How many medals did the wealthiest continent in 2020 win at the Tokyo Olympics?"
   ]
  },
  {
   "cell_type": "code",
   "execution_count": 30,
   "id": "9a3a1eb2-9922-4d00-a14e-c45acfd0dd48",
   "metadata": {},
   "outputs": [
    {
     "data": {
      "text/html": [
       "<div>\n",
       "<style scoped>\n",
       "    .dataframe tbody tr th:only-of-type {\n",
       "        vertical-align: middle;\n",
       "    }\n",
       "\n",
       "    .dataframe tbody tr th {\n",
       "        vertical-align: top;\n",
       "    }\n",
       "\n",
       "    .dataframe thead th {\n",
       "        text-align: right;\n",
       "    }\n",
       "</style>\n",
       "<table border=\"1\" class=\"dataframe\">\n",
       "  <thead>\n",
       "    <tr style=\"text-align: right;\">\n",
       "      <th></th>\n",
       "      <th>GDP(pc).SUM</th>\n",
       "      <th>2021 gode medel.SUM</th>\n",
       "    </tr>\n",
       "    <tr>\n",
       "      <th>region</th>\n",
       "      <th></th>\n",
       "      <th></th>\n",
       "    </tr>\n",
       "  </thead>\n",
       "  <tbody>\n",
       "    <tr>\n",
       "      <th>Africa</th>\n",
       "      <td>112,326.00</td>\n",
       "      <td>11</td>\n",
       "    </tr>\n",
       "    <tr>\n",
       "      <th>Asia</th>\n",
       "      <td>488,619.00</td>\n",
       "      <td>126</td>\n",
       "    </tr>\n",
       "    <tr>\n",
       "      <th>Europe</th>\n",
       "      <td>1,529,532.00</td>\n",
       "      <td>134</td>\n",
       "    </tr>\n",
       "    <tr>\n",
       "      <th>North America</th>\n",
       "      <td>302,481.00</td>\n",
       "      <td>63</td>\n",
       "    </tr>\n",
       "    <tr>\n",
       "      <th>Oceania</th>\n",
       "      <td>154,001.00</td>\n",
       "      <td>29</td>\n",
       "    </tr>\n",
       "    <tr>\n",
       "      <th>South America</th>\n",
       "      <td>81,326.00</td>\n",
       "      <td>11</td>\n",
       "    </tr>\n",
       "  </tbody>\n",
       "</table>\n",
       "</div>"
      ],
      "text/plain": [
       "                GDP(pc).SUM 2021 gode medel.SUM\n",
       "region                                         \n",
       "Africa           112,326.00                  11\n",
       "Asia             488,619.00                 126\n",
       "Europe         1,529,532.00                 134\n",
       "North America    302,481.00                  63\n",
       "Oceania          154,001.00                  29\n",
       "South America     81,326.00                  11"
      ]
     },
     "execution_count": 30,
     "metadata": {},
     "output_type": "execute_result"
    }
   ],
   "source": [
    "cube.query(measures[\"GDP(pc).SUM\"], measures[\"2021 gode medel.SUM\"], levels=[levels[('Region', 'Region','region')] ])"
   ]
  },
  {
   "cell_type": "markdown",
   "id": "069f4062-ca53-4498-92c4-697bbdd43fbc",
   "metadata": {},
   "source": [
    "## Query 3\n",
    "What was the GDP growth rate of the country that won the most medals in 2020?"
   ]
  },
  {
   "cell_type": "code",
   "execution_count": 31,
   "id": "80b869fe-2103-4686-981c-239a01b0c822",
   "metadata": {},
   "outputs": [
    {
     "data": {
      "text/html": [
       "<div>\n",
       "<style scoped>\n",
       "    .dataframe tbody tr th:only-of-type {\n",
       "        vertical-align: middle;\n",
       "    }\n",
       "\n",
       "    .dataframe tbody tr th {\n",
       "        vertical-align: top;\n",
       "    }\n",
       "\n",
       "    .dataframe thead th {\n",
       "        text-align: right;\n",
       "    }\n",
       "</style>\n",
       "<table border=\"1\" class=\"dataframe\">\n",
       "  <thead>\n",
       "    <tr style=\"text-align: right;\">\n",
       "      <th></th>\n",
       "      <th></th>\n",
       "      <th>GDPgrowth(pc).SUM</th>\n",
       "      <th>2021 gode medel.SUM</th>\n",
       "    </tr>\n",
       "    <tr>\n",
       "      <th>region</th>\n",
       "      <th>country</th>\n",
       "      <th></th>\n",
       "      <th></th>\n",
       "    </tr>\n",
       "  </thead>\n",
       "  <tbody>\n",
       "    <tr>\n",
       "      <th rowspan=\"5\" valign=\"top\">Africa</th>\n",
       "      <th>Algeria</th>\n",
       "      <td>-6.73</td>\n",
       "      <td>0</td>\n",
       "    </tr>\n",
       "    <tr>\n",
       "      <th>Angola</th>\n",
       "      <td>-8.67</td>\n",
       "      <td>0</td>\n",
       "    </tr>\n",
       "    <tr>\n",
       "      <th>Benin</th>\n",
       "      <td>.95</td>\n",
       "      <td>0</td>\n",
       "    </tr>\n",
       "    <tr>\n",
       "      <th>Botswana</th>\n",
       "      <td>-10.40</td>\n",
       "      <td>0</td>\n",
       "    </tr>\n",
       "    <tr>\n",
       "      <th>Burkina Faso</th>\n",
       "      <td>-.77</td>\n",
       "      <td>0</td>\n",
       "    </tr>\n",
       "    <tr>\n",
       "      <th>...</th>\n",
       "      <th>...</th>\n",
       "      <td>...</td>\n",
       "      <td>...</td>\n",
       "    </tr>\n",
       "    <tr>\n",
       "      <th rowspan=\"5\" valign=\"top\">South America</th>\n",
       "      <th>Paraguay</th>\n",
       "      <td>-2.15</td>\n",
       "      <td>0</td>\n",
       "    </tr>\n",
       "    <tr>\n",
       "      <th>Peru</th>\n",
       "      <td>-12.15</td>\n",
       "      <td>0</td>\n",
       "    </tr>\n",
       "    <tr>\n",
       "      <th>Suriname</th>\n",
       "      <td>-16.91</td>\n",
       "      <td>0</td>\n",
       "    </tr>\n",
       "    <tr>\n",
       "      <th>Uruguay</th>\n",
       "      <td>-6.28</td>\n",
       "      <td>0</td>\n",
       "    </tr>\n",
       "    <tr>\n",
       "      <th>Venezuela</th>\n",
       "      <td>.00</td>\n",
       "      <td>1</td>\n",
       "    </tr>\n",
       "  </tbody>\n",
       "</table>\n",
       "<p>234 rows × 2 columns</p>\n",
       "</div>"
      ],
      "text/plain": [
       "                           GDPgrowth(pc).SUM 2021 gode medel.SUM\n",
       "region        country                                           \n",
       "Africa        Algeria                  -6.73                   0\n",
       "              Angola                   -8.67                   0\n",
       "              Benin                      .95                   0\n",
       "              Botswana                -10.40                   0\n",
       "              Burkina Faso              -.77                   0\n",
       "...                                      ...                 ...\n",
       "South America Paraguay                 -2.15                   0\n",
       "              Peru                    -12.15                   0\n",
       "              Suriname                -16.91                   0\n",
       "              Uruguay                  -6.28                   0\n",
       "              Venezuela                  .00                   1\n",
       "\n",
       "[234 rows x 2 columns]"
      ]
     },
     "execution_count": 31,
     "metadata": {},
     "output_type": "execute_result"
    }
   ],
   "source": [
    "cube.query(measures[\"GDPgrowth(pc).SUM\"], measures[\"2021 gode medel.SUM\"], levels=[levels[('Region', 'Region','country')] ])"
   ]
  },
  {
   "cell_type": "markdown",
   "id": "78e88415-1523-48be-9bc0-ef7b4632bec8",
   "metadata": {},
   "source": [
    "## Query 4\n",
    "Do populous countries prefer individual or team sports?"
   ]
  },
  {
   "cell_type": "code",
   "execution_count": 32,
   "id": "aefb021d-c1b5-4c9b-8546-9ceff9c0c2a0",
   "metadata": {},
   "outputs": [],
   "source": [
    "measures[\"Choiseing Athelete\"] = measures[\"Average Athlete Medals.SUM\"] - measures[\"Average Team Medals.SUM\"]"
   ]
  },
  {
   "cell_type": "code",
   "execution_count": 33,
   "id": "af84e6b9-c036-49cf-91a2-86b752d1c9ec",
   "metadata": {},
   "outputs": [
    {
     "data": {
      "text/html": [
       "<div>\n",
       "<style scoped>\n",
       "    .dataframe tbody tr th:only-of-type {\n",
       "        vertical-align: middle;\n",
       "    }\n",
       "\n",
       "    .dataframe tbody tr th {\n",
       "        vertical-align: top;\n",
       "    }\n",
       "\n",
       "    .dataframe thead th {\n",
       "        text-align: right;\n",
       "    }\n",
       "</style>\n",
       "<table border=\"1\" class=\"dataframe\">\n",
       "  <thead>\n",
       "    <tr style=\"text-align: right;\">\n",
       "      <th></th>\n",
       "      <th>Choiseing Athelete</th>\n",
       "    </tr>\n",
       "    <tr>\n",
       "      <th>countrysize</th>\n",
       "      <th></th>\n",
       "    </tr>\n",
       "  </thead>\n",
       "  <tbody>\n",
       "    <tr>\n",
       "      <th>Large</th>\n",
       "      <td>137.82</td>\n",
       "    </tr>\n",
       "    <tr>\n",
       "      <th>Medium</th>\n",
       "      <td>120.53</td>\n",
       "    </tr>\n",
       "    <tr>\n",
       "      <th>Small</th>\n",
       "      <td>38.46</td>\n",
       "    </tr>\n",
       "  </tbody>\n",
       "</table>\n",
       "</div>"
      ],
      "text/plain": [
       "            Choiseing Athelete\n",
       "countrysize                   \n",
       "Large                   137.82\n",
       "Medium                  120.53\n",
       "Small                    38.46"
      ]
     },
     "execution_count": 33,
     "metadata": {},
     "output_type": "execute_result"
    }
   ],
   "source": [
    "cube.query(measures[\"Choiseing Athelete\"], levels=[levels[('CountrySize', 'countrysize','countrysize')] ])"
   ]
  },
  {
   "cell_type": "markdown",
   "id": "de45f1fb-a438-4a03-9f47-cc46be49ae97",
   "metadata": {},
   "source": [
    "## Query 5\n",
    "How many medals has the country that aces in individual sports won in their favorite sport?"
   ]
  },
  {
   "cell_type": "code",
   "execution_count": 38,
   "id": "f8bc97fa-efe0-41eb-8a77-891f64e73d56",
   "metadata": {},
   "outputs": [
    {
     "data": {
      "text/html": [
       "<div>\n",
       "<style scoped>\n",
       "    .dataframe tbody tr th:only-of-type {\n",
       "        vertical-align: middle;\n",
       "    }\n",
       "\n",
       "    .dataframe tbody tr th {\n",
       "        vertical-align: top;\n",
       "    }\n",
       "\n",
       "    .dataframe thead th {\n",
       "        text-align: right;\n",
       "    }\n",
       "</style>\n",
       "<table border=\"1\" class=\"dataframe\">\n",
       "  <thead>\n",
       "    <tr style=\"text-align: right;\">\n",
       "      <th></th>\n",
       "      <th></th>\n",
       "      <th></th>\n",
       "      <th>medel for strongest sport.SUM</th>\n",
       "    </tr>\n",
       "    <tr>\n",
       "      <th>region</th>\n",
       "      <th>country</th>\n",
       "      <th>sportlevel</th>\n",
       "      <th></th>\n",
       "    </tr>\n",
       "  </thead>\n",
       "  <tbody>\n",
       "    <tr>\n",
       "      <th rowspan=\"5\" valign=\"top\">Africa</th>\n",
       "      <th>Algeria</th>\n",
       "      <th>Poor</th>\n",
       "      <td>9</td>\n",
       "    </tr>\n",
       "    <tr>\n",
       "      <th>Angola</th>\n",
       "      <th>Poor</th>\n",
       "      <td>0</td>\n",
       "    </tr>\n",
       "    <tr>\n",
       "      <th>Benin</th>\n",
       "      <th>Poor</th>\n",
       "      <td>0</td>\n",
       "    </tr>\n",
       "    <tr>\n",
       "      <th>Botswana</th>\n",
       "      <th>Poor</th>\n",
       "      <td>2</td>\n",
       "    </tr>\n",
       "    <tr>\n",
       "      <th>Burkina Faso</th>\n",
       "      <th>Poor</th>\n",
       "      <td>1</td>\n",
       "    </tr>\n",
       "    <tr>\n",
       "      <th>...</th>\n",
       "      <th>...</th>\n",
       "      <th>...</th>\n",
       "      <td>...</td>\n",
       "    </tr>\n",
       "    <tr>\n",
       "      <th rowspan=\"5\" valign=\"top\">South America</th>\n",
       "      <th>Paraguay</th>\n",
       "      <th>Poor</th>\n",
       "      <td>1</td>\n",
       "    </tr>\n",
       "    <tr>\n",
       "      <th>Peru</th>\n",
       "      <th>Poor</th>\n",
       "      <td>3</td>\n",
       "    </tr>\n",
       "    <tr>\n",
       "      <th>Suriname</th>\n",
       "      <th>Poor</th>\n",
       "      <td>2</td>\n",
       "    </tr>\n",
       "    <tr>\n",
       "      <th>Uruguay</th>\n",
       "      <th>Poor</th>\n",
       "      <td>6</td>\n",
       "    </tr>\n",
       "    <tr>\n",
       "      <th>Venezuela</th>\n",
       "      <th>Poor</th>\n",
       "      <td>6</td>\n",
       "    </tr>\n",
       "  </tbody>\n",
       "</table>\n",
       "<p>234 rows × 1 columns</p>\n",
       "</div>"
      ],
      "text/plain": [
       "                                      medel for strongest sport.SUM\n",
       "region        country      sportlevel                              \n",
       "Africa        Algeria      Poor                                   9\n",
       "              Angola       Poor                                   0\n",
       "              Benin        Poor                                   0\n",
       "              Botswana     Poor                                   2\n",
       "              Burkina Faso Poor                                   1\n",
       "...                                                             ...\n",
       "South America Paraguay     Poor                                   1\n",
       "              Peru         Poor                                   3\n",
       "              Suriname     Poor                                   2\n",
       "              Uruguay      Poor                                   6\n",
       "              Venezuela    Poor                                   6\n",
       "\n",
       "[234 rows x 1 columns]"
      ]
     },
     "execution_count": 38,
     "metadata": {},
     "output_type": "execute_result"
    }
   ],
   "source": [
    "cube.query(measures['medel for strongest sport.SUM'], levels=[levels[('Region', 'Region','country')], levels[('sportslevel','sportlevel','sportlevel')]])"
   ]
  },
  {
   "cell_type": "markdown",
   "id": "8281cb2d-013a-4d57-abc4-f20cbcaaca17",
   "metadata": {},
   "source": [
    "## Presentation"
   ]
  },
  {
   "cell_type": "code",
   "execution_count": 34,
   "id": "70508704-ba4e-439d-84d2-f6078b52ef0a",
   "metadata": {
    "atoti": {
     "widget": {
      "mapping": {
       "columns": [
        "ALL_MEASURES"
       ],
       "measures": [
        "[Measures].[numberofhost.SUM]"
       ],
       "rows": [
        "[CountrySize].[countrysize].[countrysize]"
       ]
      },
      "query": {
       "mdx": "SELECT NON EMPTY Crossjoin(Hierarchize(Descendants({[CountrySize].[countrysize].[ALL].[AllMember]}, 1, SELF_AND_BEFORE)), Hierarchize(Descendants({[Region].[Region].[ALL].[AllMember]}, 2, SELF_AND_BEFORE))) DIMENSION PROPERTIES CHILDREN_CARDINALITY ON ROWS, NON EMPTY {[Measures].[numberofhost.SUM]} ON COLUMNS FROM [Medaleco] CELL PROPERTIES VALUE, FORMATTED_VALUE, BACK_COLOR, FORE_COLOR, FONT_FLAGS",
       "updateMode": "once"
      },
      "serverKey": "default",
      "widgetKey": "pivot-table"
     }
    }
   },
   "outputs": [
    {
     "data": {
      "application/vnd.atoti.widget.v0+json": {
       "sessionId": "1712146392_0PJSY0",
       "sessionLocation": {
        "https": false,
        "port": 9092
       },
       "widgetCreationCode": "session.widget"
      },
      "text/html": [
       "<img height=\"352\" width=\"1209\" src=\"data:image/png;base64,iVBORw0KGgoAAAANSUhEUgAABLkAAAFgCAYAAABXMquNAAAAAXNSR0IArs4c6QAAIABJREFUeF7t3Qu0bHddJ/jfzsNLIE9CchMD5nkJjwyvkESRJa9BIsMEI28QBrUdFYcWuntcjk070y6W47BcgMMS7aZVGjUQAgbTiMFMEBkQQogJiGC4eRJCXiQx9yaQkMee8zuz93HfStU5Vfec2rX3rs9Z667knrNr////z29Xnbu/9f//qwhfBAgQIECAAAECBAgQIECAAAECBHouUPS8/7pPgAABAgQIECBAgAABAgQIECBAINZCrmec/iMlDwLLIPD3X/y8cHcZCm2MBAgQIECAAAECBAgQILBUAkKupSq3waaAkMt1QIAAAQIECBAgQIAAAQIEhicg5BpeTY1oAwEhl0uEAAECBAgQIECAAAECBAgMT0DINbyaGpGQyzVAgAABAgQIECBAgAABAgSWTkDItXQlN2AzuVwDBAgQIECAAAECBAgQIEBgeAJCruHV1Ig2EBByuUQIECBAgAABAgQIECBAgMDwBIRcw6upEQm5XAMECBAgQIAAAQIECBAgQGDpBIRcS1dyAzaTyzVAgAABAgQIECBAgAABAgSGJyDkGl5NjWgDASGXS4QAAQIECBAgQIAAAQIECAxPQMg1vJoakZDLNUCAAAECBAgQIECAAAECBJZOYFAh13777huPf/yOuP+BB2Lnzqt6UcwdO05a7ed6/T3ooIPihOOPi2uuvS52797di3F1uZNmcnW5OvpGgAABAgQIECBAgAABAgT2TmBiyPXYxx4TR23fHjffckt861s37nH2OkzatXv3w362d93YmkcJubbGcehnEXINvcLGR4AAAQIECBAgQIAAAQLLKLBhyPXgQw/FVVddvccMoq6GXPMo4LRjnfa40T6ayTWPqq1/TiFX++ZaJECAAAECBAgQIECAAAEC8xZYN+Q6+KCD4sEHH4p9990nvvGNnfHAgw+u9mdvA515D2Ye5592rNMeJ+SaR5VmO6eQazYvRxMgQIAAAQIECBAgQIAAgT4IbBhyXXf9N2PHSSfG7XfcsbY0cVKgUy9xrAd+3XXXx3duvz0ec/jhccwxPxj/dOU34r777lv9cR57+KMfvcf3clbT9773vbFLIOtzXHPttXHC8cfH/vvvv3qe5nLKZr/uumvX2H2sRvuybdu2eMLJj187X3PmWu6FddJJJ8a+++yzVstxyzfXO270Z9/97nf3CAzrmVx33nFnHHfcsavtjM6eG7cn1+h579q1qzf7kC36iSHkWnQFtE+AAAECBAgQIECAAAECBLZeYMOQK2dwHXroofG4H3rc2rLFcSFXhlY586ue8VWHMDd884bYfffdq0HSjTd+ezX0qh//yEc+MuogrA6b6mNGh5rhVIZA999//1owVrdx2223rQZjzX7dfNPNq5vQN/cNG+336OOzzbqdul/TztCadNyxx/5Q3HzzLavh3rg9wzLkOuTgg6MZUqXlEUccseY9GnKN/r2Pe5Ft/aU8/RmFXNNbOZIAAQIECBAgQIAAAQIECPRFYKqQK5cpZhiz/377rYZY+dUMkDKg2rHjxLj++hv22Lurud9Uc5ZWhjTHHvu4eOjBh9ZCqPp7O3devTbbq4mY4VMzaKt/1gzXRvs1LnhrfkrhpP2wmt/fbMg1eiGM9qnpOmk56GioNW7G27jZcn25CNvup5CrbXHtESBAgAABAgQIECBAgACB+QtMHXLVM61y2eLoLKlxy/XqrtczlJrhTs4MO+zRh0Uu0TvyyCNWg7Ojjj4qDjjggIlL7iaFOM3vP/jAA+uGb9mHuo06vLr11ttWZ5eNBmp1v0aDs0klWS8Mq2dr1Y9tLlmcJmhrhlzf++53V8eYs+BGv5qz3OZ/6fS3BSFXf2un5wQIECBAgAABAgQIECBAYJLA1CFXnqCeTXXdddfF0UcdNfUsrHxsM6g56qjtqwFXLmPMGWC5RDHPNy5wqju+NyFXPrae9VQHc3UbbYRcdfh39913r4V342ZyZT937rxqjxo1w69xIdd6Vi739QWEXK4QAgQIECBAgAABAgQIECAwPIGZQq46NMpli/mpi/d8957VvbA22k8rH1eHSnf+811x2KGHxNXXXLu6LDHDnLvvvmeP741jnhRybbS0MB+Xs7Juuvnm1c3vm8shp5lFtZnliqOBVo5rmpBr1HPccsVxwdjwLs/5jEjINR9XZyVAgAABAgQIECBAgAABAosUmDnkan4aYfOTBjMweuQBB+zxaYlHH3105Cym3bt3r46x/vTF0U3Wj9q+PUY/dXAUpd4QvnncNJvEZ0h14oknrp6uDuXqc0/aeH50769JYdhoH0ePGw3m6vbuu/fetQ3666WM61mOhlyj485+5DEHHnhg3HTTTYu8nnrRtpCrF2XSSQIECBAgQIAAAQIECBAgMJPAzCFXnr0OWZrBTH5/dO+pZphVBzEnnXRi5Ccu1vtgjQuaxo2gDoxuve07ccwPHr12SP0piPmNSbOuRj+tsHn+0f3Exu1r1TxmdMyTzlUf1zTJgO6793wvHvmoA/YIuepz5Kcs5tdoH0ZDrmYN6sfaj2v6617INb2VIwkQIECAAAECBAgQIECAQF8EJoZcXRuATw/sWkX62x8hV39rp+cECBAgQIAAAQIECBAgQGCSgJDLtbF0AkKupSu5ARMgQIAAAQIECBAgQIDAEggIuZagyIa4p4CQyxVBgAABAgQIECBAgAABAgSGJyDkGl5NjWgDASGXS4QAAQIECBAgQIAAAQIECAxPoDch1/DojWhRAkKuRclrlwABAgQIECBAgAABAgQIzE9AyDU/W2fuqICQq6OF0S0CBAgQIECAAAECBAgQILAJASHXJvA8tJ8CQq5+1k2vCRAgQIAAAQIECBAgQIDAegJCLtfH0gkIuZau5AZMgAABAgQIECBAgAABAksgIORagiIb4p4CQi5XBAECBAgQIECAAAECBAgQGJ7AWsg1vKEZEQECBAgQIECAAAECBAgQIECAwLIICLmWpdLGSYAAAQIECBAgQIAAAQIECBAYsICQa8DFNTQCBAgQIECAAAECBAgQIECAwLIICLmWpdLGSYBA7wTOfsWryuz0+eed67W6d9XTYQIECBAgQIAAAQIE2hZw49S2uPYIECAwpYCQa0oohxEgQIAAAQIECBAgQCAihFwuAwIECHRUQMjV0cLoFgECBAgQIECAAAECnRQQcnWyLDpFgACBCCGXq4AAAQIECBAgQIAAAQLTCwi5prdyJAECBFoVEHK1yq0xAgQIECBAgAABAgR6LiDk6nkBdZ8AgeEKCLmGW1sjI0CAAAECBAgQIEBg6wWEXFtv6owECBDYEgEh15YwOgkBAgQIECBAgAABAksiIORakkIbJgEC/RMQcvWvZnpMgAABAgQIECBAgMDiBIRci7PXMgECBNYVEHK5QAgQIECAAAECBAgQIDC9wGBDrrIsXxsR+0TER4qiuHd6EkfOIsB5Fi3HEphNYJEhV/XcflFEfLAoigtn6/l0R5dl+YiI+NmIOCMi/jkiromIZ8yzzbpnZVk+LSJeFRGPrX5XfCci/lNE/FBEvLz63bE67rIsnx4Rb4qIvymK4pyyLN8eESdExJUR8X/Vv2Oq8fz7iDgxIj6ex04n4SgCBAgQIECAAAECBLZCoBMhV1mWj69udG4siuI9mx1YWZaHR8S/iYh9I+L/Lori25s9p8c/XICzq6IsyzMj4sUR8ZdFUXySyNYKLEHI9dyIeH1EfC4iMhD6qYjYkmCtLMsfjIg3RsQPFEXxfzQrU5blMSuh2lvyZxFxfkR8LyKevfLn/1kJuo6eMuR6XETcHRH/uSiKL1dh2I9ExM+sBF8HrAR3fyXk2trng7MRIECAAAECBAgQ2EigKyFX/S7514qieNdGnfZzAgS6IdDGbJ9ujHQxvViCkCtD0rVZU1t5PZVleXwVZO0uiuJtIyFX/Tvn0qIo/vPIz/boUxVejZvJdWT1Rspni6L44+q4nJV2WkTkDLWLhFyLed5olQABAgQIECBAYHkF1g25yrI8OyJ+PCIOjoi7IuLPIuKyiHh1RPxY9Q/5XAr4mYj4UET8UkQ8KSLeWxTF5WVZvrX+e0Q8sXqH/p9Wjn1CRGTbl0TElyLiX0XEo6oy3BYRH42Il1VLSHLJYbbx/erv7yiK4vayLPNm4vSVpSV/tLIs5JnVjcW2iLipemf+FRGxuzpXLjOpz5/NfCsi3l0tkclZAzm+XSvLZC4oiuITQ78cGjd/aZt/7oyIXH5T1zUdc+nOByPiioj46ZUbth+tZj1cHxFHVTMePt+8iSzL8rhqVkbOzMvz3l4t+flMtbznkMo5j7un+tlfD9277fFVS6ayljkzJWeU3LJSsz+IiEdWNc4ZKPl1Q/W8zed2zmpZDQNGw4FJtYuIx6w8f1/SGN+lVVv5nMrnYYYAn42IDAhyluZvV0HAr0XEEUVR/Nu2bfrW3qSQq5pB95qV5XZfj4iTqjr/Y0S8b2VW1Aubs6GawVE1/nxcPq9Prq6JL6w8//erXkMfWHld/URRFOc1HpfnzdfsfF2o28jX1nGvF3mt5bXUfG35L+NeF6q2sy/7V/3KpYpfm/B74g+rYyb97sklhzmDKpcaZts7I+KwvM6qx+XrzervpeoazNm+b46IYyPi/61ei/J3QC5NnDbkOqj6HZMzhn+n+n2YM4i/uXK+U+qljX275vSXAAECBAgQIECAQJ8FJoZcZVk+vwo3cs+Rv6hunPLG4dHVTcjfRsTFK0HVT1RhUQZTOzYIuf6HleUoX8mlTRGRAVrebP9edVOSQdTqTK7GTXbeoH+gKIrPlmWZNzB50543TBm05M3ErRGRNy15o/TJoijOrW5Sxr6DX5blG1ZuPJ6z0scPR8T9K+29supLjuV/zhuelQAtb3wG/TXBN0PB51VB5nVVYJk3b+mbNf5i3vxWS9My8Mr/Xwu5IiJn4KVdLvXJcCxr87oqQPzdatlQLhHKJW0ZruTPvlMUxW8MGnsBgyvLMmuZ4VOGF59aCTR+sgon8jmdz/kPVDfkGRh8NyLOi4j/aYOQa2ztRmfeVH/Ptv++Wsa1qyzLX63Ch1yKnIHGL+f1VM9+WQBRb5qcIuTKwD6fb7ns79RqyV8GO2tL/iaEXBnE5Otlvgbm/lH5PL+oWjaer43vrM6Ztcw3JnIpYc5QyvPm62Uu0xv3elFfS6uv3VUIt97rQgZ0ozO5ss1/WBnPf6v6l6F6/p548jq/e3IMGcT9p6IoMsDLsGriTK7q5xm25++EDPvWQvcZQ65cZvmCiHh/FTTmmzO5j9dZQq7ePM10lAABAgQIECBAYEAC64VcOSvrKXlzURTFV8uyzJuRA6s9U3JGyDtzr6uyLPMGIW9irq5cNprJtbqJcXXjlTMO/ms1S2xcyLW2zKQsy6dWwUuGLfmOf96gZ1iVM45+oZpllDNJcmZQjmttZkp1Q5M3+LkZfS4teX9Zlr9ShXPNct5TFMXPD6i+Y4cy7uavLMvfrGaENB+Ts+pylk/eNNfXwdqynZGQK29uM7y4vCiK36/MX7ry9/yTdcqAMmc+vLsoimur2UG5pGf1Ohq6eZvjK8syg8OcnVg/R7NmObMkQ4mcpfORqj45GzL3EKpD7PVmco2tXRWEjA1U6s3Kq8A8n3sZWmTIlc/FDCNW9zHyNVlgipArw/3cCD1nH+Um6vkGQu4ztVHIVT8u67L6OlwUxaer2bcZ/uRM17w2muepQ6MMwXOWVP5OGH29qGfh1tdSvm6v97qQj5+4XHHk90ReN5N+92Rw/j9Ws0f/pgricrbWHr8HxkmXZZnjzL3Ackw5YyxnnE6z8Xw+J/6kCogzCEz3fBMo9/jK35+rm9S7vgkQIECAAAECBAgQaE9gvZArQ6CcmfWeoihyNtfqVxWG5LKVetlgHXLlLK9cUpifjLXecsVmyLV6A1UtcVo35KrazhkheeOSsxDyhqu+ic+bsnw3PWcaPJifarUyiyVv+uobrbwZyxutXGKT47mtCrnynf/V8KY98sW3tE7ItXYD2ah3LjnNWRKr10FZljlbJG/gcoZQcyZXHXJ9oSiKXEKa10oGXDmjIZey5gy60aBk7e+LVxlOD0afo1UtMsjIYDiX5GaolfXJkOuHqxAyny/3rrNccWztxgQhGZrssXF49QEF/64KTDMIiKIoMlT1tYHAjCHX6ozW6nU4Z82e23hDoX6tzRbrma8ZjmW9MvxsvmZPCrnydeBfr8zKrEOuca8Xe8yeqt6cyNfeSa8LOVt0o5Cr7vuzqiWTD/vdUxTF75Zlma///301oyt/H2WYm69VD9uTa5S9Crpy2XzOTs5wP13W9tSqXstyRuTH8vlThfSrz4lqdmu9BD+XPn6j+UmMLnICBAgQIECAAAECBNoTWC/kyiUjuewp90jJm+IMs3LWVH5set5INJcr5s1FztbJd8JzaVt+QlUGR7kUJGd/vbexJ9e4kOvaajZY7uOTS5rGvgNfzQjJG/Xs99+NLncqyzKXwGXfMoDJfboy1Mq9pjKwy6WReSOX48kb/Hp8uXwyl9VkEPaMoihyWcygvyaEXLkcNGdK5CyIP6/2O8tPJ8uZXHlzl4FWLmfKZaY5MyhnjIwuV0zn7SPLFXPZUtb054Rc7VxW1dLerOXfVTMbc++63B8tg4+HRpYr5n5sWZ+sXe6xlaFzzkbJmuc+WrlHVz6HJoVcOdszjx3dx2n1ed4IS3OWUQZtZb6eFEWRQbSv+YRcdUiTS0ZzZmvuqZd7VWVtZw256iXmH6vCsJz1lP9/6ITXi/y90NzfLV/L13tdyN8r04ZcOaN07O+e+pM9y7LMGYwZqOb1mrOEM9DLPboyjMprL0O63OMxf0fk7NKc/XtHNbachfynK4/JN3VyOXye46+qpZk5Syx/7/xuURRXjYRcGezlJ0TmefP3R85WzDdtzOTyDCdAgAABAgQIECDQssB6IVcuJctAI2dI5Tv2/1zt15R7peQ/6DNEyhlduTdLvuOdGxXnP/bz3fCcCZABUwYkecO8Ucj16WrJYd6M515OueRldeP45qdiVTNCcjZXLif5/VzuVJZl9i/DrezvfdVNS97ArL6DX22Un0tRcsZA/ZU3gbmkLmex1Bvo595ElxRFkRs3D/prQsiVN5A5eyFn4uUm1GmXoVZ+qEDu15TLjjIgqTe63mMmVxWG5GyGvDbqzZ9zGeKHiqK4bL2gJJcvDhq85cFVN/r1czRnTtUbz+dzMUPirHXWMpcY/2l1057Po3zO5Y19hs35QQ23TxFy5fMqn2u5F1t+kEQ+t/aYyZXDbyxrzudozsC8sWWWXja3lzO5cjZXvg7nEtXcXyut9zbkylrmvl/5JkGGRFnjnKmZ18m414sM1kaXiq/3urDupyuO7CeWoe2k3z05WyxneuVXbiB/flEUf12WZR6f4WoGUPlGTIZk+f+5p2D+Xsi95vIaztf//JCEfL26tyzL/N1QP1fynPkGz0eLosjXw7ye14Lfqr38vXRnfrhCWZZ7fBJjLy88nSZAgAABAgQIECDQU4F1P12xa2NqhFy5d5blTgsoUFmWucF1ztD766IochmiLwIbCjRCrn+s92zb8EEOiEkhFxoCBAgQIECAAAECBAgQeLhAb0Kusixz6VwGLPkn31HP2Qq+5ixQ7amTsx9yCWp+5aex5bK2/1IURS718UVgXYFq5uCLq0/H+8Oc2YdsOgEh13ROjiJAgAABAgQIECBAgEAK9CnkyuUhuWQmN/bNJVa55MTXnAXKsnx8tZT0qKqp3MPpvwkZ5ww/kNM3lsbm8se/KooilyL7mlJAyDUllMMIECBAgAABAgQIECDQp5BLtQgQILBsAkKuZau48RIgQIAAAQIECBAgsBmB3szk2swgPZYAAQJ9FBBy9bFq+kyAAAECBAgQIECAwKIEhFyLktcuAQIENhAQcrlECBAgQIAAAQIECBAgML2AkGt6K0cSIECgVQEhV6vcGiNAgAABAgQIECBAoOcCayFXfTPV8/HoPgECBAgQ6JXA+eed6w2nXlVMZwkQIECAAAECBLoqIOTqamX0iwABAgSWQkDItRRlNkgCBAgQIECAAIEWBLx73AKyJggQILA3ApYr7o1avx6TNRZy9atmekuAAAECBAgQINBdASFXd2ujZwQILLmAkGv4F4CQa/g1NkICBAgQIECAAIH2BIRc7VlriQABAjMJCLlm4urlwUKuXpZNpwkQIECAAAECBDoqIOTqaGF0iwABAkKu4V8DQq7h19gICRAgQIAAAQIE2hMQcrVnrSUCBAjMJCDkmomrlwcLuXpZNp0mQIAAAQIECBDoqICQq6OF0S0CBAgIuYZ/DQi5hl9jIyRAgAABAgQIEGhPQMjVnrWWCBAgMJOAkGsmrl4eLOTqZdl0mgABAgQIECBAoKMCQq6OFka3CBAgIOQa/jUg5Bp+jY2QAAECBAgQIECgPQEhV3vWWiJAgMBMAkKumbh6ebCQq5dl02kCBAgQIECAAIGOCkwMucqy/N2IOGJMvz9eFMU5mxlPWZbHR8RbImJ3URRv28y5PJYAAQJDFRBydb+yZVm+NSJOa/R09XdkWZavjYiXVN+/JyLeWxTF5aMjEnJ1v8Z6SIAAAQIECBAg0B+B9UKuJ0XEtog4NSJ+OCLOjYjvRMQtRVF8e9wQy7I8MyJevPIP/r8siuKTkxiEXP25QPSUAIHFCQi5Fmc/bctlWb49Ir42+uZPWZZnR8QVRVFcWwVhh497U0fINa204wgQIECAAAECBAhsLLDhcsXq3ejnTXoXutlEdeyLIuKDRVFcKOTauACOIECAwCQBIVf3r42yLH9j5c2dL27wOy/fAHpB9Xv02uaohFzdr7EeEiBAgAABAgQI9Edg5pCrLMvjIuL1EfH4iNgnIm6PiI9ExGMbSzNS4NKc0RURPxsRx1TH5kywD0TEHZYr9uci0VMCBBYjIORajPu0rTZmJddL+68ZN1urmskVRVG8a/TcQq5ptR1HgAABAgQIECBAYGOBmUKulcDqmyuh1psj4uicrRURt0bE6yLi4IjIPbxOj4i1mVxlWWa4dXJE/EMVgv1CRHw9Ii4Qcm1cHEcQILDcAkKu/tS/EXhdl2HWSAB26biAK0cn5OpPjfWUAAECBAgQIECg+wKzhlwPRcQvR8TlRVH8fg6vLMuXrvw9/3w4Ih49EnLlu9uvWJnpdUpEPCoi9q9meH1MyNX9i0MPCRBYrICQa7H+s7ZeLdl/0uhsrmomV86Cfnfu0dU8r5BrVmXHEyBAgAABAgQIEJgssLch1xeKovijRsh1VkR8qPo0xuZMrpy59Yxq1tf1VbB1XUQIuVyVBAgQ2EBAyNWvS2SdkCs/UfhNEXHx6N5dQq5+1VhvCRAgQIAAAQIEui0wa8iVyxV/JSK2jyxXPCAi3hMRT1n5NKmfXFm2+ImiKM6r3r0+aWVPrvdFRL6LvfppU0Kubl8UekeAQDcEhFzdqMM0vWgsT7xkZUbz51d+zz2tKIrzqzeDXhsRZ5jJNY2kYwgQIECAAAECBAjsvcBMIVdRFJeXZfmEauP5H6o2k/92zuIqiuKysiwz0Pqlas+u/If+FyLiDSv/sD80InIGV+7ddY2Qa+8L5pEECCyPgJCr27Uuy/Lp1QytXI6fX2t7b5Vl+faVD1o5ofr+PZM+odhMrm7XWO8IECBAgAABAgT6JbBhyNWv4egtAQIEhiMg5BpOLSeNRMg1/BobIQECBAgQIECAQHsCQq72rLVEgACBmQSEXDNx9fJgIVcvy6bTBAgQIECAAAECHRUQcnW0MLpFgAABIdfwrwEh1/BrbIQECBAgQIAAAQLtCQi52rPWEgECBGYSEHLNxNXLg4VcvSybThMgQIAAAQIECHRUQMjV0cLoFgECBIRcw78GhFzDr7EREiBAgAABAgQItCcg5GrPWksECBCYSUDINRNXLw8WcvWybDpNgAABAgQIECDQUQEhV0cLo1sECBAQcg3/GhByDb/GRkiAAAECBAgQINCewFrIVd9Mtde0lggQIECAAIHzzzvXG04uAwIECBAgQIAAAQJbIOAf1luA6BQECBCYh4CZXPNQ7dY5zeTqVj30hgABAgQIECBAoN8CQq5+10/vCRAYsICQa8DFrYYm5Bp+jY2QAAECBAgQIECgPQEhV3vWWiJAgMBMAkKumbh6ebCQq5dl02kCBAgQIECAAIGOCgi5OloY3SJAgICQa/jXgJBr+DU2QgIECBAgQIAAgfYEhFztWWuJAAECMwkIuWbi6uXBQq5elk2nCRAgQIAAAQIEOiog5OpoYXSLAAECQq7hXwNCruHX2AgJECBAgAABAgTaExBytWetJQIECMwkIOSaiauXBwu5elk2nSZAgAABAgQIEOiogJCro4XRLQIECAi5hn8NCLmGX2MjJECAAAECBAgQaE9AyNWetZYIECAwk4CQayauXh4s5Opl2XSaAAECBAgQIECgowITQ66yLJ8eEW+KiK8VRfGujvZft/ZSoCzL342II8Y8/ONFUZyzl6ddfVhZlsdHxFsiYndRFG/bzLk8lsAyCwi5ul39xmtd/Vp6af37svE79FHVKG6LiHcXRXFtc1RCrm7XWO8IECBAgAABAgT6JSDk6le9tqy3ZVk+KSK2RcSpEfHDEXFuRHwnIm4piuLb4xoqy/LMiHhxRPxlURSfnNQZIdeWlcmJllxAyNXtC6AKsrYXRXFh9f8/HxEXVH/P18sXRMR7R4MtIVe366p3BAgQIECAAAEC/RUQcvW3dlvS87IsXxsRz6tuxC5f76TVsS+KiA/mTZyQa0tK4CQEJgoIufp1cZRl+fZq9vM51ZsCpxdF8ZvrjcJMrn7VWG8JECBAgAABAgS6LTBzyFWWZc76eU1EPKYa2nUR8ccR8WC1RG2fiMg/d0bERyLi9RFxVETcU33vEblkIyJuioiickqeAAAgAElEQVRXR8SPVTOKchZRhidf6DbZsHo3GnKVZXlcVbPHV3W8varjYyPiJY3RX5ozuiLiZyPimOrYrOEHIuIOyxWHdZ0YzWIEhFyLcd+bVquZXG+MiPcXRXF59dpav2beP+nNASHX3mh7DAECBAgQIECAAIHxAnsTcj2hCri+Ui1zy8Arl65dUgUbB1RBx9dXQq1fiYjDIqLe4ylnDT1UhVzPrGYQ/VlEZFD2SxGxb1EU/5titSfQDLlWAqtvRsSbI+LovCFb2ZPt1oh4XUQcvFLH3MPr9IhYm8lVlmWGWydHxD9ERIZgvxARWfcLhFzt1VBLwxUQcnW/to0wK9/IyaWJD5sRu96MWSFX92ushwQIECBAgAABAv0R2JuQK2f6vCIiToyIR0bEfhHx8ZXw4/PNYKMsy6dGxC9HxOVFUfx+kpRl+daVd7nz8TmT62ci4qQRqtuKoshgzFdLAiMhVwaQozV76UoN88+HI+LRIyFXbrac18IpEZGbK+8fETnD62NCrpYKqJlBCwi5+lPexkbzfzP64R3VPoX5QS4Xjy71FnL1p8Z6SoAAAQIECBAg0H2BvQm58tPyMtz4w5x5VX0C49+MCbnqT2f8fFEUf1SFXP82In6oEXJlSPbOSRudd5+v/z2cEHJ9oVGzDLjOiogPVXVvzuTKmVvPqGZ9XV8FWzkrT8jV/0vDCDogIOTqQBFm6EL1evqk0U+VFXLNgOhQAgQIECBAgAABApsQmCbkuioi/rpqI5djvKHaQ+v3qk+Oyk3LPzEm5PrBKvTIT/DLgCT/m0sb761CrudGxPMjIgOyP6+Wwv1gURTv38R4PHRGgTHLFXMm3faR5Yq5BPU9K3V6SkT8ZNa7KIrzqpl5ORvvfdUMvbNXfn6FkGvGIjicwAQBIVe3L41qc/n8RNrcg+v46nfeJWNmcuVS/TPyd9/oJy2aydXtGusdAQIECBAgQIBAvwSmCblyGVr9dU1EfG5lD6aXVaHVlVW48anRkCsfUJZlBlmvjIhDIiI3Jc/N6HOPrlyueHdE5D/8cyZQLnncHREXFUXx0X4R9ru3Yzaezz3X8sMCcsZdfoDAtzOkLIrisrIsM9DKvdNyz67cgy0/JCBDz0OrfdVy7668Rszk6vdlofcdERBydaQQE7pRhVz55k0u1c6vS4uieFf1+y+X559WfX/ifl1Crm7XWO8IECBAgAABAgT6JTAx5JrHMMqy/I065CqKIpe3+SJAgACBCQJCruFfGkKu4dfYCAkQIECAAAECBNoTmGvIVZblz1YztnLWz7Mi4scj4iv1O93tDVNLBAgQ6J+AkKt/NZu1x0KuWcUcT4AAAQIECBAgQGCywLxDrjeu7Ln1nGpp4/0R8dWIOKcoihsVhQABAgTWFxByDf8KEXINv8ZGSIAAAQIECBAg0J7AXEOu9oahJQIECAxPQMg1vJqOjkjINfwaGyEBAgQIECBAgEB7AkKu9qy1RIAAgZkEhFwzcfXyYCFXL8um0wQIECBAgAABAh0VEHJ1tDC6RYAAASHX8K8BIdfwa2yEBAgQIECAAAEC7QmshVz1zVR7TWuJAAECBAgQOP+8c73h5DIgQIAAAQIECBAgsAUC/mG9BYhOQYAAgXkImMk1D9VundNMrm7VQ28IECBAgAABAgT6LSDk6nf99J4AgQELCLkGXNxqaEKu4dfYCAkQIECAAAECBNoTEHK1Z60lAgQIzCQg5JqJq5cHC7l6WTadJkCAAAECBAgQ6KiAkKujhdEtAgQICLmGfw0IuYZfYyMkQIAAAQIECBBoT0DI1Z61lggQIDCTgJBrJq5eHizk6mXZdJoAAQIECBAgQKCjAkKujhZGtwgQICDkGv41IOQafo2NkAABAgQIECBAoD0BIVd71loiQIDATAJCrpm4enmwkKuXZdNpAgQIECBAgACBjgoIuTpaGN0iQICAkGv414CQa/g1NkICBAgQIECAAIH2BIRc7VlriQABAjMJCLlm4urlwUKuXpZNpwkQIECAAAECBDoqIOTqaGHa6lZZlidHxJsjYltE/H5RFH9ft12W5akR8YaIeExE/GVRFOc0+1WW5SkR8fyVP58piuKKtvqsnY0FyrL83Yg4YuTI+yPig0VRXLjxGSYfUZbl2yPia6PXw2bO6bHjBYRc/b4yqufKCdUoPj7uOSPk6neN9Z4AAQIECBAgQKBbAkKubtWj9d6UZfnyiPjxiMhr4W+aN2FlWf5GRBxehV//NNq5sixfEhFnR0TevJ3feuc1uKFAWZavjYgnFUXxto0OnvZYIddGklv3cyHX1lm2faayLN+ar5/53CvL8syIOCsi3lcUxeXNvgi52q6M9ggQIECAAAECBIYsIOQacnWnGFsVZH2/OvSQiPidoihuz79XYUZME5BM0ZRDFiAwbXBV1XuqQEzI1V4hhVztWW9lS2VZHh8Rb4qIi+uZk5OeN0KurZR3LgIECBAgQIAAgWUXEHIt8RVQluVTI+LnI+KiiHgwInJm1n8tiuLzI8tscpnb30TE0yNin+rPnblkLSJelEvgIuLTEfHqiHh2RBwQEbdExB9ExOkrP3tuRDwyIvI8l0TEHxVFce8S07c29NGQq5pR8pqI2L/qxOoSquq4rH9+rS5rjIgnrixTPa363j0R8d6chSLkaq18IeRqz3orWyrLMl8r3xgR769nblUzu/JNg3c12xJybaW8cxEgQIAAAQIECCy7gJBria+AsixftRJw/ejK3k2/V4Vc/zoiLi+K4o+TpTmTq5qZ8JYqwPpAURSfrYKROuQ6qArJvhARn4qIn4yIv46IR0TEdyPiyipQ+++yvaIovrzE9K0NvRlyVQFXLk/9SM4uqW7EM+S8oPr7xJlczRt0IVdr5RNytUe9pS0JubaU08kIECBAgAABAgQITC0g5JqaalgHlmWZ4dO/j4gTR0Z2w8qsq3fkksUJIdfuevniSMiVM7YOXvnzzqIovl3d5P1zRDxuZfbWT6zMAjqyEXitzggalmg3RzMScmWItb05k2QkvNoj5KpqmEuuHlWN7ppqfyEbz7dUbjO5WoLe4maEXFsM6nQECBAgQIAAAQIEphQQck0JNbTDyrJ8RkT8QkR8LiL+oRpfLk/LpYV/3FiyuLonV2Mm16SQ61nVJzSuBmR5vrIsnxQR/0tEXJvLdlbaemFEPK9e9jY00y6OZ29DrvVmeZnJ1V6lhVztWW9lS/bk2kpN5yJAgAABAgQIECAwvYCQa3qrQR1ZluXPRMSP5L5ZRVH8fRVKnRIRvxwRXymK4vdnnMl1dEQ8f+WTGv+uWqaYM7tyQ/v8VLEvVd/7V9WMLjO5Wrqa9na54uinwY1cC2ZytVQ/IVdL0HNoxqcrzgHVKQkQIECAAAECBAhsICDkWtJLpCzL/7PafHx1eWEVcuUSxv9Qzch6Z/XpYNPO5Mpw6/UR8cyI+IFq4/nc2ytnbuXm5fdFxFXV8kghV0vX3ZiN53NJYr3BfPZideP5qv65WXYuT8z65cbz+SECJ1RdvSb/a7liS4WrmhFyteu9la01Zr8eUX+YQ/1Ji812bDy/lerORYAAAQIECBAgsOwCQq5lvwKMnwCBzgoIuTpbmi3rmJBryyidiAABAgQIECBAgEAIuVwEBAgQ6KiAkKujhdnCbgm5thDTqQgQIECAAAECBJZeQMi19JcAAAIEuiog5OpqZbauX0KurbN0JgIECBAgQIAAAQJCLtcAAQIEOiog5OpoYbawW0KuLcR0KgIECBAgQIAAgaUXEHIt/SUAgACBrgoIubpama3rl5Br6yydiQABAgQIECBAgICQyzVAgACBjgoIuTpamC3slpBrCzGdigABAgQIECBAYOkFhFxLfwkAGILAs57zvHOGMA5j2FNg+5FHvia/c8utt36QzTAFssbnn3eu38XDLK9RESBAgAABAgQItCzgH9Ytg2uOwDwEhFzzUF38OYVci6/BvHsg5Jq3sPMTIECAAAECBAgsk4CQa5mqbayDFRByDbO0Qq5h1rU5KiHX8GtshAQIECBAgAABAu0JCLnas9YSgbkJCLnmRrvQEwu5FsrfSuNCrlaYNUKAAAECBAgQILAkAkKuJSm0YQ5bQMg1zPoKuYZZ1+aohFzDr7EREiBAgAABAgQItCcg5GrPWksE5iYg5Job7UJPLORaKH8rjQu5WmHWCAECBAgQIECAwJIICLmWpNCGOWwBIdcw6yvkGmZdm6MScg2/xkZIgAABAgQIECDQnoCQqz1rLRGYm4CQa260Cz2xkGuh/K00LuRqhVkjBAgQIECAAAECSyIg5FqSQhvmsAWEXMOsr5BrmHVtjkrINfwaGyEBAgQIECBAgEB7AkKu9qy1RGBuApNCrh0nnXjgG17/0yffesstd7/nvX9wZd2BF5/5oqNPe+apR53zoXN37rzq6ru3omO//mu/+pTdu3bd12xnK867zOcQcvW7+vmcOOrI7QfmKC754iU3/tmHPnz96IiEXP2usd4TIECAAAECBAh0S0DI1a166A2BvRKYFHLVYdZ++++/zwUXfPyaSy+77M5sYB4h11513IPWFRBy9fcCefObfvHkgw4+eNtv/fY7vpLPtx979o8e89Hz/+Lq+jlYj0zI1d8a6zkBAgQIECBAgED3BIRc3auJHhGYWWBSyJU32nfccce9xx533CHXX3fdXfVMEiHXzMQLeYCQayHsm240Z1C+9tWv2nHply67+RMXfvKmPGHO6mo+B4Vcm2Z2AgIECBAgQIAAAQIPExByuSgIDEBgXMiVN9qvePnLTrjoootvePyOEw/OoCtnleRwR0OuDMN2nLTj8PzZt759466DDjpoWz3z63WvfuWxZ5x+xjH5s7t277rvA3/yp1ceesih+5911ktO2L17931Hb99+4EUXf+r6pz3tqUfkTfwXv3TZ7blE8pCDDt6Wj7n51lvurtsdAHWrQxBytcq9ZY2dduqph+Xzozl7Mp9j2cDocl4zubaM3YkIECBAgAABAgQIhJDLRUBgAALjQq4Mp+pga/Smuxlynf7MUw9/2lOfuv3DH/nznbmUKm/Gf+hxjzsk/z4ajtU36l+45NJbX/nyn9rxzRtuuKu+aR83U2XcjJYBcLc2BCFXa9Rb2pCQa0s5nYwAAQIECBAgQIDA1AJCrqmpHEiguwLjQq7R0Kn592bIdeaPv3B1llYdVjVv0H/4jNOOrGd41aPPmVk5O2x0pkrz/M3ZX/m4SZtud1e0Gz0TcnWjDrP2Qsg1q5jjCRAgQIAAAQIECGyNgJBraxydhcBCBUZDrrzJzplW27Y9Yr9mx+qlg82QK5c0NvcKGg25mgFYfa5xN/F1yJXHPOGJT3xMLmvMT26ctBfRQsF60riQqyeFGummPbn6WTe9JkCAAAECBAgQ6L+AkKv/NTQCAjEacjWXKjaDqZed/dITP/PZz92Y3zvtmacedc6Hzt2ZyxWbodTocsXmUsZpQq5HP/rRj6g/Va4O26748pdvqTe9V67pBYRc01t17Uifrti1iugPAQIECBAgQIDAMggIuZahysY4eIHRkGvS7Kn8/u5du+67+pprd9UhVz3b6qgjtx+YUKMbzzc3pc+f59LDb+y8etek5Yr5s3oW2X333fvAvd///oP/9PWvf0fINftlKOSa3awrj8jZXPUHMDz44AMP5Ycz1J+02Oyjjee7UjH9IECAAAECBAgQGIKAkGsIVTSGpRcYtyfX3qKMfvLi3p7H4zYvIOTavGHXzyDk6nqF9I8AAQIECBAgQKBPAkKuPlVLXwlMENjKkKue7VVvRA99cQJCrsXZt9WykKstae0QIECAAAECBAgsg4CQaxmqbIyDF9hMyJUzt174gucfu+++++2TUPXm9INH68EAhVw9KNImuyjk2iSghxMgQIAAAQIECBBoCAi5XA4EBiCwmZBrAMMf7BCEXIMt7drAhFzDr7EREiBAgAABAgQItCcg5GrPWksE5iYg5Job7UJPLORaKH8rjQu5WmHWCAECBAgQIECAwJIICLmWpNCGOWwBIdcw6yvkGmZdm6MScg2/xkZIgAABAgQIECDQnoCQqz1rLRGYm4CQa260Cz2xkGuh/K00LuRqhVkjBAgQIECAAAECSyIg5FqSQhsmAQL9Ezj7Fa8qs9fnn3eu1+r+lW+qHmeN1XcqKgcRIECAAAECBAgQ2FDAjdOGRA4gQIDAYgSEXItxb7NVIVeb2toiQIAAAQIECBAYuoCQa+gVNj4CBHorIOTqbemm7riQa2oqBxIgQIAAAQIECBDYUEDItSGRAwgQILAYASHXYtzbbFXI1aa2tggQIECAAAECBIYuIOQaeoWNjwCB3goIuXpbuqk7LuSamsqBBAgQIECAAAECBDYUEHJtSOQAAgQILEZAyLUY9zZbFXK1qa0tAgQIECBAgACBoQsIuYZeYeMjQKC3AkKu3pZu6o4LuaamciABAgQIECBAgACBDQWEXBsSOYAAAQKLERByLca9zVaFXG1qa4sAAQIECBAgQGDoAkKuoVfY+AgQ6K2AkKu3pZu640KuqakcSIAAAQIECBAgQGBDASHXhkQOINA/gbIsj4+It0TEEY3e3xYR7y6K4tr8XlmWr42Il0z6+eioy7I8MyJeExH7Vz/7eFEU5/RPpz89FnL1p1bjelqW5dsj4oT1ni9Crn7XWO8JECBAgAABAgS6JSDk6lY99IbAlghUIdebIuLioigurEKtt0bEkyLivUVRXF6FXE8qiuJt1c/zhvz2oijeNSbg2uOx1fG/FBEX1qHZlnTcSfYQEHL194IoyzKfM4fn86sKiM+KiPflc685KiFXf2us5wQIECBAgAABAt0TEHJ1ryZ6RGDTAuNCrkbQFRlkjQm5cmbXWuhVd6Isy6dHxBsj4v2jN+ib7qgTrCsg5OrnBTIhZM4Q+Wujsx+FXP2ssV4TIECAAAECBAh0U0DI1c266BWBTQmsE3LlksMX5GyuiPiRZqhVLa162E34aBg22rExSyOvGZkddmNEPCMiHhURzZ9leJazzfL790TEDRGxuwrgRpdbrj1uUzA9e7CQq2cFq7o7LhiuZnatBszNUQm5+lljvSZAgAABAgQIEOimgJCrm3XRKwKbEpgh5GruyTV2j61JN+fZwUbAdV19816FZavLHqv/316FavmQn18JvC5Y2dvrymrPsNXHVaFABl5fi4iPNX9WtTNxKeWmoDr+YCFXxws0oXtCrn7WTa8JECBAgAABAgT6LyDk6n8NjYDAwwQ2CLlOL4riN5sztJr7B42ebL2ZXNXN/Msi4g8bG9o3Z4v9XHOJVj1bLCK+ProEsg7TIuLTETH2nEVR/K/LVG4hVz+rLeTqZ930mgABAgQIECBAoP8CQq7+19AICMwScq3NiBoJuXJ54B4b1dcnXW/T7E2EXHfUyyYb4Vhu1J1fQq4KQsjVzye3Pbn6WTe9JkCAAAECBAgQ6L+AkKv/NTQCAlOFXNUsqoMi4t0ZLE3YeP6M+ufNk455bIZir4qIv6tmXa23XHFtn6/GTK7PV0sSL8mNuC1XHH8RC7n6++T26Yr9rZ2eEyBAgAABAgQI9FdAyNXf2uk5gYkCYzaDz2P32Lx9TMhVb/a+FliNBF050+q06nv3R8QHi6K4sBFQ5Qbye7Qzupl98+/VDLHXRMT+Yzaeb25K/7C+L0vphVz9rfTIc3Dt+TI6IhvP97fGek6AAAECBAgQINA9ASFX92qiRwSWUmDSpzsuJUY1aCHX8Ksv5Bp+jY2QAAECBAgQIECgPQEhV3vWWiJAYILAevt+LTOakGv41RdyDb/GRkiAAAECBAgQINCegJCrPWstESDQEKhmbp1QfWvicq5lRhNyDb/6Qq7h19gICRAgQIAAAQIE2hMQcrVnrSUCBAjMJCDkmomrlwcLuXpZNp0mQIAAAQIECBDoqICQq6OF0S0CBAgIuYZ/DQi5hl9jIyRAgAABAgQIEGhPQMjVnrWWCBAgMJOAkGsmrl4eLOTqZdl0mgABAgQIECBAoKMCQq6OFka3CBAgIOQa/jUg5Bp+jY2QAAECBAgQIECgPQEhV3vWWiIwN4FnPed558zt5E68MIHtRx75mmz8lltv/eDCOqHhuQpkjc8/71y/i+eq7OQECBAgQIAAAQLLIuAf1stSaeMctICQa5jlFXINs67NUQm5hl9jIyRAgAABAgQIEGhPQMjVnrWWCMxNQMg1N9qFnljItVD+VhoXcrXCrBECBAgQIECAAIElERByLUmhDXPYAkKuYdZXyDXMujZHJeQafo2NkAABAgQIECBAoD0BIVd71loiMDcBIdfcaBd6YiHXQvlbaVzI1QqzRggQIECAAAECBJZEQMi1JIU2zGELCLmGWV8h1zDr2hyVkGv4NTZCAgQIECBAgACB9gSEXO1Za4nA3ASEXHOjXeiJhVwL5W+lcSFXK8waIUCAAAECBAgQWBIBIdeSFNowhy0g5BpmfYVcw6xrc1RCruHX2AgJECBAgAABAgTaExBytWetJQJzExByzY12oScWci2Uv5XGhVytMGuEAAECBAgQIEBgSQSEXEtSaMMctsBoyLXjpBMPfMPrf/rkQw46eFs98ku+eMmNf/ahD18/bIlhjU7I1e96/vqv/epTjjpy+4E5iknPPyFXv2us9wQIECBAgAABAt0SEHJ1qx56Q2CvBMaFXK999at2XPqly27+xIWfvGmvTjrlg/JG/vrrrrtLgDYl2AyHCblmwOrYoW9+0y+efNDBB2/7rd9+x1defOaLjv6xZ//oMR89/y+uvvSyy+5sdlXI1bHC6Q4BAgQIECBAgECvBYRcvS6fzhP4/wWEXMO8EoRc/axrzqQcDZknhcFCrn7WWK8JECBAgAABAgS6KSDk6mZd9IrATAKzhFyve/Urjz3j9DOOyQZuv+P27+V/c8bXiSccf3A98yS/V88++cpX/uG2Jz75SY+54Zs37DrlyU8+In+286qdt7/nvX9wZXM51l27d933H/73/3jZTB138LoCQq5+XiCnnXrqYWed9ZITLrjg49fUM7dyZleOJp83zVEJufpZY70mQIAAAQIECBDopoCQq5t10SsCMwlstCfXgw8+8NBFF39qdT+u5z/3OY/71Kf/9oZcxpiB1zNPPfXo/Nltt33n3uaNeX1T/oVLLr31lS//qR133nXXvbn0Km/gX3b2S0/8zGc/d2Oew3LFmUo108FCrpm4OnOwkKszpdARAgQIECBAgACBJRMQci1ZwQ13mALTzuTKUOvY4447JMOqlBhdVlUHVl/80mW318utRsOvfFxzVoqQa37XlJBrfrbzPLOQa566zk2AAAECBAgQIEBgsoCQy9VBYAAC04Zco0umRkOuXKJ4yilPPvyrX/3H2/O/7/idd351oxt2Idf8LiAh1/xs53lme3LNU9e5CRAgQIAAAQIECAi5XAMEBi0wbcg1+ilvzeWKufQwb85f8fKXnfDAAw88dOO3vrU7PzExQ65crnjFl798S/13yxXbuZyEXO04z6MVn644D1XnJECAAAECBAgQILC+gJlcrhACAxDYaE+uHGK9WXzefO84acfh+b3mxvMZcuX38udHbt9+4Af+5E+v3HnV1XfXM7nyZ4ccdPC2/O8lX7zkxgy88v/rjextPL/1F5KQa+tN2zpjBsZveP1Pn5zPmXpPvPo51uyDjefbqoh2CBAgQIAAAQIElkFAyLUMVTbGwQuMhlzTDnijpYh5nnHHTHt+x21OQMi1Ob8+PFrI1Ycq6SMBAgQIECBAgEBfBIRcfamUfhJYR2BvQ67mkqo60GouRRRyLfayE3It1r+N1oVcbShrgwABAgQIECBAYFkEhFzLUmnjHLTAtCFXvb/Wtm2P2C9BcolhvSyxXsbYXIoo5FrsZSPkWqx/G60LudpQ1gYBAgQIECBAgMCyCAi5lqXSxjlogWlDrkEjDHBwQq4BFnVkSEKu4dfYCAkQIECAAAECBNoTEHK1Z60lAnMTEHLNjXahJxZyLZS/lcaFXK0wa4QAAQIECBAgQGBJBIRcS1Jowxy2gJBrmPUVcg2zrs1RCbmGX2MjJECAAAECBAgQaE9AyNWetZYIzE1AyDU32oWeWMi1UP5WGhdytcKsEQIECBAgQIAAgSUREHItSaENkwCB/gmc/YpXldnr888712t1/8o3VY+zxuo7FZWDCBAgQIAAAQIECGwo4MZpQyIHECBAYDECQq7FuLfZqpCrTW1tESBAgAABAgQIDF1AyDX0ChsfAQK9FRBy9bZ0U3dcyDU1lQMJECBAgAABAgQIbCgg5NqQyAEECBBYjICQazHubbYq5GpTW1sECBAgQIAAAQJDFxByDb3CxkeAQG8FhFy9Ld3UHRdyTU3lQAIECBAgQIAAAQIbCgi5NiRyAAECBBYjIORajHubrQq52tTWFgECBAgQIECAwNAFhFxDr7DxESDQWwEhV29LN3XHhVxTUzmQAAECBAgQIECAwIYCQq4NiRxAgACBxQgIuRbj3marQq42tbVFgAABAgQIECAwdAEh19ArbHwECPRWQMjV29JN3XEh19RUDiRAgAABAgQIECCwoYCQa0MiBxDon0BZlsdHxFsi4ohG7z9eFMU5o6Mpy/LtEfG10Z+VZfn0iPj5iLigKIoL90ZhK86xN+0O5TFCrn5XsnpunVCNYuzzT8jV7xrrPQECBAgQIECAQLcEhFzdqofeENgSgSrkelNEXDwaUI2GWpNCri3piJNsSkDItSm+hT64LMu3RsThRVG8rSzLMyPirIh4X1EUlzc7JuRaaJk0ToAAAQIECBAgMDABIdfACmo4BFJAyDWM60DI1c86jnv+TQqThVz9rLFeEyBAgAABAgQIdFNAyNXNuugVgU0JTAq5RpZP3RYR746In1tZlnjjyrLEZ0TEoyLimmr2SS5XfGNEvD9nn4Rj8+cAABoPSURBVJRl+dqIeEnVsfsj4oM5S6yapfKCiLg9Ip5S/Xx1aVa1XHH1HNX3c3ZZtpFflxZF8a5NDXTgDxZy9bPAzeu+nrlVzeyK0WteyNXPGus1AQIECBAgQIBANwWEXN2si14R2JTAmD25mqHUHntwVcHX9oh4b9Xo6j5cEXFLHXJFxBMj4nl5TBV4rS2/ioh87Gsi4oq8gW8uzarOtxaU1YMaFwJsasADfbCQq5+FFXL1s256TYAAAQIECBAg0H8BIVf/a2gEBB4msJnlivWyqoj4eiPkem6GXs3N6RvH3REROZMrA7BrszPjzlGFY7lP0WlVh9eCNyUcLyDk6ueVIeTqZ930mgABAgQIECBAoP8CQq7+19AICPQi5IqIDMrqjbjz0x/HboyvnP8iIOTq59VgT65+1k2vCRAgQIAAAQIE+i8g5Op/DY2AQBsh10bLFV8eER9p7NG1+klyVcfqPblelvt2NZY0rj1GCccLCLn6e2X4dMX+1k7PCRAgQIAAAQIE+isg5Opv7fScwESBMXty5bGrG703NpBvbjz/tXop4qxLDas9uH4iIvZf2cj+0Iho7v+1tnl9Y++uPO6fq+P+KoMxpRRyDe0aGHkOTlyaa+P5oVXeeAgQIECAAAECBBYpIORapL62CQxAoPHpimt7cg1gWJ0YgplcnSjDXDsh5Jorr5MTIECAAAECBAgsmYCQa8kKbrgEtlpAyLXVov9yPiHX/Gy7cmYhV1cqoR8ECBAgQIAAAQJDEBByDaGKxkBggQJCrvnhC7nmZ9uVMwu5ulIJ/SBAgAABAgQIEBiCgJBrCFU0BgIEBikg5BpkWfcYlJBr+DU2QgIECBAgQIAAgfYEhFztWWuJAAECMwkIuWbi6uXBQq5elk2nCRAgQIAAAQIEOiog5OpoYXSLAAECQq7hXwNCruHX2AgJECBAgAABAgTaExBytWetJQIECMwkIOSaiauXBwu5elk2nSZAgAABAgQIEOiogJCro4XRLQKzCDzrOc87Z5bjHdsPge1HHvma7Oktt976wX70WC9nFcgan3/euX4XzwrneAIECBAgQIAAAQJjBPzD2mVBYAACQq4BFHHMEIRcw6xrc1RCruHX2AgJECBAgAABAgTaExBytWetJQJzExByzY12oScWci2Uv5XGhVytMGuEAAECBAgQIEBgSQSEXEtSaMMctoCQa5j1FXINs67NUQm5hl9jIyRAgAABAgQIEGhPQMjVnrWWCMxNQMg1N9qFnljItVD+VhoXcrXCrBECBAgQIECAAIElERByLUmhDXPYAkKuYdZXyDXMujZHJeQafo2NkAABAgQIECBAoD0BIVd71loiMDcBIdfcaBd6YiHXQvlbaVzI1QqzRggQIECAAAECBJZEQMi1JIU2zGELCLmGWV8h1zDr2hyVkGv4NTZCAgQIECBAgACB9gSEXO1Za4nA3ASEXHOjXeiJhVwL5W+lcSFXK8waIUCAAAECBAgQWBIBIdeSFNowhy0wGnLtOOnEA1/76lftuPRLl938iQs/eVP+/Q2v/+mTv/e9793/W7/9jq8MW2M4oxNy9buWv/5rv/qUo47cfmCO4pIvXnLjn33ow9ePjkjI1e8a6z0BAgQIECBAgEC3BIRc3aqH3hDYK4GNQq682d69a9d973nvH1y5Vw140EIEhFwLYd+SRt/8pl88+aCDD96WofKLz3zR0T/27B895qPn/8XVl1522Z3NBoRcW8LtJAQIECBAgAABAgRWBYRcLgQCAxBYL+Q68YTjD65vtgcw1KUagpCrn+UenUmZo8ig+frrrrtrdDaXkKufNdZrAgQIECBAgACBbgoIubpZF70iMJPApJBr9+7d9x326Ecf8IE/+dMrd1519d31SV/36lcee8bpZxyTf79r96778ueHHnLo/med9ZITbvjmDbtOefKTj8if5RKrb+y8etfLzn7piZ/57OduzKWP9Q17zgz7wiWX3vrKl//Ujm3bHrFffn/nVTtvN1tsptKte7CQa+ss2zzTaaeeelg+ly644OPX1DO3cmZX9mH0+SHkarMy2iJAgAABAgQIEBi6gJBr6BU2vqUQGBdy5R5chxx08LbRvYAy4Dr2uOMOqffmqm++68Dqzrvuujd/lsc94YlPfEwGYGf++AtXA7G8QR93A58/m/T9pSjAnAYp5JoT7JxPK+SaM7DTEyBAgAABAgQIEJggIORyaRAYgMCkmVw33XTz3Y/fcdJhn/r0395Qz8LKUGvHSTsObw775ltvufuiiy6+oTn7pHmjfsQRj3nEac889ahzPnTuztOfeerhoyFZfb4HH3zgoYsu/tT1dVsDoF3oEIRcC+Xf68aFXHtN54EECBAgQIAAAQIENiUg5NoUnwcT6IbAentyHXboIT/wtKc+dfuHP/LnO3Pp1KRlU6M35qN//9V/929O+epX//H2U0558uH53wyymptrj9uHqBs6/e2FkKuftbMnVz/rptcECBAgQIAAAQL9FxBy9b+GRkAgNvp0xQyjjty+/cBcepgzsZqhV823UciVyxePeexjD9pvv/32Oe8jH70m9/hqfmpjfoLc85/7nMc1Z40pzeYEhFyb81vko3264iL1tU2AAAECBAgQILCsAkKuZa28cQ9KYKOQK2eW5B5dOeh6j63mksV6g/lJyxVzBliGYLnJ/BVf/vIt9SfEZbD1whc8/9h9991vn+9+957v3//gg+XnP/+Fb1uuuDWXl5BraxwXcZb6OZf74q23jNfG84uojjYJECBAgAABAgSGKiDkGmpljWupBEZDrnkM3sby81Bd/5xCrvbN225RyNW2uPYIECBAgAABAgSGLCDkGnJ1jW1pBNoIuZrLr5YGdsEDFXItuAAtNC/kagFZEwQIECBAgAABAksjIORamlIb6JAF5hly1csU7/3+9x/MpY65F9eQLbs0NiFXl6oxn74Iuebj6qwECBAgQIAAAQLLKSDkWs66G/XABOYZcg2MqlfDEXL1qlx71Vkh116xeRABAgQIECBAgACBsQJCLhcGgQEICLkGUMQxQxByDbOuzVEJuYZfYyMkQIAAAQIECBBoT0DI1Z61lgjMTUDINTfahZ5YyLVQ/lYaF3K1wqwRAgQIECBAgACBJREQci1JoQ1z2AJCrmHWV8g1zLo2RyXkGn6NjZAAAQIECBAgQKA9ASFXe9ZaIkCAwEwCZ7/iVWU+4PzzzvVaPZNcfw7OGqtvf+qlpwQIECBAgAABAt0WcOPU7froHQECSywg5Bp+8YVcw6+xERIgQIAAAQIECLQnIORqz1pLBAgQmElAyDUTVy8PFnL1smw6TYAAAQIECBAg0FEBIVdHC6NbBAgQEHIN/xoQcg2/xkZIgAABAgQIECDQnoCQqz1rLREgQGAmASHXTFy9PFjI1cuy6TQBAgQIECBAgEBHBYRcHS2MbhEgQEDINfxrQMg1/BobIQECBAgQIECAQHsCQq72rLVEgACBmQSEXDNx9fJgIVcvy6bTBAgQIECAAAECHRUQcnW0MLpFgAABIdfwrwEh1/BrbIQECBAgQIAAAQLtCQi52rPWEgECBGYSEHLNxNXLg4VcvSybThMgQIAAAQIECHRUQMjV0cLoFoHNCJRleXxEvCUidhdF8bb6XGVZPj0iXhYRfxgRh0bEz0fEBUVRXLiZ9hrnf2tEHN5scyvOu6znEHL1u/JlWb49Ik6oRvHxoijOGR2RkKvfNdZ7AgQIECBAgACBbgkIubpVD70hsCUCVcj1pog4LCI+Vd9cN0Ouoiiu3ZLGnGRuAkKuudHO/cRlWa4FvmVZnhkRZ0XE+4qiuLzZuJBr7qXQAAECBAgQIECAwBIJCLmWqNiGujwCjZDrmmomyXsz1BJy9esaEHL1q151bxvPv4vrWZLVrK6vjc7mEnL1s8Z6TYAAAQIECBAg0E0BIVc366JXBDYl0LzJjohnR8TtRVG8a8xyxTdGxPtzdklZlq+NiJdUDd9Y/Xf1Jr2aifKaiNg/Iu6JiAzN8jG5HOvuiHhiRFxRd7pqK2eynFZ9b+0xmxrYkj1YyNXPglfPs7XnVo6imtkV+dxojkrI1c8a6zUBAgQIECBAgEA3BYRc3ayLXhHYlMBIyHVLvfdWROT/N/fkWr0Rj4jtEfHyiPhIFWpl4PWiiPhg1ZEXVMFWzgbLnz0p992qQq6DVvb3enc1UyyDrYfdyE+6wd/UIJfgwUKufhZZyNXPuuk1AQIECBAgQIBA/wWEXP2voREQeJjA6HKpOpiKiI9OCLlyJtZqcJUnGwnJHt2Y4VW3dVsGWxHxcxGxtgSrGWZVN/q5L9ijqgddY0P62S5WIddsXl05WsjVlUroBwECBAgQIECAwLIJCLmWreLGuxQCY0Ku+tMW/2ll8+tjGp+uWM/kem7C1EupxoRcawFYE3B0n6E65IqITzc/ubE5+2spCrBFgxRybRFky6exJ1fL4JojQIAAAQIECBAgUAkIuVwKBAYoMOEmu/6Et9X9sVZmYh0aEc3limuf/laFUs3limtLGacMub7e/DS5KgzLEG11ppiv6QSEXNM5dfEon67YxaroEwECBAgQIECAwNAFhFxDr7DxLaXAuJArIZp7aDVDrmoT+eZG8aMbzzc3pc9TXVptLp8bz09arpg/O6EqQH7Ko5BrxqtRyDUjWIcOr56Db4mIIyLi/tzfrv6kxWY3bTzfoaLpCgECBAgQIECAQO8FhFy9L6EBENh6gXF7Cm19K864kYCQayOh/v9cyNX/GhoBAQIECBAgQIBAdwSEXN2phZ4Q6IxAc6lVZzq1hB0Rcg2/6EKu4dfYCAkQIECAAAECBNoTEHK1Z60lAp0VGPNJiKufnlgUxbWd7fQSdEzINfwiC7mGX2MjJECAAAECBAgQaE9AyNWetZYIECAwk4CQayauXh4s5Opl2XSaAAECBAgQIECgowJCro4WRrcIECAg5Br+NSDkGn6NjZAAAQIECBAgQKA9ASFXe9ZaIkCAwEwCQq6ZuHp5sJCrl2XTaQIECBAgQIAAgY4KCLk6WhjdIkCAgJBr+NeAkGv4NTZCAgQIECBAgACB9gSEXO1Za4nA3ASe9ZznnTO3kzvxwgS2H3nka7LxW2699YML64SG5yqQNT7/vHP9Lp6rspMTIECAAAECBAgsi4B/WC9LpY1z0AJCrmGWV8g1zLo2RyXkGn6NjZAAAQIECBAgQKA9ASFXe9ZaIjA3ASHX3GgXemIh10L5W2lcyNUKs0YIECBAgAABAgSWREDItSSFNsxhCwi5hllfIdcw69oclZBr+DU2QgIECBAgQIAAgfYEhFztWWuJwNwEhFxzo13oiYVcC+VvpXEhVyvMGiFAgAABAgQIEFgSASHXkhTaMIctIOQaZn2FXMOsa3NUQq7h19gICRAgQIAAAQIE2hMQcrVnrSUCcxMQcs2NdqEnFnItlL+VxoVcrTBrhAABAgQIECBAYEkEhFxLUmjDHLaAkGuY9RVyDbOuzVEJuYZfYyMkQIAAAQIECBBoT0DI1Z61lgjMTUDINTfahZ5YyLVQ/lYaF3K1wqwRAgQIECBAgACBJREQci1JoQ1z2ALjQq7XvfqVx55x+hnH5Mjvu+/eBz78kT/feelll925VRK//mu/+pTrr7vurj/70Ievn+acb37TL5585PbtB37gT/70yp1XXX13/ZgXn/mio1/4gucf+8ADDzw02sfTTj31sJed/dITP/PZz934iQs/edM07QzpGCFXv6uZz5Gjjtx+YI7iki9ecuO454qQq9811nsCBAgQIECAAIFuCQi5ulUPvSGwVwKjIVcGRz/27B895qPn/8XVGWzl3w94xAH7fvRjH/vWXjUQERmaHXvccYf81m+/4yt5jllCrh0nnXjgK17+shMOOOCA/f/p61//TvNmf5bz7G3f+/o4IVdfKxeRoe5BBx+8LZ8vo8/H5qiEXP2tsZ4TIECAAAECBAh0T0DI1b2a6BGBmQVGQ67RQGrmE455wGZCrrzJP+WUJx9+47e+tbsZlM0alm3FOPp0DiFXn6r1L33NUPe1r37Vjku/dNnN9QzESWGukKufNdZrAgQIECBAgACBbgoIubpZF70iMJPAaMiVy/xe+fKf2vHNG2646z3v/YMrR0/WXEZ11+5d99VLCEdvxOu/5+PrpY8PPvjAQxdd/Knrn/a0px7xndu+870dJ5142LZtj9jv5ltvubue5TXaXs5queOOO+79xs6rd5111ktOuOCCj1+TM8ya/cjHX3HFl2877ZmnHpWPP/BRj9r/8suvuOWJT37SY+rj66WN++673z71EszH7zjx4NG+DWVpo5BrpqdBZw7O51/zOs+O5XMg/zv6fBRydaZsOkKAAAECBAgQIDAAASHXAIpoCATG7cmVs0ne8PqfPvmQgw7e1twPKIOlFKsDqeayqkkhVy4vHDeT67BDDnlE7qOV55u0d9boDf96bdQh1pcuu+ymbLP52PXaqK+AecxgW+TVJeRapP7ety3k2ns7jyRAgAABAgQIECCwGQEh12b0PJZARwTW+3TFelbXFV/+8i1f/NJlt+feWBdddPEN9Sb0zRvyF77wBY9rbibfDKQ2Wq44aTnW6OPWO0+GXDmT65wPnbszN6dv9i1nbI0udUz+ZpiXf2/OTOtIefa6G0KuvaZb6AOFXAvl1zgBAgQIECBAgMASCwi5lrj4hj4cgfVCrhxlHSyd95GPXtN2yNVckliLNz/tsRmOrRdy/fAZpx2Zj28u96oDrnoz+9HH973CQq5+VtCeXP2sm14TIECAAAECBAj0X0DI1f8aGgGBGLfxfLLUn2I4uiQxfzZuuWLzuOYMsEnLFSfN+qpLMm5GS/4sg63du3bdl4HVtCHXEUc85hHPf+5zHvepT//tDfWeW3n+5jLJ7P+R27cfWO8x1vdLQ8jV3wr6dMX+1k7PCRAgQIAAAQIE+isg5Opv7fScwJrAaMi13hK+9X5WB1u5kXzOtrr3+99/sJ4lVf9sv/3226feeH6jkGvSHln5/Sc88YmPyTAqZ5bV51lvJlcur8zH1ZvM17PBcobXjpN2HJ4Yt99x+/fyv/Vyx75fIkKu/law+TyrP6xh3Aci2Hi+vzXWcwIECBAgQIAAge4JCLm6VxM9IjCzwEbLFWc+oQd0QkDI1YkyzLUTQq658jo5AQIECBAgQIDAkgkIuZas4IY7TAEh1zDrKuQaZl2boxJyDb/GRkiAAAECBAgQINCegJCrPWstEZibgJBrbrQLPbGQa6H8rTQu5GqFWSMECBAgQIAAAQJLIiDkWpJCG+awBYRcw6yvkGuYdW2OSsg1/BobIQECBAgQIECAQHsCQq72rLVEYG4CQq650S70xEKuhfK30riQqxVmjRAgQIAAAQIECCyJgJBrSQptmMMWEHINs75CrmHWtTkqIdfwa2yEBAgQIECAAAEC7QkIudqz1hKBuQkIueZGu9ATC7kWyt9K40KuVpg1QoAAAQIECBAgsCQCQq4lKbRhEiDQP4GzX/GqMnt9/nnneq3uX/mm6nHWWH2nonIQAQIECBAgQIAAgQ0F3DhtSOQAAgQILEZAyLUY9zZbFXK1qa0tAgQIECBAgACBoQsIuYZeYeMjQKC3AkKu3pZu6o4LuaamciABAgQIECBAgACBDQWEXBsSOYAAAQKLERByLca9zVaFXG1qa4sAAQIECBAgQGDoAkKuoVfY+AgQIECAAAECBAgQIECAAAECSyAg5FqCIhsiAQIECBAgQIAAAQIECBAgQGDoAkKuoVfY+AgQIECAAAECBAgQIECAAAECSyAg5FqCIhsiAQIECBAgQIAAAQIECBAgQGDoAkKuoVfY+AgQIECAAAECBAgQIECAAAECSyAg5FqCIhsiAQIECBAgQIAAAQIECBAgQGDoAkKuoVfY+AgQIECAAAECBAgQIECAAAECSyAg5FqCIhsiAQIECBAgQIAAAQIECBAgQGDoAkKuoVfY+AgQIECAAAECBAgQIECAAAECSyAg5FqCIhsiAQIECBAgQIAAAQIECBAgQGDoAkKuoVfY+AgQIECAAAECBAgQIECAAAECSyAg5FqCIhsiAQIECBAgQIAAAQIECBAgQGDoAkKuoVfY+AgQIECAAAECBAgQIECAAAECSyAg5FqCIhsiAQIECBAgQIAAAQIECBAgQGDoAkKuoVfY+AgQIECAAAECBAgQIECAAAECSyAg5FqCIhsiAQIECBAgQIAAAQIECBAgQGDoAkKuoVfY+AgQIECAAAECBAgQIECAAAECSyAg5FqCIhsiAQIECBAgQIAAAQIECBAgQGDoAkKuoVfY+AgQIECAAAECBAgQIECAAAECSyAg5FqCIhsiAQIECBAgQIAAAQIECBAgQGDoAkKuoVfY+AgQIECAAAECBAgQIECAAAECSyAg5FqCIhsiAQIECBAgQIAAAQIECBAgQGDoAkKuoVfY+AgQIECAAAECBAgQIECAAAECSyAg5FqCIhsiAQIECBAgQIAAAQIECBAgQGDoAkKuoVfY+AgQIECAAAECBAgQIECAAAECSyAg5FqCIhsiAQIECBAgQIAAAQIECBAgQGDoAkKuoVfY+AgQIECAAAECBAgQIECAAAECSyAg5FqCIhsiAQIECBAgQIAAAQIECBAgQGDoAkKuoVfY+AgQIECAAAECBAgQIECAAAECSyAg5FqCIhsiAQIECBAgQIAAAQIECBAgQGDoAkKuoVfY+AgQIECAAAECBAgQIECAAAECSyAg5FqCIhsiAQIECBAgQIAAAQIECBAgQGDoAkKuoVfY+AgQIECAAAECBAgQIECAAAECSyAg5FqCIhsiAQIECBAgQIAAAQIECBAgQGDoAkKuoVfY+AgQIECAAAECBAgQIECAAAECSyDw/wGUIy2MThLQPQAAAABJRU5ErkJggg==\" />"
      ],
      "text/plain": [
       "Open the notebook in JupyterLab with the Atoti JupyterLab extension enabled to build this widget."
      ]
     },
     "metadata": {},
     "output_type": "display_data"
    }
   ],
   "source": [
    "session.widget"
   ]
  },
  {
   "cell_type": "code",
   "execution_count": 35,
   "id": "679b108a-e6ee-4bb9-ae66-f5503e318520",
   "metadata": {},
   "outputs": [
    {
     "data": {
      "application/vnd.atoti.link.v0+json": {
       "path": "",
       "sessionLocation": {
        "https": false,
        "port": 9092
       }
      },
      "text/markdown": [
       "http://localhost:9092\n",
       "\n",
       "_Note_: This is the session's local URL: it may not be reachable if Atoti is running on another machine."
      ],
      "text/plain": [
       "http://localhost:9092 (This is the session's local URL: it may not be reachable if Atoti is running on another machine.)"
      ]
     },
     "execution_count": 35,
     "metadata": {},
     "output_type": "execute_result"
    }
   ],
   "source": [
    "session.link"
   ]
  }
 ],
 "metadata": {
  "kernelspec": {
   "display_name": "Python 3 (ipykernel)",
   "language": "python",
   "name": "python3"
  },
  "language_info": {
   "codemirror_mode": {
    "name": "ipython",
    "version": 3
   },
   "file_extension": ".py",
   "mimetype": "text/x-python",
   "name": "python",
   "nbconvert_exporter": "python",
   "pygments_lexer": "ipython3",
   "version": "3.11.6"
  }
 },
 "nbformat": 4,
 "nbformat_minor": 5
}
