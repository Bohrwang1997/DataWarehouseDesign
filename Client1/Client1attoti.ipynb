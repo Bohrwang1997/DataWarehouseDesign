{
 "cells": [
  {
   "cell_type": "markdown",
   "id": "186ceb2ddf615eea",
   "metadata": {
    "collapsed": false,
    "jupyter": {
     "outputs_hidden": false
    }
   },
   "source": [
    "# Client 1 summary and analysis\n",
    "This aims to implement a cube and do presentation\n",
    "## Cube"
   ]
  },
  {
   "cell_type": "code",
   "execution_count": 1,
   "id": "initial_id",
   "metadata": {},
   "outputs": [
    {
     "name": "stdout",
     "output_type": "stream",
     "text": [
      "Welcome to Atoti 0.8.10!\n",
      "\n",
      "By using this community edition, you agree with the license available at https://docs.atoti.io/latest/eula.html.\n",
      "Browse the official documentation at https://docs.atoti.io.\n",
      "Join the community at https://www.atoti.io/register.\n",
      "\n",
      "Atoti collects telemetry data, which is used to help understand how to improve the product.\n",
      "If you don't wish to send usage data, you can request a trial license at https://www.atoti.io/evaluation-license-request.\n",
      "\n",
      "You can hide this message by setting the `ATOTI_HIDE_EULA_MESSAGE` environment variable to True.\n"
     ]
    }
   ],
   "source": [
    "import atoti as tt"
   ]
  },
  {
   "cell_type": "code",
   "execution_count": 2,
   "id": "1ce9e2fb78351f0d",
   "metadata": {
    "collapsed": false,
    "jupyter": {
     "outputs_hidden": false
    }
   },
   "outputs": [],
   "source": [
    "session = tt.Session(\n",
    "    user_content_storage=\".content\",\n",
    "    port=9092,\n",
    "    java_options=[\"-Xms1G\", \"-Xmx10G\"]\n",
    ")"
   ]
  },
  {
   "cell_type": "code",
   "execution_count": 3,
   "id": "8d2096c5d9043d33",
   "metadata": {
    "collapsed": false,
    "jupyter": {
     "outputs_hidden": false
    }
   },
   "outputs": [],
   "source": [
    "db_name = \"project1\"\n",
    "db_user = \"postgres\"\n",
    "db_password = \"postgres\"\n",
    "db_host = \"pgdb\"\n",
    "db_port = \"5432\"\n",
    "\n",
    "jdbc_url = f\"jdbc:postgresql://{db_host}:{db_port}/{db_name}?user={db_user}&password={db_password}\""
   ]
  },
  {
   "cell_type": "code",
   "execution_count": 4,
   "id": "b26b1ae1-20b6-4c60-bdf3-4e1c9987cb8f",
   "metadata": {},
   "outputs": [],
   "source": [
    "MedalFacttable = session.read_sql(\n",
    "    \"SELECT * FROM FactOlympic\",\n",
    "    keys=[\"countryid\"],\n",
    "    table_name=\"Medaleco\",\n",
    "    url=jdbc_url,\n",
    ")"
   ]
  },
  {
   "cell_type": "code",
   "execution_count": 5,
   "id": "d342d8d3-417b-4f00-81f5-334869f829a1",
   "metadata": {},
   "outputs": [],
   "source": [
    "dimRegiontable = session.read_sql(\n",
    "    \"SELECT * FROM DimRegion\",\n",
    "    keys=[\"countryid\"],\n",
    "    table_name=\"Region\",\n",
    "    url=jdbc_url)"
   ]
  },
  {
   "cell_type": "code",
   "execution_count": 6,
   "id": "828e934c-6723-4911-82ec-9759a2fff9fe",
   "metadata": {},
   "outputs": [],
   "source": [
    "Dimmedaltable = session.read_sql(\n",
    "    \"SELECT * FROM dimmedal\",\n",
    "    keys=[\"medelid\"],\n",
    "    table_name=\"sportslevel\",\n",
    "    url=jdbc_url\n",
    ")"
   ]
  },
  {
   "cell_type": "code",
   "execution_count": 7,
   "id": "47d5d135-02d8-48b0-ba4e-5e00a692cee1",
   "metadata": {},
   "outputs": [],
   "source": [
    "Countrysizetable = session.read_sql(\n",
    "    \"SELECT * FROM DimCountrySize\",\n",
    "    keys=[\"countrysizeid\"],\n",
    "    table_name=\"CountrySize\",\n",
    "    url=jdbc_url\n",
    ")"
   ]
  },
  {
   "cell_type": "code",
   "execution_count": 8,
   "id": "58b8642a-f0e0-4290-8ac7-761be3421212",
   "metadata": {},
   "outputs": [],
   "source": [
    "AthleteorTeam = session.read_sql(\n",
    "    \"SELECT * FROM dimathleteteam\",\n",
    "    keys=[\"athleteteamid\"],\n",
    "    table_name=\"Athlete o rteam\",\n",
    "    url=jdbc_url\n",
    ")"
   ]
  },
  {
   "cell_type": "code",
   "execution_count": 9,
   "id": "fdfcc73e-9d56-4020-bf5f-b1e774c033a9",
   "metadata": {},
   "outputs": [],
   "source": [
    "Wealthtable = session.read_sql(\n",
    "    \"SELECT * FROM DimWealth\",\n",
    "    keys=[\"wealthid\"],\n",
    "    table_name=\"Wealthlevel\",\n",
    "    url=jdbc_url\n",
    ")"
   ]
  },
  {
   "cell_type": "code",
   "execution_count": 10,
   "id": "e971bb41-0045-4abf-85e0-edb77988bd78",
   "metadata": {},
   "outputs": [
    {
     "data": {
      "text/html": [
       "<div>\n",
       "<style scoped>\n",
       "    .dataframe tbody tr th:only-of-type {\n",
       "        vertical-align: middle;\n",
       "    }\n",
       "\n",
       "    .dataframe tbody tr th {\n",
       "        vertical-align: top;\n",
       "    }\n",
       "\n",
       "    .dataframe thead th {\n",
       "        text-align: right;\n",
       "    }\n",
       "</style>\n",
       "<table border=\"1\" class=\"dataframe\">\n",
       "  <thead>\n",
       "    <tr style=\"text-align: right;\">\n",
       "      <th></th>\n",
       "      <th>athleteorteam</th>\n",
       "    </tr>\n",
       "    <tr>\n",
       "      <th>athleteteamid</th>\n",
       "      <th></th>\n",
       "    </tr>\n",
       "  </thead>\n",
       "  <tbody>\n",
       "    <tr>\n",
       "      <th>0</th>\n",
       "      <td>No preferance or no medal</td>\n",
       "    </tr>\n",
       "    <tr>\n",
       "      <th>2</th>\n",
       "      <td>Team</td>\n",
       "    </tr>\n",
       "    <tr>\n",
       "      <th>1</th>\n",
       "      <td>Athlete</td>\n",
       "    </tr>\n",
       "  </tbody>\n",
       "</table>\n",
       "</div>"
      ],
      "text/plain": [
       "                           athleteorteam\n",
       "athleteteamid                           \n",
       "0              No preferance or no medal\n",
       "2                                   Team\n",
       "1                                Athlete"
      ]
     },
     "execution_count": 10,
     "metadata": {},
     "output_type": "execute_result"
    }
   ],
   "source": [
    "AthleteorTeam.head()"
   ]
  },
  {
   "cell_type": "code",
   "execution_count": 11,
   "id": "3bb09fbd-1d25-472b-b5c9-f4ead3f96795",
   "metadata": {},
   "outputs": [],
   "source": [
    "MedalFacttable.join(dimRegiontable, MedalFacttable[\"countryid\"] == dimRegiontable[\"countryid\"])"
   ]
  },
  {
   "cell_type": "code",
   "execution_count": 12,
   "id": "a2ee4df7-a3ea-4d34-91e9-c83312d48e7e",
   "metadata": {},
   "outputs": [],
   "source": [
    "MedalFacttable.join(Dimmedaltable, MedalFacttable[\"medelid\"] == Dimmedaltable[\"medelid\"])"
   ]
  },
  {
   "cell_type": "code",
   "execution_count": 13,
   "id": "99b1cec9-c379-4072-aab8-c94bd3cc7e4a",
   "metadata": {},
   "outputs": [],
   "source": [
    "MedalFacttable.join(Countrysizetable,\n",
    "                         MedalFacttable[\"countrysizeid\"] == Countrysizetable[\"countrysizeid\"])"
   ]
  },
  {
   "cell_type": "code",
   "execution_count": 14,
   "id": "86b33b06-6faf-4951-af83-b8c16ec381e4",
   "metadata": {},
   "outputs": [],
   "source": [
    "MedalFacttable.join(Wealthtable, MedalFacttable[\"wealthid\"] == Wealthtable[\"wealthid\"])"
   ]
  },
  {
   "cell_type": "code",
   "execution_count": 15,
   "id": "0cdaf948-015d-4bb7-b208-a423bdf7558e",
   "metadata": {},
   "outputs": [],
   "source": [
    "MedalFacttable.join(AthleteorTeam, MedalFacttable[\"athleteteamid\"] == AthleteorTeam[\"athleteteamid\"])"
   ]
  },
  {
   "cell_type": "code",
   "execution_count": 16,
   "id": "11350840-0849-45ec-9b28-a535b5aa8975",
   "metadata": {},
   "outputs": [
    {
     "data": {
      "text/markdown": [
       "```mermaid\n",
       "erDiagram\n",
       "  \"CountrySize\" {\n",
       "    _ int PK \"countrysizeid\"\n",
       "    _ String \"countrysize\"\n",
       "  }\n",
       "  \"Medaleco\" {\n",
       "    _ long PK \"countryid\"\n",
       "    nullable int \"medelid\"\n",
       "    nullable int \"grothid\"\n",
       "    nullable int \"countrysizeid\"\n",
       "    nullable double \"GDP(pc)\"\n",
       "    nullable int \"wealthid\"\n",
       "    nullable int \"numberofhost\"\n",
       "    nullable int \"medel for strongest sport\"\n",
       "    nullable int \"2021 gode medel\"\n",
       "    nullable double \"GDPgrowth(pc)\"\n",
       "    nullable double \"Average Athlete Medals\"\n",
       "    nullable double \"Average Team Medals\"\n",
       "    nullable int \"athleteteamid\"\n",
       "  }\n",
       "  \"sportslevel\" {\n",
       "    _ int PK \"medelid\"\n",
       "    _ String \"sportlevel\"\n",
       "  }\n",
       "  \"Region\" {\n",
       "    _ String \"country\"\n",
       "    _ String \"region\"\n",
       "    _ long PK \"countryid\"\n",
       "  }\n",
       "  \"Athlete o rteam\" {\n",
       "    _ int PK \"athleteteamid\"\n",
       "    _ String \"athleteorteam\"\n",
       "  }\n",
       "  \"Wealthlevel\" {\n",
       "    _ int PK \"wealthid\"\n",
       "    _ String \"wealthlevel\"\n",
       "  }\n",
       "  \"Medaleco\" }o--o| \"Wealthlevel\" : \"`wealthid` == `wealthid`\"\n",
       "  \"Medaleco\" }o--o| \"sportslevel\" : \"`medelid` == `medelid`\"\n",
       "  \"Medaleco\" }o--o| \"Region\" : \"`countryid` == `countryid`\"\n",
       "  \"Medaleco\" }o--o| \"CountrySize\" : \"`countrysizeid` == `countrysizeid`\"\n",
       "  \"Medaleco\" }o--o| \"Athlete o rteam\" : \"`athleteteamid` == `athleteteamid`\"\n",
       "```\n"
      ],
      "text/plain": [
       "erDiagram\n",
       "  \"CountrySize\" {\n",
       "    _ int PK \"countrysizeid\"\n",
       "    _ String \"countrysize\"\n",
       "  }\n",
       "  \"Medaleco\" {\n",
       "    _ long PK \"countryid\"\n",
       "    nullable int \"medelid\"\n",
       "    nullable int \"grothid\"\n",
       "    nullable int \"countrysizeid\"\n",
       "    nullable double \"GDP(pc)\"\n",
       "    nullable int \"wealthid\"\n",
       "    nullable int \"numberofhost\"\n",
       "    nullable int \"medel for strongest sport\"\n",
       "    nullable int \"2021 gode medel\"\n",
       "    nullable double \"GDPgrowth(pc)\"\n",
       "    nullable double \"Average Athlete Medals\"\n",
       "    nullable double \"Average Team Medals\"\n",
       "    nullable int \"athleteteamid\"\n",
       "  }\n",
       "  \"sportslevel\" {\n",
       "    _ int PK \"medelid\"\n",
       "    _ String \"sportlevel\"\n",
       "  }\n",
       "  \"Region\" {\n",
       "    _ String \"country\"\n",
       "    _ String \"region\"\n",
       "    _ long PK \"countryid\"\n",
       "  }\n",
       "  \"Athlete o rteam\" {\n",
       "    _ int PK \"athleteteamid\"\n",
       "    _ String \"athleteorteam\"\n",
       "  }\n",
       "  \"Wealthlevel\" {\n",
       "    _ int PK \"wealthid\"\n",
       "    _ String \"wealthlevel\"\n",
       "  }\n",
       "  \"Medaleco\" }o--o| \"Wealthlevel\" : \"`wealthid` == `wealthid`\"\n",
       "  \"Medaleco\" }o--o| \"sportslevel\" : \"`medelid` == `medelid`\"\n",
       "  \"Medaleco\" }o--o| \"Region\" : \"`countryid` == `countryid`\"\n",
       "  \"Medaleco\" }o--o| \"CountrySize\" : \"`countrysizeid` == `countrysizeid`\"\n",
       "  \"Medaleco\" }o--o| \"Athlete o rteam\" : \"`athleteteamid` == `athleteteamid`\""
      ]
     },
     "execution_count": 16,
     "metadata": {},
     "output_type": "execute_result"
    }
   ],
   "source": [
    "session.tables.schema"
   ]
  },
  {
   "cell_type": "code",
   "execution_count": 17,
   "id": "cef318a0-52c2-4c1a-a1c0-295b966aa4cf",
   "metadata": {},
   "outputs": [],
   "source": [
    "cube = session.create_cube(MedalFacttable)"
   ]
  },
  {
   "cell_type": "code",
   "execution_count": 18,
   "id": "16e2c037-0119-4732-b927-df06479addd9",
   "metadata": {},
   "outputs": [
    {
     "data": {
      "application/json": {
       "Dimensions": {
        "Athlete o rteam": {
         "athleteorteam": [
          "athleteorteam"
         ]
        },
        "CountrySize": {
         "countrysize": [
          "countrysize"
         ]
        },
        "Medaleco": {
         "countryid": [
          "countryid"
         ]
        },
        "Region": {
         "country": [
          "country"
         ],
         "region": [
          "region"
         ]
        },
        "Wealthlevel": {
         "wealthlevel": [
          "wealthlevel"
         ]
        },
        "sportslevel": {
         "sportlevel": [
          "sportlevel"
         ]
        }
       },
       "Measures": {
        "2021 gode medel.MEAN": {
         "formatter": "DOUBLE[#,###.00]"
        },
        "2021 gode medel.SUM": {
         "formatter": "INT[#,###]"
        },
        "Average Athlete Medals.MEAN": {
         "formatter": "DOUBLE[#,###.00]"
        },
        "Average Athlete Medals.SUM": {
         "formatter": "DOUBLE[#,###.00]"
        },
        "Average Team Medals.MEAN": {
         "formatter": "DOUBLE[#,###.00]"
        },
        "Average Team Medals.SUM": {
         "formatter": "DOUBLE[#,###.00]"
        },
        "GDP(pc).MEAN": {
         "formatter": "DOUBLE[#,###.00]"
        },
        "GDP(pc).SUM": {
         "formatter": "DOUBLE[#,###.00]"
        },
        "GDPgrowth(pc).MEAN": {
         "formatter": "DOUBLE[#,###.00]"
        },
        "GDPgrowth(pc).SUM": {
         "formatter": "DOUBLE[#,###.00]"
        },
        "athleteteamid.MEAN": {
         "formatter": "DOUBLE[#,###.00]"
        },
        "athleteteamid.SUM": {
         "formatter": "INT[#,###]"
        },
        "contributors.COUNT": {
         "formatter": "INT[#,###]"
        },
        "countrysizeid.MEAN": {
         "formatter": "DOUBLE[#,###.00]"
        },
        "countrysizeid.SUM": {
         "formatter": "INT[#,###]"
        },
        "grothid.MEAN": {
         "formatter": "DOUBLE[#,###.00]"
        },
        "grothid.SUM": {
         "formatter": "INT[#,###]"
        },
        "medel for strongest sport.MEAN": {
         "formatter": "DOUBLE[#,###.00]"
        },
        "medel for strongest sport.SUM": {
         "formatter": "INT[#,###]"
        },
        "medelid.MEAN": {
         "formatter": "DOUBLE[#,###.00]"
        },
        "medelid.SUM": {
         "formatter": "INT[#,###]"
        },
        "numberofhost.MEAN": {
         "formatter": "DOUBLE[#,###.00]"
        },
        "numberofhost.SUM": {
         "formatter": "INT[#,###]"
        },
        "wealthid.MEAN": {
         "formatter": "DOUBLE[#,###.00]"
        },
        "wealthid.SUM": {
         "formatter": "INT[#,###]"
        }
       }
      },
      "text/html": [
       "<ul>\n",
       "<li>Medaleco\n",
       "  <ul>\n",
       "  <li>Dimensions\n",
       "    <ul>\n",
       "    <li>Athlete o rteam\n",
       "      <ul>\n",
       "      <li>athleteorteam\n",
       "        <ol>\n",
       "        <li>athleteorteam</li>\n",
       "        </ol>      </li>\n",
       "      </ul>\n",
       "    </li>\n",
       "    <li>CountrySize\n",
       "      <ul>\n",
       "      <li>countrysize\n",
       "        <ol>\n",
       "        <li>countrysize</li>\n",
       "        </ol>      </li>\n",
       "      </ul>\n",
       "    </li>\n",
       "    <li>Medaleco\n",
       "      <ul>\n",
       "      <li>countryid\n",
       "        <ol>\n",
       "        <li>countryid</li>\n",
       "        </ol>      </li>\n",
       "      </ul>\n",
       "    </li>\n",
       "    <li>Region\n",
       "      <ul>\n",
       "      <li>country\n",
       "        <ol>\n",
       "        <li>country</li>\n",
       "        </ol>      </li>\n",
       "      <li>region\n",
       "        <ol>\n",
       "        <li>region</li>\n",
       "        </ol>      </li>\n",
       "      </ul>\n",
       "    </li>\n",
       "    <li>Wealthlevel\n",
       "      <ul>\n",
       "      <li>wealthlevel\n",
       "        <ol>\n",
       "        <li>wealthlevel</li>\n",
       "        </ol>      </li>\n",
       "      </ul>\n",
       "    </li>\n",
       "    <li>sportslevel\n",
       "      <ul>\n",
       "      <li>sportlevel\n",
       "        <ol>\n",
       "        <li>sportlevel</li>\n",
       "        </ol>      </li>\n",
       "      </ul>\n",
       "    </li>\n",
       "    </ul>\n",
       "  </li>\n",
       "  <li>Measures\n",
       "    <ul>\n",
       "    <li>2021 gode medel.MEAN\n",
       "      <ul>\n",
       "      <li>formatter: DOUBLE[#,###.00]</li>\n",
       "      </ul>\n",
       "    </li>\n",
       "    <li>2021 gode medel.SUM\n",
       "      <ul>\n",
       "      <li>formatter: INT[#,###]</li>\n",
       "      </ul>\n",
       "    </li>\n",
       "    <li>Average Athlete Medals.MEAN\n",
       "      <ul>\n",
       "      <li>formatter: DOUBLE[#,###.00]</li>\n",
       "      </ul>\n",
       "    </li>\n",
       "    <li>Average Athlete Medals.SUM\n",
       "      <ul>\n",
       "      <li>formatter: DOUBLE[#,###.00]</li>\n",
       "      </ul>\n",
       "    </li>\n",
       "    <li>Average Team Medals.MEAN\n",
       "      <ul>\n",
       "      <li>formatter: DOUBLE[#,###.00]</li>\n",
       "      </ul>\n",
       "    </li>\n",
       "    <li>Average Team Medals.SUM\n",
       "      <ul>\n",
       "      <li>formatter: DOUBLE[#,###.00]</li>\n",
       "      </ul>\n",
       "    </li>\n",
       "    <li>GDP(pc).MEAN\n",
       "      <ul>\n",
       "      <li>formatter: DOUBLE[#,###.00]</li>\n",
       "      </ul>\n",
       "    </li>\n",
       "    <li>GDP(pc).SUM\n",
       "      <ul>\n",
       "      <li>formatter: DOUBLE[#,###.00]</li>\n",
       "      </ul>\n",
       "    </li>\n",
       "    <li>GDPgrowth(pc).MEAN\n",
       "      <ul>\n",
       "      <li>formatter: DOUBLE[#,###.00]</li>\n",
       "      </ul>\n",
       "    </li>\n",
       "    <li>GDPgrowth(pc).SUM\n",
       "      <ul>\n",
       "      <li>formatter: DOUBLE[#,###.00]</li>\n",
       "      </ul>\n",
       "    </li>\n",
       "    <li>athleteteamid.MEAN\n",
       "      <ul>\n",
       "      <li>formatter: DOUBLE[#,###.00]</li>\n",
       "      </ul>\n",
       "    </li>\n",
       "    <li>athleteteamid.SUM\n",
       "      <ul>\n",
       "      <li>formatter: INT[#,###]</li>\n",
       "      </ul>\n",
       "    </li>\n",
       "    <li>contributors.COUNT\n",
       "      <ul>\n",
       "      <li>formatter: INT[#,###]</li>\n",
       "      </ul>\n",
       "    </li>\n",
       "    <li>countrysizeid.MEAN\n",
       "      <ul>\n",
       "      <li>formatter: DOUBLE[#,###.00]</li>\n",
       "      </ul>\n",
       "    </li>\n",
       "    <li>countrysizeid.SUM\n",
       "      <ul>\n",
       "      <li>formatter: INT[#,###]</li>\n",
       "      </ul>\n",
       "    </li>\n",
       "    <li>grothid.MEAN\n",
       "      <ul>\n",
       "      <li>formatter: DOUBLE[#,###.00]</li>\n",
       "      </ul>\n",
       "    </li>\n",
       "    <li>grothid.SUM\n",
       "      <ul>\n",
       "      <li>formatter: INT[#,###]</li>\n",
       "      </ul>\n",
       "    </li>\n",
       "    <li>medel for strongest sport.MEAN\n",
       "      <ul>\n",
       "      <li>formatter: DOUBLE[#,###.00]</li>\n",
       "      </ul>\n",
       "    </li>\n",
       "    <li>medel for strongest sport.SUM\n",
       "      <ul>\n",
       "      <li>formatter: INT[#,###]</li>\n",
       "      </ul>\n",
       "    </li>\n",
       "    <li>medelid.MEAN\n",
       "      <ul>\n",
       "      <li>formatter: DOUBLE[#,###.00]</li>\n",
       "      </ul>\n",
       "    </li>\n",
       "    <li>medelid.SUM\n",
       "      <ul>\n",
       "      <li>formatter: INT[#,###]</li>\n",
       "      </ul>\n",
       "    </li>\n",
       "    <li>numberofhost.MEAN\n",
       "      <ul>\n",
       "      <li>formatter: DOUBLE[#,###.00]</li>\n",
       "      </ul>\n",
       "    </li>\n",
       "    <li>numberofhost.SUM\n",
       "      <ul>\n",
       "      <li>formatter: INT[#,###]</li>\n",
       "      </ul>\n",
       "    </li>\n",
       "    <li>wealthid.MEAN\n",
       "      <ul>\n",
       "      <li>formatter: DOUBLE[#,###.00]</li>\n",
       "      </ul>\n",
       "    </li>\n",
       "    <li>wealthid.SUM\n",
       "      <ul>\n",
       "      <li>formatter: INT[#,###]</li>\n",
       "      </ul>\n",
       "    </li>\n",
       "    </ul>\n",
       "  </li>\n",
       "  </ul>\n",
       "</li>\n",
       "</ul>\n"
      ],
      "text/plain": [
       "<atoti.cube.Cube at 0x7ff65acafd50>"
      ]
     },
     "execution_count": 18,
     "metadata": {
      "application/json": {
       "expanded": false,
       "root": "Medaleco"
      }
     },
     "output_type": "execute_result"
    }
   ],
   "source": [
    "cube"
   ]
  },
  {
   "cell_type": "code",
   "execution_count": 19,
   "id": "6cf0fe21-c3fb-4b65-9965-065de9277395",
   "metadata": {},
   "outputs": [],
   "source": [
    "hierarchies, levels, measures = cube.hierarchies, cube.levels, cube.measures"
   ]
  },
  {
   "cell_type": "code",
   "execution_count": 20,
   "id": "e619517c-2f79-4169-b201-64fbff5d418e",
   "metadata": {},
   "outputs": [
    {
     "data": {
      "application/json": {
       "Athlete o rteam": {
        "athleteorteam": [
         "athleteorteam"
        ]
       },
       "CountrySize": {
        "countrysize": [
         "countrysize"
        ]
       },
       "Medaleco": {
        "countryid": [
         "countryid"
        ]
       },
       "Region": {
        "country": [
         "country"
        ],
        "region": [
         "region"
        ]
       },
       "Wealthlevel": {
        "wealthlevel": [
         "wealthlevel"
        ]
       },
       "sportslevel": {
        "sportlevel": [
         "sportlevel"
        ]
       }
      },
      "text/html": [
       "<ul>\n",
       "<li>Dimensions\n",
       "  <ul>\n",
       "  <li>Athlete o rteam\n",
       "    <ul>\n",
       "    <li>athleteorteam\n",
       "      <ol>\n",
       "      <li>athleteorteam</li>\n",
       "      </ol>    </li>\n",
       "    </ul>\n",
       "  </li>\n",
       "  <li>CountrySize\n",
       "    <ul>\n",
       "    <li>countrysize\n",
       "      <ol>\n",
       "      <li>countrysize</li>\n",
       "      </ol>    </li>\n",
       "    </ul>\n",
       "  </li>\n",
       "  <li>Medaleco\n",
       "    <ul>\n",
       "    <li>countryid\n",
       "      <ol>\n",
       "      <li>countryid</li>\n",
       "      </ol>    </li>\n",
       "    </ul>\n",
       "  </li>\n",
       "  <li>Region\n",
       "    <ul>\n",
       "    <li>country\n",
       "      <ol>\n",
       "      <li>country</li>\n",
       "      </ol>    </li>\n",
       "    <li>region\n",
       "      <ol>\n",
       "      <li>region</li>\n",
       "      </ol>    </li>\n",
       "    </ul>\n",
       "  </li>\n",
       "  <li>Wealthlevel\n",
       "    <ul>\n",
       "    <li>wealthlevel\n",
       "      <ol>\n",
       "      <li>wealthlevel</li>\n",
       "      </ol>    </li>\n",
       "    </ul>\n",
       "  </li>\n",
       "  <li>sportslevel\n",
       "    <ul>\n",
       "    <li>sportlevel\n",
       "      <ol>\n",
       "      <li>sportlevel</li>\n",
       "      </ol>    </li>\n",
       "    </ul>\n",
       "  </li>\n",
       "  </ul>\n",
       "</li>\n",
       "</ul>\n"
      ],
      "text/plain": [
       "{('Athlete o rteam', 'athleteorteam'): <atoti.hierarchy.Hierarchy object at 0x7ff65adcbf50>, ('Medaleco', 'countryid'): <atoti.hierarchy.Hierarchy object at 0x7ff65acc7c90>, ('CountrySize', 'countrysize'): <atoti.hierarchy.Hierarchy object at 0x7ff65acea3d0>, ('Wealthlevel', 'wealthlevel'): <atoti.hierarchy.Hierarchy object at 0x7ff65acea490>, ('sportslevel', 'sportlevel'): <atoti.hierarchy.Hierarchy object at 0x7ff65acea550>, ('Region', 'country'): <atoti.hierarchy.Hierarchy object at 0x7ff65acea610>, ('Region', 'region'): <atoti.hierarchy.Hierarchy object at 0x7ff65acea710>}"
      ]
     },
     "execution_count": 20,
     "metadata": {
      "application/json": {
       "expanded": true,
       "root": "Dimensions"
      }
     },
     "output_type": "execute_result"
    }
   ],
   "source": [
    "# original hierarchies\n",
    "hierarchies"
   ]
  },
  {
   "cell_type": "code",
   "execution_count": 21,
   "id": "fe1e59ad-61f7-41f5-b8e4-fc47aedb2b82",
   "metadata": {},
   "outputs": [
    {
     "data": {
      "application/json": {
       "athleteorteam (Athlete o rteam/athleteorteam/athleteorteam)": {
        "dimension": "Athlete o rteam",
        "hierarchy": "athleteorteam",
        "order": "NaturalOrder",
        "type": "String"
       },
       "country (Region/country/country)": {
        "dimension": "Region",
        "hierarchy": "country",
        "order": "NaturalOrder",
        "type": "String"
       },
       "countryid (Medaleco/countryid/countryid)": {
        "dimension": "Medaleco",
        "hierarchy": "countryid",
        "order": "NaturalOrder",
        "type": "long"
       },
       "countrysize (CountrySize/countrysize/countrysize)": {
        "dimension": "CountrySize",
        "hierarchy": "countrysize",
        "order": "NaturalOrder",
        "type": "String"
       },
       "region (Region/region/region)": {
        "dimension": "Region",
        "hierarchy": "region",
        "order": "NaturalOrder",
        "type": "String"
       },
       "sportlevel (sportslevel/sportlevel/sportlevel)": {
        "dimension": "sportslevel",
        "hierarchy": "sportlevel",
        "order": "NaturalOrder",
        "type": "String"
       },
       "wealthlevel (Wealthlevel/wealthlevel/wealthlevel)": {
        "dimension": "Wealthlevel",
        "hierarchy": "wealthlevel",
        "order": "NaturalOrder",
        "type": "String"
       }
      },
      "text/html": [
       "<ul>\n",
       "<li>Levels\n",
       "  <ul>\n",
       "  <li>athleteorteam (Athlete o rteam/athleteorteam/athleteorteam)\n",
       "    <ul>\n",
       "    <li>dimension: Athlete o rteam</li>\n",
       "    <li>hierarchy: athleteorteam</li>\n",
       "    <li>type: String</li>\n",
       "    <li>order: NaturalOrder</li>\n",
       "    </ul>\n",
       "  </li>\n",
       "  <li>country (Region/country/country)\n",
       "    <ul>\n",
       "    <li>dimension: Region</li>\n",
       "    <li>hierarchy: country</li>\n",
       "    <li>type: String</li>\n",
       "    <li>order: NaturalOrder</li>\n",
       "    </ul>\n",
       "  </li>\n",
       "  <li>countryid (Medaleco/countryid/countryid)\n",
       "    <ul>\n",
       "    <li>dimension: Medaleco</li>\n",
       "    <li>hierarchy: countryid</li>\n",
       "    <li>type: long</li>\n",
       "    <li>order: NaturalOrder</li>\n",
       "    </ul>\n",
       "  </li>\n",
       "  <li>countrysize (CountrySize/countrysize/countrysize)\n",
       "    <ul>\n",
       "    <li>dimension: CountrySize</li>\n",
       "    <li>hierarchy: countrysize</li>\n",
       "    <li>type: String</li>\n",
       "    <li>order: NaturalOrder</li>\n",
       "    </ul>\n",
       "  </li>\n",
       "  <li>region (Region/region/region)\n",
       "    <ul>\n",
       "    <li>dimension: Region</li>\n",
       "    <li>hierarchy: region</li>\n",
       "    <li>type: String</li>\n",
       "    <li>order: NaturalOrder</li>\n",
       "    </ul>\n",
       "  </li>\n",
       "  <li>sportlevel (sportslevel/sportlevel/sportlevel)\n",
       "    <ul>\n",
       "    <li>dimension: sportslevel</li>\n",
       "    <li>hierarchy: sportlevel</li>\n",
       "    <li>type: String</li>\n",
       "    <li>order: NaturalOrder</li>\n",
       "    </ul>\n",
       "  </li>\n",
       "  <li>wealthlevel (Wealthlevel/wealthlevel/wealthlevel)\n",
       "    <ul>\n",
       "    <li>dimension: Wealthlevel</li>\n",
       "    <li>hierarchy: wealthlevel</li>\n",
       "    <li>type: String</li>\n",
       "    <li>order: NaturalOrder</li>\n",
       "    </ul>\n",
       "  </li>\n",
       "  </ul>\n",
       "</li>\n",
       "</ul>\n"
      ],
      "text/plain": [
       "<atoti.levels.Levels at 0x7ff65acc7b10>"
      ]
     },
     "execution_count": 21,
     "metadata": {
      "application/json": {
       "expanded": true,
       "root": "Levels"
      }
     },
     "output_type": "execute_result"
    }
   ],
   "source": [
    "# original levels\n",
    "levels"
   ]
  },
  {
   "cell_type": "code",
   "execution_count": 22,
   "id": "8b013aca-3857-4909-a210-7d7401a55bd0",
   "metadata": {},
   "outputs": [
    {
     "data": {
      "application/json": {
       "2021 gode medel.MEAN": {
        "formatter": "DOUBLE[#,###.00]"
       },
       "2021 gode medel.SUM": {
        "formatter": "INT[#,###]"
       },
       "Average Athlete Medals.MEAN": {
        "formatter": "DOUBLE[#,###.00]"
       },
       "Average Athlete Medals.SUM": {
        "formatter": "DOUBLE[#,###.00]"
       },
       "Average Team Medals.MEAN": {
        "formatter": "DOUBLE[#,###.00]"
       },
       "Average Team Medals.SUM": {
        "formatter": "DOUBLE[#,###.00]"
       },
       "GDP(pc).MEAN": {
        "formatter": "DOUBLE[#,###.00]"
       },
       "GDP(pc).SUM": {
        "formatter": "DOUBLE[#,###.00]"
       },
       "GDPgrowth(pc).MEAN": {
        "formatter": "DOUBLE[#,###.00]"
       },
       "GDPgrowth(pc).SUM": {
        "formatter": "DOUBLE[#,###.00]"
       },
       "athleteteamid.MEAN": {
        "formatter": "DOUBLE[#,###.00]"
       },
       "athleteteamid.SUM": {
        "formatter": "INT[#,###]"
       },
       "contributors.COUNT": {
        "formatter": "INT[#,###]"
       },
       "countrysizeid.MEAN": {
        "formatter": "DOUBLE[#,###.00]"
       },
       "countrysizeid.SUM": {
        "formatter": "INT[#,###]"
       },
       "grothid.MEAN": {
        "formatter": "DOUBLE[#,###.00]"
       },
       "grothid.SUM": {
        "formatter": "INT[#,###]"
       },
       "medel for strongest sport.MEAN": {
        "formatter": "DOUBLE[#,###.00]"
       },
       "medel for strongest sport.SUM": {
        "formatter": "INT[#,###]"
       },
       "medelid.MEAN": {
        "formatter": "DOUBLE[#,###.00]"
       },
       "medelid.SUM": {
        "formatter": "INT[#,###]"
       },
       "numberofhost.MEAN": {
        "formatter": "DOUBLE[#,###.00]"
       },
       "numberofhost.SUM": {
        "formatter": "INT[#,###]"
       },
       "wealthid.MEAN": {
        "formatter": "DOUBLE[#,###.00]"
       },
       "wealthid.SUM": {
        "formatter": "INT[#,###]"
       }
      },
      "text/html": [
       "<ul>\n",
       "<li>Measures\n",
       "  <ul>\n",
       "  <li>2021 gode medel.MEAN\n",
       "    <ul>\n",
       "    <li>formatter: DOUBLE[#,###.00]</li>\n",
       "    </ul>\n",
       "  </li>\n",
       "  <li>2021 gode medel.SUM\n",
       "    <ul>\n",
       "    <li>formatter: INT[#,###]</li>\n",
       "    </ul>\n",
       "  </li>\n",
       "  <li>Average Athlete Medals.MEAN\n",
       "    <ul>\n",
       "    <li>formatter: DOUBLE[#,###.00]</li>\n",
       "    </ul>\n",
       "  </li>\n",
       "  <li>Average Athlete Medals.SUM\n",
       "    <ul>\n",
       "    <li>formatter: DOUBLE[#,###.00]</li>\n",
       "    </ul>\n",
       "  </li>\n",
       "  <li>Average Team Medals.MEAN\n",
       "    <ul>\n",
       "    <li>formatter: DOUBLE[#,###.00]</li>\n",
       "    </ul>\n",
       "  </li>\n",
       "  <li>Average Team Medals.SUM\n",
       "    <ul>\n",
       "    <li>formatter: DOUBLE[#,###.00]</li>\n",
       "    </ul>\n",
       "  </li>\n",
       "  <li>GDP(pc).MEAN\n",
       "    <ul>\n",
       "    <li>formatter: DOUBLE[#,###.00]</li>\n",
       "    </ul>\n",
       "  </li>\n",
       "  <li>GDP(pc).SUM\n",
       "    <ul>\n",
       "    <li>formatter: DOUBLE[#,###.00]</li>\n",
       "    </ul>\n",
       "  </li>\n",
       "  <li>GDPgrowth(pc).MEAN\n",
       "    <ul>\n",
       "    <li>formatter: DOUBLE[#,###.00]</li>\n",
       "    </ul>\n",
       "  </li>\n",
       "  <li>GDPgrowth(pc).SUM\n",
       "    <ul>\n",
       "    <li>formatter: DOUBLE[#,###.00]</li>\n",
       "    </ul>\n",
       "  </li>\n",
       "  <li>athleteteamid.MEAN\n",
       "    <ul>\n",
       "    <li>formatter: DOUBLE[#,###.00]</li>\n",
       "    </ul>\n",
       "  </li>\n",
       "  <li>athleteteamid.SUM\n",
       "    <ul>\n",
       "    <li>formatter: INT[#,###]</li>\n",
       "    </ul>\n",
       "  </li>\n",
       "  <li>contributors.COUNT\n",
       "    <ul>\n",
       "    <li>formatter: INT[#,###]</li>\n",
       "    </ul>\n",
       "  </li>\n",
       "  <li>countrysizeid.MEAN\n",
       "    <ul>\n",
       "    <li>formatter: DOUBLE[#,###.00]</li>\n",
       "    </ul>\n",
       "  </li>\n",
       "  <li>countrysizeid.SUM\n",
       "    <ul>\n",
       "    <li>formatter: INT[#,###]</li>\n",
       "    </ul>\n",
       "  </li>\n",
       "  <li>grothid.MEAN\n",
       "    <ul>\n",
       "    <li>formatter: DOUBLE[#,###.00]</li>\n",
       "    </ul>\n",
       "  </li>\n",
       "  <li>grothid.SUM\n",
       "    <ul>\n",
       "    <li>formatter: INT[#,###]</li>\n",
       "    </ul>\n",
       "  </li>\n",
       "  <li>medel for strongest sport.MEAN\n",
       "    <ul>\n",
       "    <li>formatter: DOUBLE[#,###.00]</li>\n",
       "    </ul>\n",
       "  </li>\n",
       "  <li>medel for strongest sport.SUM\n",
       "    <ul>\n",
       "    <li>formatter: INT[#,###]</li>\n",
       "    </ul>\n",
       "  </li>\n",
       "  <li>medelid.MEAN\n",
       "    <ul>\n",
       "    <li>formatter: DOUBLE[#,###.00]</li>\n",
       "    </ul>\n",
       "  </li>\n",
       "  <li>medelid.SUM\n",
       "    <ul>\n",
       "    <li>formatter: INT[#,###]</li>\n",
       "    </ul>\n",
       "  </li>\n",
       "  <li>numberofhost.MEAN\n",
       "    <ul>\n",
       "    <li>formatter: DOUBLE[#,###.00]</li>\n",
       "    </ul>\n",
       "  </li>\n",
       "  <li>numberofhost.SUM\n",
       "    <ul>\n",
       "    <li>formatter: INT[#,###]</li>\n",
       "    </ul>\n",
       "  </li>\n",
       "  <li>wealthid.MEAN\n",
       "    <ul>\n",
       "    <li>formatter: DOUBLE[#,###.00]</li>\n",
       "    </ul>\n",
       "  </li>\n",
       "  <li>wealthid.SUM\n",
       "    <ul>\n",
       "    <li>formatter: INT[#,###]</li>\n",
       "    </ul>\n",
       "  </li>\n",
       "  </ul>\n",
       "</li>\n",
       "</ul>\n"
      ],
      "text/plain": [
       "{'contributors.COUNT': <atoti.measure.Measure object at 0x7ff658305e50>, 'update.TIMESTAMP': <atoti.measure.Measure object at 0x7ff65acaf550>, 'GDP(pc).MEAN': <atoti.measure.Measure object at 0x7ff658305ed0>, 'GDP(pc).SUM': <atoti.measure.Measure object at 0x7ff658305f10>, 'numberofhost.MEAN': <atoti.measure.Measure object at 0x7ff658305f50>, 'numberofhost.SUM': <atoti.measure.Measure object at 0x7ff658305f90>, 'medelid.MEAN': <atoti.measure.Measure object at 0x7ff658305fd0>, 'medelid.SUM': <atoti.measure.Measure object at 0x7ff658306010>, '2021 gode medel.MEAN': <atoti.measure.Measure object at 0x7ff658306050>, '2021 gode medel.SUM': <atoti.measure.Measure object at 0x7ff658306090>, 'athleteteamid.MEAN': <atoti.measure.Measure object at 0x7ff6583060d0>, 'athleteteamid.SUM': <atoti.measure.Measure object at 0x7ff658306110>, 'Average Athlete Medals.MEAN': <atoti.measure.Measure object at 0x7ff658306150>, 'Average Athlete Medals.SUM': <atoti.measure.Measure object at 0x7ff658306190>, 'Average Team Medals.MEAN': <atoti.measure.Measure object at 0x7ff6583061d0>, 'Average Team Medals.SUM': <atoti.measure.Measure object at 0x7ff658306210>, 'GDPgrowth(pc).MEAN': <atoti.measure.Measure object at 0x7ff658306250>, 'GDPgrowth(pc).SUM': <atoti.measure.Measure object at 0x7ff658306290>, 'countrysizeid.MEAN': <atoti.measure.Measure object at 0x7ff6583062d0>, 'countrysizeid.SUM': <atoti.measure.Measure object at 0x7ff658306310>, 'grothid.MEAN': <atoti.measure.Measure object at 0x7ff658306350>, 'grothid.SUM': <atoti.measure.Measure object at 0x7ff658306390>, 'wealthid.MEAN': <atoti.measure.Measure object at 0x7ff6583063d0>, 'wealthid.SUM': <atoti.measure.Measure object at 0x7ff658306410>, 'medel for strongest sport.MEAN': <atoti.measure.Measure object at 0x7ff658306450>, 'medel for strongest sport.SUM': <atoti.measure.Measure object at 0x7ff658306490>}"
      ]
     },
     "execution_count": 22,
     "metadata": {
      "application/json": {
       "expanded": false,
       "root": "Measures"
      }
     },
     "output_type": "execute_result"
    }
   ],
   "source": [
    "measures"
   ]
  },
  {
   "cell_type": "code",
   "execution_count": 23,
   "id": "a1e60270-b699-4f79-82cd-8d114a7d843f",
   "metadata": {},
   "outputs": [],
   "source": [
    "hierarchies[\"Region\"] = [levels[\"region\"],levels[\"country\"]]"
   ]
  },
  {
   "cell_type": "code",
   "execution_count": 24,
   "id": "5508025b-d259-4f79-9025-b160c3eb8bd1",
   "metadata": {},
   "outputs": [
    {
     "data": {
      "application/json": {
       "Athlete o rteam": {
        "athleteorteam": [
         "athleteorteam"
        ]
       },
       "CountrySize": {
        "countrysize": [
         "countrysize"
        ]
       },
       "Medaleco": {
        "countryid": [
         "countryid"
        ]
       },
       "Region": {
        "Region": [
         "region",
         "country"
        ],
        "country": [
         "country"
        ],
        "region": [
         "region"
        ]
       },
       "Wealthlevel": {
        "wealthlevel": [
         "wealthlevel"
        ]
       },
       "sportslevel": {
        "sportlevel": [
         "sportlevel"
        ]
       }
      },
      "text/html": [
       "<ul>\n",
       "<li>Dimensions\n",
       "  <ul>\n",
       "  <li>Athlete o rteam\n",
       "    <ul>\n",
       "    <li>athleteorteam\n",
       "      <ol>\n",
       "      <li>athleteorteam</li>\n",
       "      </ol>    </li>\n",
       "    </ul>\n",
       "  </li>\n",
       "  <li>CountrySize\n",
       "    <ul>\n",
       "    <li>countrysize\n",
       "      <ol>\n",
       "      <li>countrysize</li>\n",
       "      </ol>    </li>\n",
       "    </ul>\n",
       "  </li>\n",
       "  <li>Medaleco\n",
       "    <ul>\n",
       "    <li>countryid\n",
       "      <ol>\n",
       "      <li>countryid</li>\n",
       "      </ol>    </li>\n",
       "    </ul>\n",
       "  </li>\n",
       "  <li>Region\n",
       "    <ul>\n",
       "    <li>Region\n",
       "      <ol>\n",
       "      <li>region</li>\n",
       "      <li>country</li>\n",
       "      </ol>    </li>\n",
       "    <li>country\n",
       "      <ol>\n",
       "      <li>country</li>\n",
       "      </ol>    </li>\n",
       "    <li>region\n",
       "      <ol>\n",
       "      <li>region</li>\n",
       "      </ol>    </li>\n",
       "    </ul>\n",
       "  </li>\n",
       "  <li>Wealthlevel\n",
       "    <ul>\n",
       "    <li>wealthlevel\n",
       "      <ol>\n",
       "      <li>wealthlevel</li>\n",
       "      </ol>    </li>\n",
       "    </ul>\n",
       "  </li>\n",
       "  <li>sportslevel\n",
       "    <ul>\n",
       "    <li>sportlevel\n",
       "      <ol>\n",
       "      <li>sportlevel</li>\n",
       "      </ol>    </li>\n",
       "    </ul>\n",
       "  </li>\n",
       "  </ul>\n",
       "</li>\n",
       "</ul>\n"
      ],
      "text/plain": [
       "{('Athlete o rteam', 'athleteorteam'): <atoti.hierarchy.Hierarchy object at 0x7ff65830df90>, ('Medaleco', 'countryid'): <atoti.hierarchy.Hierarchy object at 0x7ff65adeca10>, ('CountrySize', 'countrysize'): <atoti.hierarchy.Hierarchy object at 0x7ff65acd60d0>, ('Wealthlevel', 'wealthlevel'): <atoti.hierarchy.Hierarchy object at 0x7ff65acd4750>, ('sportslevel', 'sportlevel'): <atoti.hierarchy.Hierarchy object at 0x7ff65acd7e90>, ('Region', 'country'): <atoti.hierarchy.Hierarchy object at 0x7ff65acd7150>, ('Region', 'Region'): <atoti.hierarchy.Hierarchy object at 0x7ff65acd7410>, ('Region', 'region'): <atoti.hierarchy.Hierarchy object at 0x7ff65ac99e10>}"
      ]
     },
     "execution_count": 24,
     "metadata": {
      "application/json": {
       "expanded": true,
       "root": "Dimensions"
      }
     },
     "output_type": "execute_result"
    }
   ],
   "source": [
    "hierarchies"
   ]
  },
  {
   "cell_type": "code",
   "execution_count": 25,
   "id": "330f6e80-85e8-41ef-baea-47785cd36e9d",
   "metadata": {},
   "outputs": [],
   "source": [
    "del hierarchies[('Medaleco', 'countryid')]"
   ]
  },
  {
   "cell_type": "code",
   "execution_count": 26,
   "id": "d787220d-820e-4c9e-9d8b-961a87b69213",
   "metadata": {},
   "outputs": [],
   "source": [
    "del hierarchies[('Region', 'region')]\n",
    "del hierarchies[('Region','country')]"
   ]
  },
  {
   "cell_type": "code",
   "execution_count": 27,
   "id": "07601cfb-48d6-49b0-98d7-0548adaa5cb6",
   "metadata": {},
   "outputs": [
    {
     "data": {
      "application/json": {
       "Athlete o rteam": {
        "athleteorteam": [
         "athleteorteam"
        ]
       },
       "CountrySize": {
        "countrysize": [
         "countrysize"
        ]
       },
       "Region": {
        "Region": [
         "region",
         "country"
        ]
       },
       "Wealthlevel": {
        "wealthlevel": [
         "wealthlevel"
        ]
       },
       "sportslevel": {
        "sportlevel": [
         "sportlevel"
        ]
       }
      },
      "text/html": [
       "<ul>\n",
       "<li>Dimensions\n",
       "  <ul>\n",
       "  <li>Athlete o rteam\n",
       "    <ul>\n",
       "    <li>athleteorteam\n",
       "      <ol>\n",
       "      <li>athleteorteam</li>\n",
       "      </ol>    </li>\n",
       "    </ul>\n",
       "  </li>\n",
       "  <li>CountrySize\n",
       "    <ul>\n",
       "    <li>countrysize\n",
       "      <ol>\n",
       "      <li>countrysize</li>\n",
       "      </ol>    </li>\n",
       "    </ul>\n",
       "  </li>\n",
       "  <li>Region\n",
       "    <ul>\n",
       "    <li>Region\n",
       "      <ol>\n",
       "      <li>region</li>\n",
       "      <li>country</li>\n",
       "      </ol>    </li>\n",
       "    </ul>\n",
       "  </li>\n",
       "  <li>Wealthlevel\n",
       "    <ul>\n",
       "    <li>wealthlevel\n",
       "      <ol>\n",
       "      <li>wealthlevel</li>\n",
       "      </ol>    </li>\n",
       "    </ul>\n",
       "  </li>\n",
       "  <li>sportslevel\n",
       "    <ul>\n",
       "    <li>sportlevel\n",
       "      <ol>\n",
       "      <li>sportlevel</li>\n",
       "      </ol>    </li>\n",
       "    </ul>\n",
       "  </li>\n",
       "  </ul>\n",
       "</li>\n",
       "</ul>\n"
      ],
      "text/plain": [
       "{('Athlete o rteam', 'athleteorteam'): <atoti.hierarchy.Hierarchy object at 0x7ff65acafb90>, ('CountrySize', 'countrysize'): <atoti.hierarchy.Hierarchy object at 0x7ff65acafe50>, ('Wealthlevel', 'wealthlevel'): <atoti.hierarchy.Hierarchy object at 0x7ff65accebd0>, ('sportslevel', 'sportlevel'): <atoti.hierarchy.Hierarchy object at 0x7ff65acd7410>, ('Region', 'Region'): <atoti.hierarchy.Hierarchy object at 0x7ff65acd7910>}"
      ]
     },
     "execution_count": 27,
     "metadata": {
      "application/json": {
       "expanded": true,
       "root": "Dimensions"
      }
     },
     "output_type": "execute_result"
    }
   ],
   "source": [
    "hierarchies"
   ]
  },
  {
   "cell_type": "code",
   "execution_count": 28,
   "id": "77526eac-4025-469b-ab16-4eb9c2d4f64e",
   "metadata": {},
   "outputs": [
    {
     "data": {
      "application/json": {
       "2021 gode medel.MEAN": {
        "formatter": "DOUBLE[#,###.00]"
       },
       "2021 gode medel.SUM": {
        "formatter": "INT[#,###]"
       },
       "Average Athlete Medals.MEAN": {
        "formatter": "DOUBLE[#,###.00]"
       },
       "Average Athlete Medals.SUM": {
        "formatter": "DOUBLE[#,###.00]"
       },
       "Average Team Medals.MEAN": {
        "formatter": "DOUBLE[#,###.00]"
       },
       "Average Team Medals.SUM": {
        "formatter": "DOUBLE[#,###.00]"
       },
       "GDP(pc).MEAN": {
        "formatter": "DOUBLE[#,###.00]"
       },
       "GDP(pc).SUM": {
        "formatter": "DOUBLE[#,###.00]"
       },
       "GDPgrowth(pc).MEAN": {
        "formatter": "DOUBLE[#,###.00]"
       },
       "GDPgrowth(pc).SUM": {
        "formatter": "DOUBLE[#,###.00]"
       },
       "athleteteamid.MEAN": {
        "formatter": "DOUBLE[#,###.00]"
       },
       "athleteteamid.SUM": {
        "formatter": "INT[#,###]"
       },
       "contributors.COUNT": {
        "formatter": "INT[#,###]"
       },
       "countrysizeid.MEAN": {
        "formatter": "DOUBLE[#,###.00]"
       },
       "countrysizeid.SUM": {
        "formatter": "INT[#,###]"
       },
       "grothid.MEAN": {
        "formatter": "DOUBLE[#,###.00]"
       },
       "grothid.SUM": {
        "formatter": "INT[#,###]"
       },
       "medel for strongest sport.MEAN": {
        "formatter": "DOUBLE[#,###.00]"
       },
       "medel for strongest sport.SUM": {
        "formatter": "INT[#,###]"
       },
       "medelid.MEAN": {
        "formatter": "DOUBLE[#,###.00]"
       },
       "medelid.SUM": {
        "formatter": "INT[#,###]"
       },
       "numberofhost.MEAN": {
        "formatter": "DOUBLE[#,###.00]"
       },
       "numberofhost.SUM": {
        "formatter": "INT[#,###]"
       },
       "wealthid.MEAN": {
        "formatter": "DOUBLE[#,###.00]"
       },
       "wealthid.SUM": {
        "formatter": "INT[#,###]"
       }
      },
      "text/html": [
       "<ul>\n",
       "<li>Measures\n",
       "  <ul>\n",
       "  <li>2021 gode medel.MEAN\n",
       "    <ul>\n",
       "    <li>formatter: DOUBLE[#,###.00]</li>\n",
       "    </ul>\n",
       "  </li>\n",
       "  <li>2021 gode medel.SUM\n",
       "    <ul>\n",
       "    <li>formatter: INT[#,###]</li>\n",
       "    </ul>\n",
       "  </li>\n",
       "  <li>Average Athlete Medals.MEAN\n",
       "    <ul>\n",
       "    <li>formatter: DOUBLE[#,###.00]</li>\n",
       "    </ul>\n",
       "  </li>\n",
       "  <li>Average Athlete Medals.SUM\n",
       "    <ul>\n",
       "    <li>formatter: DOUBLE[#,###.00]</li>\n",
       "    </ul>\n",
       "  </li>\n",
       "  <li>Average Team Medals.MEAN\n",
       "    <ul>\n",
       "    <li>formatter: DOUBLE[#,###.00]</li>\n",
       "    </ul>\n",
       "  </li>\n",
       "  <li>Average Team Medals.SUM\n",
       "    <ul>\n",
       "    <li>formatter: DOUBLE[#,###.00]</li>\n",
       "    </ul>\n",
       "  </li>\n",
       "  <li>GDP(pc).MEAN\n",
       "    <ul>\n",
       "    <li>formatter: DOUBLE[#,###.00]</li>\n",
       "    </ul>\n",
       "  </li>\n",
       "  <li>GDP(pc).SUM\n",
       "    <ul>\n",
       "    <li>formatter: DOUBLE[#,###.00]</li>\n",
       "    </ul>\n",
       "  </li>\n",
       "  <li>GDPgrowth(pc).MEAN\n",
       "    <ul>\n",
       "    <li>formatter: DOUBLE[#,###.00]</li>\n",
       "    </ul>\n",
       "  </li>\n",
       "  <li>GDPgrowth(pc).SUM\n",
       "    <ul>\n",
       "    <li>formatter: DOUBLE[#,###.00]</li>\n",
       "    </ul>\n",
       "  </li>\n",
       "  <li>athleteteamid.MEAN\n",
       "    <ul>\n",
       "    <li>formatter: DOUBLE[#,###.00]</li>\n",
       "    </ul>\n",
       "  </li>\n",
       "  <li>athleteteamid.SUM\n",
       "    <ul>\n",
       "    <li>formatter: INT[#,###]</li>\n",
       "    </ul>\n",
       "  </li>\n",
       "  <li>contributors.COUNT\n",
       "    <ul>\n",
       "    <li>formatter: INT[#,###]</li>\n",
       "    </ul>\n",
       "  </li>\n",
       "  <li>countrysizeid.MEAN\n",
       "    <ul>\n",
       "    <li>formatter: DOUBLE[#,###.00]</li>\n",
       "    </ul>\n",
       "  </li>\n",
       "  <li>countrysizeid.SUM\n",
       "    <ul>\n",
       "    <li>formatter: INT[#,###]</li>\n",
       "    </ul>\n",
       "  </li>\n",
       "  <li>grothid.MEAN\n",
       "    <ul>\n",
       "    <li>formatter: DOUBLE[#,###.00]</li>\n",
       "    </ul>\n",
       "  </li>\n",
       "  <li>grothid.SUM\n",
       "    <ul>\n",
       "    <li>formatter: INT[#,###]</li>\n",
       "    </ul>\n",
       "  </li>\n",
       "  <li>medel for strongest sport.MEAN\n",
       "    <ul>\n",
       "    <li>formatter: DOUBLE[#,###.00]</li>\n",
       "    </ul>\n",
       "  </li>\n",
       "  <li>medel for strongest sport.SUM\n",
       "    <ul>\n",
       "    <li>formatter: INT[#,###]</li>\n",
       "    </ul>\n",
       "  </li>\n",
       "  <li>medelid.MEAN\n",
       "    <ul>\n",
       "    <li>formatter: DOUBLE[#,###.00]</li>\n",
       "    </ul>\n",
       "  </li>\n",
       "  <li>medelid.SUM\n",
       "    <ul>\n",
       "    <li>formatter: INT[#,###]</li>\n",
       "    </ul>\n",
       "  </li>\n",
       "  <li>numberofhost.MEAN\n",
       "    <ul>\n",
       "    <li>formatter: DOUBLE[#,###.00]</li>\n",
       "    </ul>\n",
       "  </li>\n",
       "  <li>numberofhost.SUM\n",
       "    <ul>\n",
       "    <li>formatter: INT[#,###]</li>\n",
       "    </ul>\n",
       "  </li>\n",
       "  <li>wealthid.MEAN\n",
       "    <ul>\n",
       "    <li>formatter: DOUBLE[#,###.00]</li>\n",
       "    </ul>\n",
       "  </li>\n",
       "  <li>wealthid.SUM\n",
       "    <ul>\n",
       "    <li>formatter: INT[#,###]</li>\n",
       "    </ul>\n",
       "  </li>\n",
       "  </ul>\n",
       "</li>\n",
       "</ul>\n"
      ],
      "text/plain": [
       "{'contributors.COUNT': <atoti.measure.Measure object at 0x7ff658317150>, 'update.TIMESTAMP': <atoti.measure.Measure object at 0x7ff658317510>, 'GDP(pc).MEAN': <atoti.measure.Measure object at 0x7ff6583167d0>, 'GDP(pc).SUM': <atoti.measure.Measure object at 0x7ff6583171d0>, 'numberofhost.MEAN': <atoti.measure.Measure object at 0x7ff6583175d0>, 'numberofhost.SUM': <atoti.measure.Measure object at 0x7ff658316510>, 'medelid.MEAN': <atoti.measure.Measure object at 0x7ff658317050>, 'medelid.SUM': <atoti.measure.Measure object at 0x7ff658314110>, '2021 gode medel.MEAN': <atoti.measure.Measure object at 0x7ff6583140d0>, '2021 gode medel.SUM': <atoti.measure.Measure object at 0x7ff658317b50>, 'athleteteamid.MEAN': <atoti.measure.Measure object at 0x7ff658317cd0>, 'athleteteamid.SUM': <atoti.measure.Measure object at 0x7ff658314a10>, 'Average Athlete Medals.MEAN': <atoti.measure.Measure object at 0x7ff658314790>, 'Average Athlete Medals.SUM': <atoti.measure.Measure object at 0x7ff6583146d0>, 'Average Team Medals.MEAN': <atoti.measure.Measure object at 0x7ff658314150>, 'Average Team Medals.SUM': <atoti.measure.Measure object at 0x7ff658314950>, 'GDPgrowth(pc).MEAN': <atoti.measure.Measure object at 0x7ff658317910>, 'GDPgrowth(pc).SUM': <atoti.measure.Measure object at 0x7ff658317350>, 'countrysizeid.MEAN': <atoti.measure.Measure object at 0x7ff658314f10>, 'countrysizeid.SUM': <atoti.measure.Measure object at 0x7ff658317450>, 'grothid.MEAN': <atoti.measure.Measure object at 0x7ff658314690>, 'grothid.SUM': <atoti.measure.Measure object at 0x7ff6583141d0>, 'wealthid.MEAN': <atoti.measure.Measure object at 0x7ff6583148d0>, 'wealthid.SUM': <atoti.measure.Measure object at 0x7ff658314990>, 'medel for strongest sport.MEAN': <atoti.measure.Measure object at 0x7ff658315810>, 'medel for strongest sport.SUM': <atoti.measure.Measure object at 0x7ff658315e50>}"
      ]
     },
     "execution_count": 28,
     "metadata": {
      "application/json": {
       "expanded": false,
       "root": "Measures"
      }
     },
     "output_type": "execute_result"
    }
   ],
   "source": [
    "measures"
   ]
  },
  {
   "cell_type": "code",
   "execution_count": 29,
   "id": "417b6985-4633-4ba4-b274-3c2fd5f68660",
   "metadata": {},
   "outputs": [
    {
     "data": {
      "application/json": {
       "2021 gode medel.SUM": {
        "formatter": "INT[#,###]"
       },
       "Average Athlete Medals.SUM": {
        "formatter": "DOUBLE[#,###.00]"
       },
       "Average Team Medals.SUM": {
        "formatter": "DOUBLE[#,###.00]"
       },
       "GDP(pc).SUM": {
        "formatter": "DOUBLE[#,###.00]"
       },
       "GDPgrowth(pc).SUM": {
        "formatter": "DOUBLE[#,###.00]"
       },
       "medel for strongest sport.SUM": {
        "formatter": "INT[#,###]"
       },
       "numberofhost.SUM": {
        "formatter": "INT[#,###]"
       }
      },
      "text/html": [
       "<ul>\n",
       "<li>Measures\n",
       "  <ul>\n",
       "  <li>2021 gode medel.SUM\n",
       "    <ul>\n",
       "    <li>formatter: INT[#,###]</li>\n",
       "    </ul>\n",
       "  </li>\n",
       "  <li>Average Athlete Medals.SUM\n",
       "    <ul>\n",
       "    <li>formatter: DOUBLE[#,###.00]</li>\n",
       "    </ul>\n",
       "  </li>\n",
       "  <li>Average Team Medals.SUM\n",
       "    <ul>\n",
       "    <li>formatter: DOUBLE[#,###.00]</li>\n",
       "    </ul>\n",
       "  </li>\n",
       "  <li>GDP(pc).SUM\n",
       "    <ul>\n",
       "    <li>formatter: DOUBLE[#,###.00]</li>\n",
       "    </ul>\n",
       "  </li>\n",
       "  <li>GDPgrowth(pc).SUM\n",
       "    <ul>\n",
       "    <li>formatter: DOUBLE[#,###.00]</li>\n",
       "    </ul>\n",
       "  </li>\n",
       "  <li>medel for strongest sport.SUM\n",
       "    <ul>\n",
       "    <li>formatter: INT[#,###]</li>\n",
       "    </ul>\n",
       "  </li>\n",
       "  <li>numberofhost.SUM\n",
       "    <ul>\n",
       "    <li>formatter: INT[#,###]</li>\n",
       "    </ul>\n",
       "  </li>\n",
       "  </ul>\n",
       "</li>\n",
       "</ul>\n"
      ],
      "text/plain": [
       "{'update.TIMESTAMP': <atoti.measure.Measure object at 0x7ff6583208d0>, 'GDP(pc).SUM': <atoti.measure.Measure object at 0x7ff658320f50>, 'numberofhost.SUM': <atoti.measure.Measure object at 0x7ff6583218d0>, '2021 gode medel.SUM': <atoti.measure.Measure object at 0x7ff658321fd0>, 'Average Athlete Medals.SUM': <atoti.measure.Measure object at 0x7ff658322f90>, 'Average Team Medals.SUM': <atoti.measure.Measure object at 0x7ff658322090>, 'GDPgrowth(pc).SUM': <atoti.measure.Measure object at 0x7ff658321190>, 'medel for strongest sport.SUM': <atoti.measure.Measure object at 0x7ff658322650>}"
      ]
     },
     "execution_count": 29,
     "metadata": {
      "application/json": {
       "expanded": false,
       "root": "Measures"
      }
     },
     "output_type": "execute_result"
    }
   ],
   "source": [
    "del measures[\"wealthid.SUM\"]\n",
    "del measures[\"wealthid.MEAN\"]\n",
    "del measures[\"numberofhost.MEAN\"]\n",
    "del measures[\"medelid.SUM\"]\n",
    "del measures[\"medelid.MEAN\"]\n",
    "del measures[\"medel for strongest sport.MEAN\"]\n",
    "del measures[\"grothid.MEAN\"]\n",
    "del measures[\"grothid.SUM\"]\n",
    "del measures[\"countrysizeid.MEAN\"]\n",
    "del measures[\"countrysizeid.SUM\"]\n",
    "del measures[\"athleteteamid.MEAN\"]\n",
    "del measures[\"athleteteamid.SUM\"]\n",
    "del measures[\"GDPgrowth(pc).MEAN\"]\n",
    "del measures[\"GDP(pc).MEAN\"]\n",
    "del measures[\"Average Team Medals.MEAN\"]\n",
    "del measures[\"Average Athlete Medals.MEAN\"]\n",
    "del measures[\"2021 gode medel.MEAN\"]\n",
    "del measures[\"contributors.COUNT\"]\n",
    "\n",
    "measures"
   ]
  },
  {
   "cell_type": "markdown",
   "id": "fbd436cc-921f-4d9d-8a20-87ba2b374412",
   "metadata": {},
   "source": [
    "## Query 1\n",
    "How many times did countries with huge population host in total? "
   ]
  },
  {
   "cell_type": "code",
   "execution_count": 30,
   "id": "1e874102-e542-458d-a120-f06f2cc7f905",
   "metadata": {},
   "outputs": [
    {
     "data": {
      "text/html": [
       "<div>\n",
       "<style scoped>\n",
       "    .dataframe tbody tr th:only-of-type {\n",
       "        vertical-align: middle;\n",
       "    }\n",
       "\n",
       "    .dataframe tbody tr th {\n",
       "        vertical-align: top;\n",
       "    }\n",
       "\n",
       "    .dataframe thead th {\n",
       "        text-align: right;\n",
       "    }\n",
       "</style>\n",
       "<table border=\"1\" class=\"dataframe\">\n",
       "  <thead>\n",
       "    <tr style=\"text-align: right;\">\n",
       "      <th></th>\n",
       "      <th>numberofhost.SUM</th>\n",
       "    </tr>\n",
       "    <tr>\n",
       "      <th>countrysize</th>\n",
       "      <th></th>\n",
       "    </tr>\n",
       "  </thead>\n",
       "  <tbody>\n",
       "    <tr>\n",
       "      <th>Large</th>\n",
       "      <td>35</td>\n",
       "    </tr>\n",
       "    <tr>\n",
       "      <th>Medium</th>\n",
       "      <td>18</td>\n",
       "    </tr>\n",
       "    <tr>\n",
       "      <th>Small</th>\n",
       "      <td>0</td>\n",
       "    </tr>\n",
       "  </tbody>\n",
       "</table>\n",
       "</div>"
      ],
      "text/plain": [
       "            numberofhost.SUM\n",
       "countrysize                 \n",
       "Large                     35\n",
       "Medium                    18\n",
       "Small                      0"
      ]
     },
     "execution_count": 30,
     "metadata": {},
     "output_type": "execute_result"
    }
   ],
   "source": [
    "cube.query(measures[\"numberofhost.SUM\"], levels=[levels[('CountrySize', 'countrysize','countrysize')]])"
   ]
  },
  {
   "cell_type": "markdown",
   "id": "ede9eb7a-31c9-48f2-8f99-f27658831b0f",
   "metadata": {},
   "source": [
    "## Query 2\n",
    "How many medals did the wealthiest continent in 2020 win at the Tokyo Olympics?"
   ]
  },
  {
   "cell_type": "code",
   "execution_count": 31,
   "id": "9a3a1eb2-9922-4d00-a14e-c45acfd0dd48",
   "metadata": {},
   "outputs": [
    {
     "data": {
      "text/html": [
       "<div>\n",
       "<style scoped>\n",
       "    .dataframe tbody tr th:only-of-type {\n",
       "        vertical-align: middle;\n",
       "    }\n",
       "\n",
       "    .dataframe tbody tr th {\n",
       "        vertical-align: top;\n",
       "    }\n",
       "\n",
       "    .dataframe thead th {\n",
       "        text-align: right;\n",
       "    }\n",
       "</style>\n",
       "<table border=\"1\" class=\"dataframe\">\n",
       "  <thead>\n",
       "    <tr style=\"text-align: right;\">\n",
       "      <th></th>\n",
       "      <th>GDP(pc).SUM</th>\n",
       "      <th>2021 gode medel.SUM</th>\n",
       "    </tr>\n",
       "    <tr>\n",
       "      <th>region</th>\n",
       "      <th></th>\n",
       "      <th></th>\n",
       "    </tr>\n",
       "  </thead>\n",
       "  <tbody>\n",
       "    <tr>\n",
       "      <th>Africa</th>\n",
       "      <td>112,350.34</td>\n",
       "      <td>11</td>\n",
       "    </tr>\n",
       "    <tr>\n",
       "      <th>Asia</th>\n",
       "      <td>488,640.15</td>\n",
       "      <td>126</td>\n",
       "    </tr>\n",
       "    <tr>\n",
       "      <th>Europe</th>\n",
       "      <td>1,529,554.80</td>\n",
       "      <td>134</td>\n",
       "    </tr>\n",
       "    <tr>\n",
       "      <th>North America</th>\n",
       "      <td>302,493.15</td>\n",
       "      <td>63</td>\n",
       "    </tr>\n",
       "    <tr>\n",
       "      <th>Oceania</th>\n",
       "      <td>154,009.00</td>\n",
       "      <td>29</td>\n",
       "    </tr>\n",
       "    <tr>\n",
       "      <th>South America</th>\n",
       "      <td>81,330.90</td>\n",
       "      <td>11</td>\n",
       "    </tr>\n",
       "  </tbody>\n",
       "</table>\n",
       "</div>"
      ],
      "text/plain": [
       "                GDP(pc).SUM 2021 gode medel.SUM\n",
       "region                                         \n",
       "Africa           112,350.34                  11\n",
       "Asia             488,640.15                 126\n",
       "Europe         1,529,554.80                 134\n",
       "North America    302,493.15                  63\n",
       "Oceania          154,009.00                  29\n",
       "South America     81,330.90                  11"
      ]
     },
     "execution_count": 31,
     "metadata": {},
     "output_type": "execute_result"
    }
   ],
   "source": [
    "cube.query(measures[\"GDP(pc).SUM\"], measures[\"2021 gode medel.SUM\"], levels=[levels[('Region', 'Region','region')] ])"
   ]
  },
  {
   "cell_type": "markdown",
   "id": "069f4062-ca53-4498-92c4-697bbdd43fbc",
   "metadata": {},
   "source": [
    "## Query 3\n",
    "What was the GDP growth rate of the country that won the most medals in 2020?"
   ]
  },
  {
   "cell_type": "code",
   "execution_count": 32,
   "id": "80b869fe-2103-4686-981c-239a01b0c822",
   "metadata": {},
   "outputs": [
    {
     "data": {
      "text/html": [
       "<div>\n",
       "<style scoped>\n",
       "    .dataframe tbody tr th:only-of-type {\n",
       "        vertical-align: middle;\n",
       "    }\n",
       "\n",
       "    .dataframe tbody tr th {\n",
       "        vertical-align: top;\n",
       "    }\n",
       "\n",
       "    .dataframe thead th {\n",
       "        text-align: right;\n",
       "    }\n",
       "</style>\n",
       "<table border=\"1\" class=\"dataframe\">\n",
       "  <thead>\n",
       "    <tr style=\"text-align: right;\">\n",
       "      <th></th>\n",
       "      <th></th>\n",
       "      <th>GDPgrowth(pc).SUM</th>\n",
       "      <th>2021 gode medel.SUM</th>\n",
       "    </tr>\n",
       "    <tr>\n",
       "      <th>region</th>\n",
       "      <th>country</th>\n",
       "      <th></th>\n",
       "      <th></th>\n",
       "    </tr>\n",
       "  </thead>\n",
       "  <tbody>\n",
       "    <tr>\n",
       "      <th rowspan=\"5\" valign=\"top\">Africa</th>\n",
       "      <th>Algeria</th>\n",
       "      <td>-6.73</td>\n",
       "      <td>0</td>\n",
       "    </tr>\n",
       "    <tr>\n",
       "      <th>Angola</th>\n",
       "      <td>-8.67</td>\n",
       "      <td>0</td>\n",
       "    </tr>\n",
       "    <tr>\n",
       "      <th>Benin</th>\n",
       "      <td>.95</td>\n",
       "      <td>0</td>\n",
       "    </tr>\n",
       "    <tr>\n",
       "      <th>Botswana</th>\n",
       "      <td>-10.40</td>\n",
       "      <td>0</td>\n",
       "    </tr>\n",
       "    <tr>\n",
       "      <th>Burkina Faso</th>\n",
       "      <td>-.77</td>\n",
       "      <td>0</td>\n",
       "    </tr>\n",
       "    <tr>\n",
       "      <th>...</th>\n",
       "      <th>...</th>\n",
       "      <td>...</td>\n",
       "      <td>...</td>\n",
       "    </tr>\n",
       "    <tr>\n",
       "      <th rowspan=\"5\" valign=\"top\">South America</th>\n",
       "      <th>Paraguay</th>\n",
       "      <td>-2.15</td>\n",
       "      <td>0</td>\n",
       "    </tr>\n",
       "    <tr>\n",
       "      <th>Peru</th>\n",
       "      <td>-12.15</td>\n",
       "      <td>0</td>\n",
       "    </tr>\n",
       "    <tr>\n",
       "      <th>Suriname</th>\n",
       "      <td>-16.91</td>\n",
       "      <td>0</td>\n",
       "    </tr>\n",
       "    <tr>\n",
       "      <th>Uruguay</th>\n",
       "      <td>-6.28</td>\n",
       "      <td>0</td>\n",
       "    </tr>\n",
       "    <tr>\n",
       "      <th>Venezuela</th>\n",
       "      <td>.00</td>\n",
       "      <td>1</td>\n",
       "    </tr>\n",
       "  </tbody>\n",
       "</table>\n",
       "<p>234 rows × 2 columns</p>\n",
       "</div>"
      ],
      "text/plain": [
       "                           GDPgrowth(pc).SUM 2021 gode medel.SUM\n",
       "region        country                                           \n",
       "Africa        Algeria                  -6.73                   0\n",
       "              Angola                   -8.67                   0\n",
       "              Benin                      .95                   0\n",
       "              Botswana                -10.40                   0\n",
       "              Burkina Faso              -.77                   0\n",
       "...                                      ...                 ...\n",
       "South America Paraguay                 -2.15                   0\n",
       "              Peru                    -12.15                   0\n",
       "              Suriname                -16.91                   0\n",
       "              Uruguay                  -6.28                   0\n",
       "              Venezuela                  .00                   1\n",
       "\n",
       "[234 rows x 2 columns]"
      ]
     },
     "execution_count": 32,
     "metadata": {},
     "output_type": "execute_result"
    }
   ],
   "source": [
    "cube.query(measures[\"GDPgrowth(pc).SUM\"], measures[\"2021 gode medel.SUM\"], levels=[levels[('Region', 'Region','country')] ])"
   ]
  },
  {
   "cell_type": "markdown",
   "id": "78e88415-1523-48be-9bc0-ef7b4632bec8",
   "metadata": {},
   "source": [
    "## Query 4\n",
    "Do populous countries prefer individual or team sports?"
   ]
  },
  {
   "cell_type": "code",
   "execution_count": 33,
   "id": "aefb021d-c1b5-4c9b-8546-9ceff9c0c2a0",
   "metadata": {},
   "outputs": [],
   "source": [
    "measures[\"Choiseing Athelete\"] = measures[\"Average Athlete Medals.SUM\"] - measures[\"Average Team Medals.SUM\"]"
   ]
  },
  {
   "cell_type": "code",
   "execution_count": 34,
   "id": "af84e6b9-c036-49cf-91a2-86b752d1c9ec",
   "metadata": {},
   "outputs": [
    {
     "data": {
      "text/html": [
       "<div>\n",
       "<style scoped>\n",
       "    .dataframe tbody tr th:only-of-type {\n",
       "        vertical-align: middle;\n",
       "    }\n",
       "\n",
       "    .dataframe tbody tr th {\n",
       "        vertical-align: top;\n",
       "    }\n",
       "\n",
       "    .dataframe thead th {\n",
       "        text-align: right;\n",
       "    }\n",
       "</style>\n",
       "<table border=\"1\" class=\"dataframe\">\n",
       "  <thead>\n",
       "    <tr style=\"text-align: right;\">\n",
       "      <th></th>\n",
       "      <th>Choiseing Athelete</th>\n",
       "    </tr>\n",
       "    <tr>\n",
       "      <th>countrysize</th>\n",
       "      <th></th>\n",
       "    </tr>\n",
       "  </thead>\n",
       "  <tbody>\n",
       "    <tr>\n",
       "      <th>Large</th>\n",
       "      <td>137.82</td>\n",
       "    </tr>\n",
       "    <tr>\n",
       "      <th>Medium</th>\n",
       "      <td>120.53</td>\n",
       "    </tr>\n",
       "    <tr>\n",
       "      <th>Small</th>\n",
       "      <td>38.46</td>\n",
       "    </tr>\n",
       "  </tbody>\n",
       "</table>\n",
       "</div>"
      ],
      "text/plain": [
       "            Choiseing Athelete\n",
       "countrysize                   \n",
       "Large                   137.82\n",
       "Medium                  120.53\n",
       "Small                    38.46"
      ]
     },
     "execution_count": 34,
     "metadata": {},
     "output_type": "execute_result"
    }
   ],
   "source": [
    "cube.query(measures[\"Choiseing Athelete\"], levels=[levels[('CountrySize', 'countrysize','countrysize')] ])"
   ]
  },
  {
   "cell_type": "markdown",
   "id": "de45f1fb-a438-4a03-9f47-cc46be49ae97",
   "metadata": {},
   "source": [
    "## Query 5\n",
    "How many medals has the country that aces in individual sports won in their favorite sport?"
   ]
  },
  {
   "cell_type": "code",
   "execution_count": 35,
   "id": "f8bc97fa-efe0-41eb-8a77-891f64e73d56",
   "metadata": {},
   "outputs": [
    {
     "data": {
      "text/html": [
       "<div>\n",
       "<style scoped>\n",
       "    .dataframe tbody tr th:only-of-type {\n",
       "        vertical-align: middle;\n",
       "    }\n",
       "\n",
       "    .dataframe tbody tr th {\n",
       "        vertical-align: top;\n",
       "    }\n",
       "\n",
       "    .dataframe thead th {\n",
       "        text-align: right;\n",
       "    }\n",
       "</style>\n",
       "<table border=\"1\" class=\"dataframe\">\n",
       "  <thead>\n",
       "    <tr style=\"text-align: right;\">\n",
       "      <th></th>\n",
       "      <th></th>\n",
       "      <th></th>\n",
       "      <th>medel for strongest sport.SUM</th>\n",
       "    </tr>\n",
       "    <tr>\n",
       "      <th>region</th>\n",
       "      <th>country</th>\n",
       "      <th>sportlevel</th>\n",
       "      <th></th>\n",
       "    </tr>\n",
       "  </thead>\n",
       "  <tbody>\n",
       "    <tr>\n",
       "      <th rowspan=\"5\" valign=\"top\">Africa</th>\n",
       "      <th>Algeria</th>\n",
       "      <th>Poor</th>\n",
       "      <td>9</td>\n",
       "    </tr>\n",
       "    <tr>\n",
       "      <th>Angola</th>\n",
       "      <th>Poor</th>\n",
       "      <td>0</td>\n",
       "    </tr>\n",
       "    <tr>\n",
       "      <th>Benin</th>\n",
       "      <th>Poor</th>\n",
       "      <td>0</td>\n",
       "    </tr>\n",
       "    <tr>\n",
       "      <th>Botswana</th>\n",
       "      <th>Poor</th>\n",
       "      <td>2</td>\n",
       "    </tr>\n",
       "    <tr>\n",
       "      <th>Burkina Faso</th>\n",
       "      <th>Poor</th>\n",
       "      <td>1</td>\n",
       "    </tr>\n",
       "    <tr>\n",
       "      <th>...</th>\n",
       "      <th>...</th>\n",
       "      <th>...</th>\n",
       "      <td>...</td>\n",
       "    </tr>\n",
       "    <tr>\n",
       "      <th rowspan=\"5\" valign=\"top\">South America</th>\n",
       "      <th>Paraguay</th>\n",
       "      <th>Poor</th>\n",
       "      <td>1</td>\n",
       "    </tr>\n",
       "    <tr>\n",
       "      <th>Peru</th>\n",
       "      <th>Poor</th>\n",
       "      <td>3</td>\n",
       "    </tr>\n",
       "    <tr>\n",
       "      <th>Suriname</th>\n",
       "      <th>Poor</th>\n",
       "      <td>2</td>\n",
       "    </tr>\n",
       "    <tr>\n",
       "      <th>Uruguay</th>\n",
       "      <th>Poor</th>\n",
       "      <td>6</td>\n",
       "    </tr>\n",
       "    <tr>\n",
       "      <th>Venezuela</th>\n",
       "      <th>Poor</th>\n",
       "      <td>6</td>\n",
       "    </tr>\n",
       "  </tbody>\n",
       "</table>\n",
       "<p>234 rows × 1 columns</p>\n",
       "</div>"
      ],
      "text/plain": [
       "                                      medel for strongest sport.SUM\n",
       "region        country      sportlevel                              \n",
       "Africa        Algeria      Poor                                   9\n",
       "              Angola       Poor                                   0\n",
       "              Benin        Poor                                   0\n",
       "              Botswana     Poor                                   2\n",
       "              Burkina Faso Poor                                   1\n",
       "...                                                             ...\n",
       "South America Paraguay     Poor                                   1\n",
       "              Peru         Poor                                   3\n",
       "              Suriname     Poor                                   2\n",
       "              Uruguay      Poor                                   6\n",
       "              Venezuela    Poor                                   6\n",
       "\n",
       "[234 rows x 1 columns]"
      ]
     },
     "execution_count": 35,
     "metadata": {},
     "output_type": "execute_result"
    }
   ],
   "source": [
    "cube.query(measures['medel for strongest sport.SUM'], levels=[levels[('Region', 'Region','country')], levels[('sportslevel','sportlevel','sportlevel')]])"
   ]
  },
  {
   "cell_type": "markdown",
   "id": "8281cb2d-013a-4d57-abc4-f20cbcaaca17",
   "metadata": {},
   "source": [
    "## Presentation"
   ]
  },
  {
   "cell_type": "code",
   "execution_count": 36,
   "id": "70508704-ba4e-439d-84d2-f6078b52ef0a",
   "metadata": {
    "atoti": {
     "widget": {
      "mapping": {
       "columns": [
        "ALL_MEASURES"
       ],
       "measures": [
        "[Measures].[numberofhost.SUM]"
       ],
       "rows": [
        "[CountrySize].[countrysize].[countrysize]"
       ]
      },
      "query": {
       "mdx": "SELECT NON EMPTY Crossjoin(Hierarchize(Descendants({[CountrySize].[countrysize].[ALL].[AllMember]}, 1, SELF_AND_BEFORE)), Hierarchize(Descendants({[Region].[Region].[ALL].[AllMember]}, 2, SELF_AND_BEFORE))) DIMENSION PROPERTIES CHILDREN_CARDINALITY ON ROWS, NON EMPTY {[Measures].[numberofhost.SUM]} ON COLUMNS FROM [Medaleco] CELL PROPERTIES VALUE, FORMATTED_VALUE, BACK_COLOR, FORE_COLOR, FONT_FLAGS",
       "updateMode": "once"
      },
      "serverKey": "default",
      "widgetKey": "pivot-table"
     }
    }
   },
   "outputs": [
    {
     "data": {
      "application/vnd.atoti.widget.v0+json": {
       "sessionId": "1712679650_RIAE1P",
       "sessionLocation": {
        "https": false,
        "port": 9092
       },
       "widgetCreationCode": "session.widget"
      },
      "text/html": [
       "<img height=\"352\" width=\"1418\" src=\"data:image/png;base64,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\" />"
      ],
      "text/plain": [
       "Open the notebook in JupyterLab with the Atoti JupyterLab extension enabled to build this widget."
      ]
     },
     "metadata": {},
     "output_type": "display_data"
    }
   ],
   "source": [
    "session.widget"
   ]
  },
  {
   "cell_type": "code",
   "execution_count": 37,
   "id": "679b108a-e6ee-4bb9-ae66-f5503e318520",
   "metadata": {},
   "outputs": [
    {
     "data": {
      "application/vnd.atoti.link.v0+json": {
       "path": "",
       "sessionLocation": {
        "https": false,
        "port": 9092
       }
      },
      "text/markdown": [
       "http://localhost:9092\n",
       "\n",
       "_Note_: This is the session's local URL: it may not be reachable if Atoti is running on another machine."
      ],
      "text/plain": [
       "http://localhost:9092 (This is the session's local URL: it may not be reachable if Atoti is running on another machine.)"
      ]
     },
     "execution_count": 37,
     "metadata": {},
     "output_type": "execute_result"
    }
   ],
   "source": [
    "session.link"
   ]
  }
 ],
 "metadata": {
  "kernelspec": {
   "display_name": "Python 3 (ipykernel)",
   "language": "python",
   "name": "python3"
  },
  "language_info": {
   "codemirror_mode": {
    "name": "ipython",
    "version": 3
   },
   "file_extension": ".py",
   "mimetype": "text/x-python",
   "name": "python",
   "nbconvert_exporter": "python",
   "pygments_lexer": "ipython3",
   "version": "3.11.6"
  },
  "widgets": {
   "application/vnd.jupyter.widget-state+json": {
    "state": {},
    "version_major": 2,
    "version_minor": 0
   }
  }
 },
 "nbformat": 4,
 "nbformat_minor": 5
}
